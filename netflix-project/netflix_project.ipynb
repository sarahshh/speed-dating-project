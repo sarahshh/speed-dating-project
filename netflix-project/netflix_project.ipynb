{
 "cells": [
  {
   "cell_type": "markdown",
   "metadata": {},
   "source": [
    "# Netflix Project"
   ]
  },
  {
   "cell_type": "code",
   "execution_count": 17,
   "metadata": {},
   "outputs": [],
   "source": [
    "# Import libraries\n",
    "import pandas as pd\n",
    "import numpy as np\n",
    "import calendar\n",
    "import plotly.express as px\n",
    "import plotly.graph_objects as go\n",
    "\n",
    "pd.options.display.max_rows = 200"
   ]
  },
  {
   "cell_type": "code",
   "execution_count": 18,
   "metadata": {},
   "outputs": [],
   "source": [
    "# Load dataset\n",
    "netflix = pd.read_csv('netflix_titles.csv')"
   ]
  },
  {
   "cell_type": "markdown",
   "metadata": {},
   "source": [
    "## 0. Dataset Overview"
   ]
  },
  {
   "cell_type": "code",
   "execution_count": 19,
   "metadata": {},
   "outputs": [
    {
     "data": {
      "text/plain": [
       "(8807, 12)"
      ]
     },
     "execution_count": 19,
     "metadata": {},
     "output_type": "execute_result"
    }
   ],
   "source": [
    "# Check size of dataset\n",
    "netflix.shape"
   ]
  },
  {
   "cell_type": "code",
   "execution_count": 20,
   "metadata": {},
   "outputs": [
    {
     "data": {
      "text/html": [
       "<div>\n",
       "<style scoped>\n",
       "    .dataframe tbody tr th:only-of-type {\n",
       "        vertical-align: middle;\n",
       "    }\n",
       "\n",
       "    .dataframe tbody tr th {\n",
       "        vertical-align: top;\n",
       "    }\n",
       "\n",
       "    .dataframe thead th {\n",
       "        text-align: right;\n",
       "    }\n",
       "</style>\n",
       "<table border=\"1\" class=\"dataframe\">\n",
       "  <thead>\n",
       "    <tr style=\"text-align: right;\">\n",
       "      <th></th>\n",
       "      <th>show_id</th>\n",
       "      <th>type</th>\n",
       "      <th>title</th>\n",
       "      <th>director</th>\n",
       "      <th>cast</th>\n",
       "      <th>country</th>\n",
       "      <th>date_added</th>\n",
       "      <th>release_year</th>\n",
       "      <th>rating</th>\n",
       "      <th>duration</th>\n",
       "      <th>listed_in</th>\n",
       "      <th>description</th>\n",
       "    </tr>\n",
       "  </thead>\n",
       "  <tbody>\n",
       "    <tr>\n",
       "      <th>0</th>\n",
       "      <td>s1</td>\n",
       "      <td>Movie</td>\n",
       "      <td>Dick Johnson Is Dead</td>\n",
       "      <td>Kirsten Johnson</td>\n",
       "      <td>NaN</td>\n",
       "      <td>United States</td>\n",
       "      <td>September 25, 2021</td>\n",
       "      <td>2020</td>\n",
       "      <td>PG-13</td>\n",
       "      <td>90 min</td>\n",
       "      <td>Documentaries</td>\n",
       "      <td>As her father nears the end of his life, filmm...</td>\n",
       "    </tr>\n",
       "    <tr>\n",
       "      <th>1</th>\n",
       "      <td>s2</td>\n",
       "      <td>TV Show</td>\n",
       "      <td>Blood &amp; Water</td>\n",
       "      <td>NaN</td>\n",
       "      <td>Ama Qamata, Khosi Ngema, Gail Mabalane, Thaban...</td>\n",
       "      <td>South Africa</td>\n",
       "      <td>September 24, 2021</td>\n",
       "      <td>2021</td>\n",
       "      <td>TV-MA</td>\n",
       "      <td>2 Seasons</td>\n",
       "      <td>International TV Shows, TV Dramas, TV Mysteries</td>\n",
       "      <td>After crossing paths at a party, a Cape Town t...</td>\n",
       "    </tr>\n",
       "    <tr>\n",
       "      <th>2</th>\n",
       "      <td>s3</td>\n",
       "      <td>TV Show</td>\n",
       "      <td>Ganglands</td>\n",
       "      <td>Julien Leclercq</td>\n",
       "      <td>Sami Bouajila, Tracy Gotoas, Samuel Jouy, Nabi...</td>\n",
       "      <td>NaN</td>\n",
       "      <td>September 24, 2021</td>\n",
       "      <td>2021</td>\n",
       "      <td>TV-MA</td>\n",
       "      <td>1 Season</td>\n",
       "      <td>Crime TV Shows, International TV Shows, TV Act...</td>\n",
       "      <td>To protect his family from a powerful drug lor...</td>\n",
       "    </tr>\n",
       "    <tr>\n",
       "      <th>3</th>\n",
       "      <td>s4</td>\n",
       "      <td>TV Show</td>\n",
       "      <td>Jailbirds New Orleans</td>\n",
       "      <td>NaN</td>\n",
       "      <td>NaN</td>\n",
       "      <td>NaN</td>\n",
       "      <td>September 24, 2021</td>\n",
       "      <td>2021</td>\n",
       "      <td>TV-MA</td>\n",
       "      <td>1 Season</td>\n",
       "      <td>Docuseries, Reality TV</td>\n",
       "      <td>Feuds, flirtations and toilet talk go down amo...</td>\n",
       "    </tr>\n",
       "    <tr>\n",
       "      <th>4</th>\n",
       "      <td>s5</td>\n",
       "      <td>TV Show</td>\n",
       "      <td>Kota Factory</td>\n",
       "      <td>NaN</td>\n",
       "      <td>Mayur More, Jitendra Kumar, Ranjan Raj, Alam K...</td>\n",
       "      <td>India</td>\n",
       "      <td>September 24, 2021</td>\n",
       "      <td>2021</td>\n",
       "      <td>TV-MA</td>\n",
       "      <td>2 Seasons</td>\n",
       "      <td>International TV Shows, Romantic TV Shows, TV ...</td>\n",
       "      <td>In a city of coaching centers known to train I...</td>\n",
       "    </tr>\n",
       "  </tbody>\n",
       "</table>\n",
       "</div>"
      ],
      "text/plain": [
       "  show_id     type                  title         director  \\\n",
       "0      s1    Movie   Dick Johnson Is Dead  Kirsten Johnson   \n",
       "1      s2  TV Show          Blood & Water              NaN   \n",
       "2      s3  TV Show              Ganglands  Julien Leclercq   \n",
       "3      s4  TV Show  Jailbirds New Orleans              NaN   \n",
       "4      s5  TV Show           Kota Factory              NaN   \n",
       "\n",
       "                                                cast        country  \\\n",
       "0                                                NaN  United States   \n",
       "1  Ama Qamata, Khosi Ngema, Gail Mabalane, Thaban...   South Africa   \n",
       "2  Sami Bouajila, Tracy Gotoas, Samuel Jouy, Nabi...            NaN   \n",
       "3                                                NaN            NaN   \n",
       "4  Mayur More, Jitendra Kumar, Ranjan Raj, Alam K...          India   \n",
       "\n",
       "           date_added  release_year rating   duration  \\\n",
       "0  September 25, 2021          2020  PG-13     90 min   \n",
       "1  September 24, 2021          2021  TV-MA  2 Seasons   \n",
       "2  September 24, 2021          2021  TV-MA   1 Season   \n",
       "3  September 24, 2021          2021  TV-MA   1 Season   \n",
       "4  September 24, 2021          2021  TV-MA  2 Seasons   \n",
       "\n",
       "                                           listed_in  \\\n",
       "0                                      Documentaries   \n",
       "1    International TV Shows, TV Dramas, TV Mysteries   \n",
       "2  Crime TV Shows, International TV Shows, TV Act...   \n",
       "3                             Docuseries, Reality TV   \n",
       "4  International TV Shows, Romantic TV Shows, TV ...   \n",
       "\n",
       "                                         description  \n",
       "0  As her father nears the end of his life, filmm...  \n",
       "1  After crossing paths at a party, a Cape Town t...  \n",
       "2  To protect his family from a powerful drug lor...  \n",
       "3  Feuds, flirtations and toilet talk go down amo...  \n",
       "4  In a city of coaching centers known to train I...  "
      ]
     },
     "execution_count": 20,
     "metadata": {},
     "output_type": "execute_result"
    }
   ],
   "source": [
    "# Check first 5 rows\n",
    "netflix.head()"
   ]
  },
  {
   "cell_type": "code",
   "execution_count": 21,
   "metadata": {},
   "outputs": [
    {
     "data": {
      "text/html": [
       "<div>\n",
       "<style scoped>\n",
       "    .dataframe tbody tr th:only-of-type {\n",
       "        vertical-align: middle;\n",
       "    }\n",
       "\n",
       "    .dataframe tbody tr th {\n",
       "        vertical-align: top;\n",
       "    }\n",
       "\n",
       "    .dataframe thead th {\n",
       "        text-align: right;\n",
       "    }\n",
       "</style>\n",
       "<table border=\"1\" class=\"dataframe\">\n",
       "  <thead>\n",
       "    <tr style=\"text-align: right;\">\n",
       "      <th></th>\n",
       "      <th>show_id</th>\n",
       "      <th>type</th>\n",
       "      <th>title</th>\n",
       "      <th>director</th>\n",
       "      <th>cast</th>\n",
       "      <th>country</th>\n",
       "      <th>date_added</th>\n",
       "      <th>release_year</th>\n",
       "      <th>rating</th>\n",
       "      <th>duration</th>\n",
       "      <th>listed_in</th>\n",
       "      <th>description</th>\n",
       "    </tr>\n",
       "  </thead>\n",
       "  <tbody>\n",
       "    <tr>\n",
       "      <th>count</th>\n",
       "      <td>8807</td>\n",
       "      <td>8807</td>\n",
       "      <td>8807</td>\n",
       "      <td>6173</td>\n",
       "      <td>7982</td>\n",
       "      <td>7976</td>\n",
       "      <td>8797</td>\n",
       "      <td>8807.000000</td>\n",
       "      <td>8803</td>\n",
       "      <td>8804</td>\n",
       "      <td>8807</td>\n",
       "      <td>8807</td>\n",
       "    </tr>\n",
       "    <tr>\n",
       "      <th>unique</th>\n",
       "      <td>8807</td>\n",
       "      <td>2</td>\n",
       "      <td>8807</td>\n",
       "      <td>4528</td>\n",
       "      <td>7692</td>\n",
       "      <td>748</td>\n",
       "      <td>1767</td>\n",
       "      <td>NaN</td>\n",
       "      <td>17</td>\n",
       "      <td>220</td>\n",
       "      <td>514</td>\n",
       "      <td>8775</td>\n",
       "    </tr>\n",
       "    <tr>\n",
       "      <th>top</th>\n",
       "      <td>s1</td>\n",
       "      <td>Movie</td>\n",
       "      <td>Dick Johnson Is Dead</td>\n",
       "      <td>Rajiv Chilaka</td>\n",
       "      <td>David Attenborough</td>\n",
       "      <td>United States</td>\n",
       "      <td>January 1, 2020</td>\n",
       "      <td>NaN</td>\n",
       "      <td>TV-MA</td>\n",
       "      <td>1 Season</td>\n",
       "      <td>Dramas, International Movies</td>\n",
       "      <td>Paranormal activity at a lush, abandoned prope...</td>\n",
       "    </tr>\n",
       "    <tr>\n",
       "      <th>freq</th>\n",
       "      <td>1</td>\n",
       "      <td>6131</td>\n",
       "      <td>1</td>\n",
       "      <td>19</td>\n",
       "      <td>19</td>\n",
       "      <td>2818</td>\n",
       "      <td>109</td>\n",
       "      <td>NaN</td>\n",
       "      <td>3207</td>\n",
       "      <td>1793</td>\n",
       "      <td>362</td>\n",
       "      <td>4</td>\n",
       "    </tr>\n",
       "    <tr>\n",
       "      <th>mean</th>\n",
       "      <td>NaN</td>\n",
       "      <td>NaN</td>\n",
       "      <td>NaN</td>\n",
       "      <td>NaN</td>\n",
       "      <td>NaN</td>\n",
       "      <td>NaN</td>\n",
       "      <td>NaN</td>\n",
       "      <td>2014.180198</td>\n",
       "      <td>NaN</td>\n",
       "      <td>NaN</td>\n",
       "      <td>NaN</td>\n",
       "      <td>NaN</td>\n",
       "    </tr>\n",
       "    <tr>\n",
       "      <th>std</th>\n",
       "      <td>NaN</td>\n",
       "      <td>NaN</td>\n",
       "      <td>NaN</td>\n",
       "      <td>NaN</td>\n",
       "      <td>NaN</td>\n",
       "      <td>NaN</td>\n",
       "      <td>NaN</td>\n",
       "      <td>8.819312</td>\n",
       "      <td>NaN</td>\n",
       "      <td>NaN</td>\n",
       "      <td>NaN</td>\n",
       "      <td>NaN</td>\n",
       "    </tr>\n",
       "    <tr>\n",
       "      <th>min</th>\n",
       "      <td>NaN</td>\n",
       "      <td>NaN</td>\n",
       "      <td>NaN</td>\n",
       "      <td>NaN</td>\n",
       "      <td>NaN</td>\n",
       "      <td>NaN</td>\n",
       "      <td>NaN</td>\n",
       "      <td>1925.000000</td>\n",
       "      <td>NaN</td>\n",
       "      <td>NaN</td>\n",
       "      <td>NaN</td>\n",
       "      <td>NaN</td>\n",
       "    </tr>\n",
       "    <tr>\n",
       "      <th>25%</th>\n",
       "      <td>NaN</td>\n",
       "      <td>NaN</td>\n",
       "      <td>NaN</td>\n",
       "      <td>NaN</td>\n",
       "      <td>NaN</td>\n",
       "      <td>NaN</td>\n",
       "      <td>NaN</td>\n",
       "      <td>2013.000000</td>\n",
       "      <td>NaN</td>\n",
       "      <td>NaN</td>\n",
       "      <td>NaN</td>\n",
       "      <td>NaN</td>\n",
       "    </tr>\n",
       "    <tr>\n",
       "      <th>50%</th>\n",
       "      <td>NaN</td>\n",
       "      <td>NaN</td>\n",
       "      <td>NaN</td>\n",
       "      <td>NaN</td>\n",
       "      <td>NaN</td>\n",
       "      <td>NaN</td>\n",
       "      <td>NaN</td>\n",
       "      <td>2017.000000</td>\n",
       "      <td>NaN</td>\n",
       "      <td>NaN</td>\n",
       "      <td>NaN</td>\n",
       "      <td>NaN</td>\n",
       "    </tr>\n",
       "    <tr>\n",
       "      <th>75%</th>\n",
       "      <td>NaN</td>\n",
       "      <td>NaN</td>\n",
       "      <td>NaN</td>\n",
       "      <td>NaN</td>\n",
       "      <td>NaN</td>\n",
       "      <td>NaN</td>\n",
       "      <td>NaN</td>\n",
       "      <td>2019.000000</td>\n",
       "      <td>NaN</td>\n",
       "      <td>NaN</td>\n",
       "      <td>NaN</td>\n",
       "      <td>NaN</td>\n",
       "    </tr>\n",
       "    <tr>\n",
       "      <th>max</th>\n",
       "      <td>NaN</td>\n",
       "      <td>NaN</td>\n",
       "      <td>NaN</td>\n",
       "      <td>NaN</td>\n",
       "      <td>NaN</td>\n",
       "      <td>NaN</td>\n",
       "      <td>NaN</td>\n",
       "      <td>2021.000000</td>\n",
       "      <td>NaN</td>\n",
       "      <td>NaN</td>\n",
       "      <td>NaN</td>\n",
       "      <td>NaN</td>\n",
       "    </tr>\n",
       "  </tbody>\n",
       "</table>\n",
       "</div>"
      ],
      "text/plain": [
       "       show_id   type                 title       director  \\\n",
       "count     8807   8807                  8807           6173   \n",
       "unique    8807      2                  8807           4528   \n",
       "top         s1  Movie  Dick Johnson Is Dead  Rajiv Chilaka   \n",
       "freq         1   6131                     1             19   \n",
       "mean       NaN    NaN                   NaN            NaN   \n",
       "std        NaN    NaN                   NaN            NaN   \n",
       "min        NaN    NaN                   NaN            NaN   \n",
       "25%        NaN    NaN                   NaN            NaN   \n",
       "50%        NaN    NaN                   NaN            NaN   \n",
       "75%        NaN    NaN                   NaN            NaN   \n",
       "max        NaN    NaN                   NaN            NaN   \n",
       "\n",
       "                      cast        country       date_added  release_year  \\\n",
       "count                 7982           7976             8797   8807.000000   \n",
       "unique                7692            748             1767           NaN   \n",
       "top     David Attenborough  United States  January 1, 2020           NaN   \n",
       "freq                    19           2818              109           NaN   \n",
       "mean                   NaN            NaN              NaN   2014.180198   \n",
       "std                    NaN            NaN              NaN      8.819312   \n",
       "min                    NaN            NaN              NaN   1925.000000   \n",
       "25%                    NaN            NaN              NaN   2013.000000   \n",
       "50%                    NaN            NaN              NaN   2017.000000   \n",
       "75%                    NaN            NaN              NaN   2019.000000   \n",
       "max                    NaN            NaN              NaN   2021.000000   \n",
       "\n",
       "       rating  duration                     listed_in  \\\n",
       "count    8803      8804                          8807   \n",
       "unique     17       220                           514   \n",
       "top     TV-MA  1 Season  Dramas, International Movies   \n",
       "freq     3207      1793                           362   \n",
       "mean      NaN       NaN                           NaN   \n",
       "std       NaN       NaN                           NaN   \n",
       "min       NaN       NaN                           NaN   \n",
       "25%       NaN       NaN                           NaN   \n",
       "50%       NaN       NaN                           NaN   \n",
       "75%       NaN       NaN                           NaN   \n",
       "max       NaN       NaN                           NaN   \n",
       "\n",
       "                                              description  \n",
       "count                                                8807  \n",
       "unique                                               8775  \n",
       "top     Paranormal activity at a lush, abandoned prope...  \n",
       "freq                                                    4  \n",
       "mean                                                  NaN  \n",
       "std                                                   NaN  \n",
       "min                                                   NaN  \n",
       "25%                                                   NaN  \n",
       "50%                                                   NaN  \n",
       "75%                                                   NaN  \n",
       "max                                                   NaN  "
      ]
     },
     "execution_count": 21,
     "metadata": {},
     "output_type": "execute_result"
    }
   ],
   "source": [
    "# Statistics about dataset\n",
    "netflix.describe(include='all')"
   ]
  },
  {
   "cell_type": "code",
   "execution_count": 22,
   "metadata": {},
   "outputs": [
    {
     "data": {
      "text/plain": [
       "show_id            0\n",
       "type               0\n",
       "title              0\n",
       "director        2634\n",
       "cast             825\n",
       "country          831\n",
       "date_added        10\n",
       "release_year       0\n",
       "rating             4\n",
       "duration           3\n",
       "listed_in          0\n",
       "description        0\n",
       "dtype: int64"
      ]
     },
     "execution_count": 22,
     "metadata": {},
     "output_type": "execute_result"
    }
   ],
   "source": [
    "# Check na values\n",
    "netflix.isna().sum()"
   ]
  },
  {
   "cell_type": "code",
   "execution_count": 23,
   "metadata": {},
   "outputs": [
    {
     "name": "stdout",
     "output_type": "stream",
     "text": [
      "<class 'pandas.core.frame.DataFrame'>\n",
      "RangeIndex: 8807 entries, 0 to 8806\n",
      "Data columns (total 12 columns):\n",
      " #   Column        Non-Null Count  Dtype \n",
      "---  ------        --------------  ----- \n",
      " 0   show_id       8807 non-null   object\n",
      " 1   type          8807 non-null   object\n",
      " 2   title         8807 non-null   object\n",
      " 3   director      6173 non-null   object\n",
      " 4   cast          7982 non-null   object\n",
      " 5   country       7976 non-null   object\n",
      " 6   date_added    8797 non-null   object\n",
      " 7   release_year  8807 non-null   int64 \n",
      " 8   rating        8803 non-null   object\n",
      " 9   duration      8804 non-null   object\n",
      " 10  listed_in     8807 non-null   object\n",
      " 11  description   8807 non-null   object\n",
      "dtypes: int64(1), object(11)\n",
      "memory usage: 825.8+ KB\n"
     ]
    }
   ],
   "source": [
    "# Check data types\n",
    "netflix.info()"
   ]
  },
  {
   "cell_type": "code",
   "execution_count": 24,
   "metadata": {},
   "outputs": [
    {
     "data": {
      "text/plain": [
       "show_id                 object\n",
       "type                    object\n",
       "title                   object\n",
       "director                object\n",
       "cast                    object\n",
       "country                 object\n",
       "date_added      datetime64[ns]\n",
       "release_year             int64\n",
       "rating                  object\n",
       "duration                object\n",
       "listed_in               object\n",
       "description             object\n",
       "dtype: object"
      ]
     },
     "execution_count": 24,
     "metadata": {},
     "output_type": "execute_result"
    }
   ],
   "source": [
    "# Update the data types and check\n",
    "netflix['date_added'] = netflix['date_added'].str.strip() # remove leading and trailing spaces from date_added column\n",
    "netflix['date_added'] = pd.to_datetime(netflix['date_added'])\n",
    "netflix.dtypes"
   ]
  },
  {
   "cell_type": "code",
   "execution_count": 25,
   "metadata": {},
   "outputs": [
    {
     "data": {
      "text/plain": [
       "count                             8797\n",
       "mean     2019-05-17 05:59:08.436967168\n",
       "min                2008-01-01 00:00:00\n",
       "25%                2018-04-06 00:00:00\n",
       "50%                2019-07-02 00:00:00\n",
       "75%                2020-08-19 00:00:00\n",
       "max                2021-09-25 00:00:00\n",
       "Name: date_added, dtype: object"
      ]
     },
     "execution_count": 25,
     "metadata": {},
     "output_type": "execute_result"
    }
   ],
   "source": [
    "# Get min and max dates \n",
    "netflix['date_added'].describe() # January 2008 to September 2021"
   ]
  },
  {
   "cell_type": "markdown",
   "metadata": {},
   "source": [
    "## 1. Genres on the platform"
   ]
  },
  {
   "cell_type": "code",
   "execution_count": 26,
   "metadata": {},
   "outputs": [
    {
     "name": "stdout",
     "output_type": "stream",
     "text": [
      "The list of unique genres on Netflix is: ['Action & Adventure', 'Anime Features', 'Anime Series', 'British TV Shows', 'Children & Family Movies', 'Classic & Cult TV', 'Classic Movies', 'Comedies', 'Crime TV Shows', 'Cult Movies', 'Documentaries', 'Docuseries', 'Dramas', 'Faith & Spirituality', 'Horror Movies', 'Independent Movies', 'International Movies', 'International TV Shows', \"Kids' TV\", 'Korean TV Shows', 'LGBTQ Movies', 'Movies', 'Music & Musicals', 'Reality TV', 'Romantic Movies', 'Romantic TV Shows', 'Sci-Fi & Fantasy', 'Science & Nature TV', 'Spanish-Language TV Shows', 'Sports Movies', 'Stand-Up Comedy', 'Stand-Up Comedy & Talk Shows', 'TV Action & Adventure', 'TV Comedies', 'TV Dramas', 'TV Horror', 'TV Mysteries', 'TV Sci-Fi & Fantasy', 'TV Shows', 'TV Thrillers', 'Teen TV Shows', 'Thrillers']\n",
      "The number of unique genres on Netflix is: 42\n"
     ]
    }
   ],
   "source": [
    "# Data cleaning and processing\n",
    "# Split the listed_in column to have all the genres\n",
    "netflix['genre_list'] = netflix['listed_in'].str.split(', ')\n",
    "netflix_exploded_1 = netflix.explode('genre_list') # each row corresponds to a single genre for a content release\n",
    "unique_genres = netflix_exploded_1['genre_list'].unique().tolist()\n",
    "unique_genres.sort()\n",
    "print(\"The list of unique genres on Netflix is:\", unique_genres)\n",
    "print(\"The number of unique genres on Netflix is:\", len(unique_genres)) # 42 distinct genres"
   ]
  },
  {
   "cell_type": "code",
   "execution_count": 27,
   "metadata": {},
   "outputs": [
    {
     "data": {
      "application/vnd.plotly.v1+json": {
       "config": {
        "plotlyServerURL": "https://plot.ly"
       },
       "data": [
        {
         "alignmentgroup": "True",
         "hovertemplate": "num_shows=%{x}<br>genre=%{y}<extra></extra>",
         "legendgroup": "",
         "marker": {
          "color": "purple",
          "pattern": {
           "shape": ""
          }
         },
         "name": "",
         "offsetgroup": "",
         "orientation": "h",
         "showlegend": false,
         "textposition": "auto",
         "type": "bar",
         "x": [
          2752,
          2427,
          1674,
          1351,
          869,
          859,
          763,
          756,
          641
         ],
         "xaxis": "x",
         "y": [
          "International Movies",
          "Dramas",
          "Comedies",
          "International TV Shows",
          "Documentaries",
          "Action & Adventure",
          "TV Dramas",
          "Independent Movies",
          "Children & Family Movies"
         ],
         "yaxis": "y"
        }
       ],
       "layout": {
        "autosize": false,
        "barmode": "relative",
        "legend": {
         "tracegroupgap": 0
        },
        "showlegend": false,
        "template": {
         "data": {
          "bar": [
           {
            "error_x": {
             "color": "#2a3f5f"
            },
            "error_y": {
             "color": "#2a3f5f"
            },
            "marker": {
             "line": {
              "color": "#E5ECF6",
              "width": 0.5
             },
             "pattern": {
              "fillmode": "overlay",
              "size": 10,
              "solidity": 0.2
             }
            },
            "type": "bar"
           }
          ],
          "barpolar": [
           {
            "marker": {
             "line": {
              "color": "#E5ECF6",
              "width": 0.5
             },
             "pattern": {
              "fillmode": "overlay",
              "size": 10,
              "solidity": 0.2
             }
            },
            "type": "barpolar"
           }
          ],
          "carpet": [
           {
            "aaxis": {
             "endlinecolor": "#2a3f5f",
             "gridcolor": "white",
             "linecolor": "white",
             "minorgridcolor": "white",
             "startlinecolor": "#2a3f5f"
            },
            "baxis": {
             "endlinecolor": "#2a3f5f",
             "gridcolor": "white",
             "linecolor": "white",
             "minorgridcolor": "white",
             "startlinecolor": "#2a3f5f"
            },
            "type": "carpet"
           }
          ],
          "choropleth": [
           {
            "colorbar": {
             "outlinewidth": 0,
             "ticks": ""
            },
            "type": "choropleth"
           }
          ],
          "contour": [
           {
            "colorbar": {
             "outlinewidth": 0,
             "ticks": ""
            },
            "colorscale": [
             [
              0,
              "#0d0887"
             ],
             [
              0.1111111111111111,
              "#46039f"
             ],
             [
              0.2222222222222222,
              "#7201a8"
             ],
             [
              0.3333333333333333,
              "#9c179e"
             ],
             [
              0.4444444444444444,
              "#bd3786"
             ],
             [
              0.5555555555555556,
              "#d8576b"
             ],
             [
              0.6666666666666666,
              "#ed7953"
             ],
             [
              0.7777777777777778,
              "#fb9f3a"
             ],
             [
              0.8888888888888888,
              "#fdca26"
             ],
             [
              1,
              "#f0f921"
             ]
            ],
            "type": "contour"
           }
          ],
          "contourcarpet": [
           {
            "colorbar": {
             "outlinewidth": 0,
             "ticks": ""
            },
            "type": "contourcarpet"
           }
          ],
          "heatmap": [
           {
            "colorbar": {
             "outlinewidth": 0,
             "ticks": ""
            },
            "colorscale": [
             [
              0,
              "#0d0887"
             ],
             [
              0.1111111111111111,
              "#46039f"
             ],
             [
              0.2222222222222222,
              "#7201a8"
             ],
             [
              0.3333333333333333,
              "#9c179e"
             ],
             [
              0.4444444444444444,
              "#bd3786"
             ],
             [
              0.5555555555555556,
              "#d8576b"
             ],
             [
              0.6666666666666666,
              "#ed7953"
             ],
             [
              0.7777777777777778,
              "#fb9f3a"
             ],
             [
              0.8888888888888888,
              "#fdca26"
             ],
             [
              1,
              "#f0f921"
             ]
            ],
            "type": "heatmap"
           }
          ],
          "heatmapgl": [
           {
            "colorbar": {
             "outlinewidth": 0,
             "ticks": ""
            },
            "colorscale": [
             [
              0,
              "#0d0887"
             ],
             [
              0.1111111111111111,
              "#46039f"
             ],
             [
              0.2222222222222222,
              "#7201a8"
             ],
             [
              0.3333333333333333,
              "#9c179e"
             ],
             [
              0.4444444444444444,
              "#bd3786"
             ],
             [
              0.5555555555555556,
              "#d8576b"
             ],
             [
              0.6666666666666666,
              "#ed7953"
             ],
             [
              0.7777777777777778,
              "#fb9f3a"
             ],
             [
              0.8888888888888888,
              "#fdca26"
             ],
             [
              1,
              "#f0f921"
             ]
            ],
            "type": "heatmapgl"
           }
          ],
          "histogram": [
           {
            "marker": {
             "pattern": {
              "fillmode": "overlay",
              "size": 10,
              "solidity": 0.2
             }
            },
            "type": "histogram"
           }
          ],
          "histogram2d": [
           {
            "colorbar": {
             "outlinewidth": 0,
             "ticks": ""
            },
            "colorscale": [
             [
              0,
              "#0d0887"
             ],
             [
              0.1111111111111111,
              "#46039f"
             ],
             [
              0.2222222222222222,
              "#7201a8"
             ],
             [
              0.3333333333333333,
              "#9c179e"
             ],
             [
              0.4444444444444444,
              "#bd3786"
             ],
             [
              0.5555555555555556,
              "#d8576b"
             ],
             [
              0.6666666666666666,
              "#ed7953"
             ],
             [
              0.7777777777777778,
              "#fb9f3a"
             ],
             [
              0.8888888888888888,
              "#fdca26"
             ],
             [
              1,
              "#f0f921"
             ]
            ],
            "type": "histogram2d"
           }
          ],
          "histogram2dcontour": [
           {
            "colorbar": {
             "outlinewidth": 0,
             "ticks": ""
            },
            "colorscale": [
             [
              0,
              "#0d0887"
             ],
             [
              0.1111111111111111,
              "#46039f"
             ],
             [
              0.2222222222222222,
              "#7201a8"
             ],
             [
              0.3333333333333333,
              "#9c179e"
             ],
             [
              0.4444444444444444,
              "#bd3786"
             ],
             [
              0.5555555555555556,
              "#d8576b"
             ],
             [
              0.6666666666666666,
              "#ed7953"
             ],
             [
              0.7777777777777778,
              "#fb9f3a"
             ],
             [
              0.8888888888888888,
              "#fdca26"
             ],
             [
              1,
              "#f0f921"
             ]
            ],
            "type": "histogram2dcontour"
           }
          ],
          "mesh3d": [
           {
            "colorbar": {
             "outlinewidth": 0,
             "ticks": ""
            },
            "type": "mesh3d"
           }
          ],
          "parcoords": [
           {
            "line": {
             "colorbar": {
              "outlinewidth": 0,
              "ticks": ""
             }
            },
            "type": "parcoords"
           }
          ],
          "pie": [
           {
            "automargin": true,
            "type": "pie"
           }
          ],
          "scatter": [
           {
            "fillpattern": {
             "fillmode": "overlay",
             "size": 10,
             "solidity": 0.2
            },
            "type": "scatter"
           }
          ],
          "scatter3d": [
           {
            "line": {
             "colorbar": {
              "outlinewidth": 0,
              "ticks": ""
             }
            },
            "marker": {
             "colorbar": {
              "outlinewidth": 0,
              "ticks": ""
             }
            },
            "type": "scatter3d"
           }
          ],
          "scattercarpet": [
           {
            "marker": {
             "colorbar": {
              "outlinewidth": 0,
              "ticks": ""
             }
            },
            "type": "scattercarpet"
           }
          ],
          "scattergeo": [
           {
            "marker": {
             "colorbar": {
              "outlinewidth": 0,
              "ticks": ""
             }
            },
            "type": "scattergeo"
           }
          ],
          "scattergl": [
           {
            "marker": {
             "colorbar": {
              "outlinewidth": 0,
              "ticks": ""
             }
            },
            "type": "scattergl"
           }
          ],
          "scattermapbox": [
           {
            "marker": {
             "colorbar": {
              "outlinewidth": 0,
              "ticks": ""
             }
            },
            "type": "scattermapbox"
           }
          ],
          "scatterpolar": [
           {
            "marker": {
             "colorbar": {
              "outlinewidth": 0,
              "ticks": ""
             }
            },
            "type": "scatterpolar"
           }
          ],
          "scatterpolargl": [
           {
            "marker": {
             "colorbar": {
              "outlinewidth": 0,
              "ticks": ""
             }
            },
            "type": "scatterpolargl"
           }
          ],
          "scatterternary": [
           {
            "marker": {
             "colorbar": {
              "outlinewidth": 0,
              "ticks": ""
             }
            },
            "type": "scatterternary"
           }
          ],
          "surface": [
           {
            "colorbar": {
             "outlinewidth": 0,
             "ticks": ""
            },
            "colorscale": [
             [
              0,
              "#0d0887"
             ],
             [
              0.1111111111111111,
              "#46039f"
             ],
             [
              0.2222222222222222,
              "#7201a8"
             ],
             [
              0.3333333333333333,
              "#9c179e"
             ],
             [
              0.4444444444444444,
              "#bd3786"
             ],
             [
              0.5555555555555556,
              "#d8576b"
             ],
             [
              0.6666666666666666,
              "#ed7953"
             ],
             [
              0.7777777777777778,
              "#fb9f3a"
             ],
             [
              0.8888888888888888,
              "#fdca26"
             ],
             [
              1,
              "#f0f921"
             ]
            ],
            "type": "surface"
           }
          ],
          "table": [
           {
            "cells": {
             "fill": {
              "color": "#EBF0F8"
             },
             "line": {
              "color": "white"
             }
            },
            "header": {
             "fill": {
              "color": "#C8D4E3"
             },
             "line": {
              "color": "white"
             }
            },
            "type": "table"
           }
          ]
         },
         "layout": {
          "annotationdefaults": {
           "arrowcolor": "#2a3f5f",
           "arrowhead": 0,
           "arrowwidth": 1
          },
          "autotypenumbers": "strict",
          "coloraxis": {
           "colorbar": {
            "outlinewidth": 0,
            "ticks": ""
           }
          },
          "colorscale": {
           "diverging": [
            [
             0,
             "#8e0152"
            ],
            [
             0.1,
             "#c51b7d"
            ],
            [
             0.2,
             "#de77ae"
            ],
            [
             0.3,
             "#f1b6da"
            ],
            [
             0.4,
             "#fde0ef"
            ],
            [
             0.5,
             "#f7f7f7"
            ],
            [
             0.6,
             "#e6f5d0"
            ],
            [
             0.7,
             "#b8e186"
            ],
            [
             0.8,
             "#7fbc41"
            ],
            [
             0.9,
             "#4d9221"
            ],
            [
             1,
             "#276419"
            ]
           ],
           "sequential": [
            [
             0,
             "#0d0887"
            ],
            [
             0.1111111111111111,
             "#46039f"
            ],
            [
             0.2222222222222222,
             "#7201a8"
            ],
            [
             0.3333333333333333,
             "#9c179e"
            ],
            [
             0.4444444444444444,
             "#bd3786"
            ],
            [
             0.5555555555555556,
             "#d8576b"
            ],
            [
             0.6666666666666666,
             "#ed7953"
            ],
            [
             0.7777777777777778,
             "#fb9f3a"
            ],
            [
             0.8888888888888888,
             "#fdca26"
            ],
            [
             1,
             "#f0f921"
            ]
           ],
           "sequentialminus": [
            [
             0,
             "#0d0887"
            ],
            [
             0.1111111111111111,
             "#46039f"
            ],
            [
             0.2222222222222222,
             "#7201a8"
            ],
            [
             0.3333333333333333,
             "#9c179e"
            ],
            [
             0.4444444444444444,
             "#bd3786"
            ],
            [
             0.5555555555555556,
             "#d8576b"
            ],
            [
             0.6666666666666666,
             "#ed7953"
            ],
            [
             0.7777777777777778,
             "#fb9f3a"
            ],
            [
             0.8888888888888888,
             "#fdca26"
            ],
            [
             1,
             "#f0f921"
            ]
           ]
          },
          "colorway": [
           "#636efa",
           "#EF553B",
           "#00cc96",
           "#ab63fa",
           "#FFA15A",
           "#19d3f3",
           "#FF6692",
           "#B6E880",
           "#FF97FF",
           "#FECB52"
          ],
          "font": {
           "color": "#2a3f5f"
          },
          "geo": {
           "bgcolor": "white",
           "lakecolor": "white",
           "landcolor": "#E5ECF6",
           "showlakes": true,
           "showland": true,
           "subunitcolor": "white"
          },
          "hoverlabel": {
           "align": "left"
          },
          "hovermode": "closest",
          "mapbox": {
           "style": "light"
          },
          "paper_bgcolor": "white",
          "plot_bgcolor": "#E5ECF6",
          "polar": {
           "angularaxis": {
            "gridcolor": "white",
            "linecolor": "white",
            "ticks": ""
           },
           "bgcolor": "#E5ECF6",
           "radialaxis": {
            "gridcolor": "white",
            "linecolor": "white",
            "ticks": ""
           }
          },
          "scene": {
           "xaxis": {
            "backgroundcolor": "#E5ECF6",
            "gridcolor": "white",
            "gridwidth": 2,
            "linecolor": "white",
            "showbackground": true,
            "ticks": "",
            "zerolinecolor": "white"
           },
           "yaxis": {
            "backgroundcolor": "#E5ECF6",
            "gridcolor": "white",
            "gridwidth": 2,
            "linecolor": "white",
            "showbackground": true,
            "ticks": "",
            "zerolinecolor": "white"
           },
           "zaxis": {
            "backgroundcolor": "#E5ECF6",
            "gridcolor": "white",
            "gridwidth": 2,
            "linecolor": "white",
            "showbackground": true,
            "ticks": "",
            "zerolinecolor": "white"
           }
          },
          "shapedefaults": {
           "line": {
            "color": "#2a3f5f"
           }
          },
          "ternary": {
           "aaxis": {
            "gridcolor": "white",
            "linecolor": "white",
            "ticks": ""
           },
           "baxis": {
            "gridcolor": "white",
            "linecolor": "white",
            "ticks": ""
           },
           "bgcolor": "#E5ECF6",
           "caxis": {
            "gridcolor": "white",
            "linecolor": "white",
            "ticks": ""
           }
          },
          "title": {
           "x": 0.05
          },
          "xaxis": {
           "automargin": true,
           "gridcolor": "white",
           "linecolor": "white",
           "ticks": "",
           "title": {
            "standoff": 15
           },
           "zerolinecolor": "white",
           "zerolinewidth": 2
          },
          "yaxis": {
           "automargin": true,
           "gridcolor": "white",
           "linecolor": "white",
           "ticks": "",
           "title": {
            "standoff": 15
           },
           "zerolinecolor": "white",
           "zerolinewidth": 2
          }
         }
        },
        "title": {
         "text": "Top 10 genres by number of shows on Netflix"
        },
        "xaxis": {
         "anchor": "y",
         "domain": [
          0,
          1
         ],
         "title": {
          "text": "Number of shows"
         }
        },
        "yaxis": {
         "anchor": "x",
         "categoryarray": [
          "TV Shows",
          "Classic & Cult TV",
          "Stand-Up Comedy & Talk Shows",
          "Movies",
          "TV Thrillers",
          "Faith & Spirituality",
          "Teen TV Shows",
          "Cult Movies",
          "Anime Features",
          "TV Horror",
          "TV Sci-Fi & Fantasy",
          "Science & Nature TV",
          "TV Mysteries",
          "LGBTQ Movies",
          "Classic Movies",
          "Korean TV Shows",
          "TV Action & Adventure",
          "Spanish-Language TV Shows",
          "Anime Series",
          "Sports Movies",
          "Sci-Fi & Fantasy",
          "British TV Shows",
          "Reality TV",
          "Stand-Up Comedy",
          "Horror Movies",
          "Romantic TV Shows",
          "Music & Musicals",
          "Docuseries",
          "Kids' TV",
          "Crime TV Shows",
          "Thrillers",
          "TV Comedies",
          "Romantic Movies",
          "Children & Family Movies",
          "Independent Movies",
          "TV Dramas",
          "Action & Adventure",
          "Documentaries",
          "International TV Shows",
          "Comedies",
          "Dramas",
          "International Movies"
         ],
         "categoryorder": "array",
         "domain": [
          0,
          1
         ],
         "title": {
          "text": "genre"
         }
        }
       }
      }
     },
     "metadata": {},
     "output_type": "display_data"
    }
   ],
   "source": [
    "# Visualization\n",
    "genre_counts = netflix_exploded_1['genre_list'].value_counts().reset_index()\n",
    "genre_counts.columns = ['genre', 'num_shows']\n",
    "genre_counts\n",
    "\n",
    "fig = px.bar(genre_counts.iloc[0:9, :], y='genre', x='num_shows', orientation='h', color_discrete_sequence=[\"purple\"],\n",
    "       category_orders= {'genre': genre_counts['genre'].tolist()}, title='Top 10 genres by number of shows on Netflix')\n",
    "\n",
    "fig.update_layout(xaxis_title='Number of shows', showlegend=False, autosize=False)\n",
    "fig.show()\n"
   ]
  },
  {
   "cell_type": "markdown",
   "metadata": {},
   "source": [
    "Observations:\n",
    "- We can see that the top genre is International Movies, which correspond to movies produced outside the USA with predominantly non-English dialogue track. It's not surprising as Neftlix is streaming worldwide so they need to include international movies to meet the needs of their non-US customer base.\n",
    "- Then comes Dramas and Comedies."
   ]
  },
  {
   "cell_type": "markdown",
   "metadata": {},
   "source": [
    "## 2. Production countries"
   ]
  },
  {
   "cell_type": "code",
   "execution_count": 28,
   "metadata": {},
   "outputs": [
    {
     "name": "stdout",
     "output_type": "stream",
     "text": [
      "There are 122 unique production countries.\n",
      "The alphabetically sorted list of production countries is: ['Afghanistan', 'Albania', 'Algeria', 'Angola', 'Argentina', 'Armenia', 'Australia', 'Austria', 'Azerbaijan', 'Bahamas', 'Bangladesh', 'Belarus', 'Belgium', 'Bermuda', 'Botswana', 'Brazil', 'Bulgaria', 'Burkina Faso', 'Cambodia', 'Cameroon', 'Canada', 'Cayman Islands', 'Chile', 'China', 'Colombia', 'Croatia', 'Cuba', 'Cyprus', 'Czech Republic', 'Denmark', 'Dominican Republic', 'East Germany', 'Ecuador', 'Egypt', 'Ethiopia', 'Finland', 'France', 'Georgia', 'Germany', 'Ghana', 'Greece', 'Guatemala', 'Hong Kong', 'Hungary', 'Iceland', 'India', 'Indonesia', 'Iran', 'Iraq', 'Ireland', 'Israel', 'Italy', 'Jamaica', 'Japan', 'Jordan', 'Kazakhstan', 'Kenya', 'Kuwait', 'Latvia', 'Lebanon', 'Liechtenstein', 'Lithuania', 'Luxembourg', 'Malawi', 'Malaysia', 'Malta', 'Mauritius', 'Mexico', 'Mongolia', 'Montenegro', 'Morocco', 'Mozambique', 'Namibia', 'Nepal', 'Netherlands', 'New Zealand', 'Nicaragua', 'Nigeria', 'Norway', 'Pakistan', 'Palestine', 'Panama', 'Paraguay', 'Peru', 'Philippines', 'Poland', 'Portugal', 'Puerto Rico', 'Qatar', 'Romania', 'Russia', 'Samoa', 'Saudi Arabia', 'Senegal', 'Serbia', 'Singapore', 'Slovakia', 'Slovenia', 'Somalia', 'South Africa', 'South Korea', 'Soviet Union', 'Spain', 'Sri Lanka', 'Sudan', 'Sweden', 'Switzerland', 'Syria', 'Taiwan', 'Thailand', 'Turkey', 'Uganda', 'Ukraine', 'United Arab Emirates', 'United Kingdom', 'United States', 'Uruguay', 'Vatican City', 'Venezuela', 'Vietnam', 'West Germany', 'Zimbabwe']\n"
     ]
    }
   ],
   "source": [
    "# Data cleaning and processing\n",
    "netflix['country'] = netflix['country'].str.strip(',') # remove leading and trailing commas\n",
    "netflix['country'] = netflix['country'].str.strip(' ') # remove leading and trailing spaces\n",
    "netflix['country_list'] = netflix['country'].str.split(', ')\n",
    "netflix_exploded_2 = netflix.explode('country_list') # create one row per country for each content release\n",
    "nb_unique_countries = netflix_exploded_2['country_list'].nunique()\n",
    "print(f\"There are {nb_unique_countries} unique production countries.\")\n",
    "unique_countries = netflix_exploded_2['country_list'].dropna().unique().tolist()\n",
    "unique_countries.sort()\n",
    "print(\"The alphabetically sorted list of production countries is:\", unique_countries)"
   ]
  },
  {
   "cell_type": "code",
   "execution_count": 29,
   "metadata": {},
   "outputs": [
    {
     "data": {
      "application/vnd.plotly.v1+json": {
       "config": {
        "plotlyServerURL": "https://plot.ly"
       },
       "data": [
        {
         "marker": {
          "color": [
           "lightslategray",
           "lightslategray",
           "crimson",
           "lightslategray",
           "lightslategray",
           "lightslategray",
           "lightslategray",
           "lightslategray",
           "lightslategray",
           "lightslategray"
          ]
         },
         "text": [
          3690,
          1046,
          831,
          806,
          445,
          393,
          318,
          232,
          231,
          226
         ],
         "textposition": "outside",
         "type": "bar",
         "x": [
          "United States",
          "India",
          "Unknown",
          "United Kingdom",
          "Canada",
          "France",
          "Japan",
          "Spain",
          "South Korea",
          "Germany"
         ],
         "y": [
          3690,
          1046,
          831,
          806,
          445,
          393,
          318,
          232,
          231,
          226
         ]
        }
       ],
       "layout": {
        "autosize": false,
        "template": {
         "data": {
          "bar": [
           {
            "error_x": {
             "color": "#2a3f5f"
            },
            "error_y": {
             "color": "#2a3f5f"
            },
            "marker": {
             "line": {
              "color": "#E5ECF6",
              "width": 0.5
             },
             "pattern": {
              "fillmode": "overlay",
              "size": 10,
              "solidity": 0.2
             }
            },
            "type": "bar"
           }
          ],
          "barpolar": [
           {
            "marker": {
             "line": {
              "color": "#E5ECF6",
              "width": 0.5
             },
             "pattern": {
              "fillmode": "overlay",
              "size": 10,
              "solidity": 0.2
             }
            },
            "type": "barpolar"
           }
          ],
          "carpet": [
           {
            "aaxis": {
             "endlinecolor": "#2a3f5f",
             "gridcolor": "white",
             "linecolor": "white",
             "minorgridcolor": "white",
             "startlinecolor": "#2a3f5f"
            },
            "baxis": {
             "endlinecolor": "#2a3f5f",
             "gridcolor": "white",
             "linecolor": "white",
             "minorgridcolor": "white",
             "startlinecolor": "#2a3f5f"
            },
            "type": "carpet"
           }
          ],
          "choropleth": [
           {
            "colorbar": {
             "outlinewidth": 0,
             "ticks": ""
            },
            "type": "choropleth"
           }
          ],
          "contour": [
           {
            "colorbar": {
             "outlinewidth": 0,
             "ticks": ""
            },
            "colorscale": [
             [
              0,
              "#0d0887"
             ],
             [
              0.1111111111111111,
              "#46039f"
             ],
             [
              0.2222222222222222,
              "#7201a8"
             ],
             [
              0.3333333333333333,
              "#9c179e"
             ],
             [
              0.4444444444444444,
              "#bd3786"
             ],
             [
              0.5555555555555556,
              "#d8576b"
             ],
             [
              0.6666666666666666,
              "#ed7953"
             ],
             [
              0.7777777777777778,
              "#fb9f3a"
             ],
             [
              0.8888888888888888,
              "#fdca26"
             ],
             [
              1,
              "#f0f921"
             ]
            ],
            "type": "contour"
           }
          ],
          "contourcarpet": [
           {
            "colorbar": {
             "outlinewidth": 0,
             "ticks": ""
            },
            "type": "contourcarpet"
           }
          ],
          "heatmap": [
           {
            "colorbar": {
             "outlinewidth": 0,
             "ticks": ""
            },
            "colorscale": [
             [
              0,
              "#0d0887"
             ],
             [
              0.1111111111111111,
              "#46039f"
             ],
             [
              0.2222222222222222,
              "#7201a8"
             ],
             [
              0.3333333333333333,
              "#9c179e"
             ],
             [
              0.4444444444444444,
              "#bd3786"
             ],
             [
              0.5555555555555556,
              "#d8576b"
             ],
             [
              0.6666666666666666,
              "#ed7953"
             ],
             [
              0.7777777777777778,
              "#fb9f3a"
             ],
             [
              0.8888888888888888,
              "#fdca26"
             ],
             [
              1,
              "#f0f921"
             ]
            ],
            "type": "heatmap"
           }
          ],
          "heatmapgl": [
           {
            "colorbar": {
             "outlinewidth": 0,
             "ticks": ""
            },
            "colorscale": [
             [
              0,
              "#0d0887"
             ],
             [
              0.1111111111111111,
              "#46039f"
             ],
             [
              0.2222222222222222,
              "#7201a8"
             ],
             [
              0.3333333333333333,
              "#9c179e"
             ],
             [
              0.4444444444444444,
              "#bd3786"
             ],
             [
              0.5555555555555556,
              "#d8576b"
             ],
             [
              0.6666666666666666,
              "#ed7953"
             ],
             [
              0.7777777777777778,
              "#fb9f3a"
             ],
             [
              0.8888888888888888,
              "#fdca26"
             ],
             [
              1,
              "#f0f921"
             ]
            ],
            "type": "heatmapgl"
           }
          ],
          "histogram": [
           {
            "marker": {
             "pattern": {
              "fillmode": "overlay",
              "size": 10,
              "solidity": 0.2
             }
            },
            "type": "histogram"
           }
          ],
          "histogram2d": [
           {
            "colorbar": {
             "outlinewidth": 0,
             "ticks": ""
            },
            "colorscale": [
             [
              0,
              "#0d0887"
             ],
             [
              0.1111111111111111,
              "#46039f"
             ],
             [
              0.2222222222222222,
              "#7201a8"
             ],
             [
              0.3333333333333333,
              "#9c179e"
             ],
             [
              0.4444444444444444,
              "#bd3786"
             ],
             [
              0.5555555555555556,
              "#d8576b"
             ],
             [
              0.6666666666666666,
              "#ed7953"
             ],
             [
              0.7777777777777778,
              "#fb9f3a"
             ],
             [
              0.8888888888888888,
              "#fdca26"
             ],
             [
              1,
              "#f0f921"
             ]
            ],
            "type": "histogram2d"
           }
          ],
          "histogram2dcontour": [
           {
            "colorbar": {
             "outlinewidth": 0,
             "ticks": ""
            },
            "colorscale": [
             [
              0,
              "#0d0887"
             ],
             [
              0.1111111111111111,
              "#46039f"
             ],
             [
              0.2222222222222222,
              "#7201a8"
             ],
             [
              0.3333333333333333,
              "#9c179e"
             ],
             [
              0.4444444444444444,
              "#bd3786"
             ],
             [
              0.5555555555555556,
              "#d8576b"
             ],
             [
              0.6666666666666666,
              "#ed7953"
             ],
             [
              0.7777777777777778,
              "#fb9f3a"
             ],
             [
              0.8888888888888888,
              "#fdca26"
             ],
             [
              1,
              "#f0f921"
             ]
            ],
            "type": "histogram2dcontour"
           }
          ],
          "mesh3d": [
           {
            "colorbar": {
             "outlinewidth": 0,
             "ticks": ""
            },
            "type": "mesh3d"
           }
          ],
          "parcoords": [
           {
            "line": {
             "colorbar": {
              "outlinewidth": 0,
              "ticks": ""
             }
            },
            "type": "parcoords"
           }
          ],
          "pie": [
           {
            "automargin": true,
            "type": "pie"
           }
          ],
          "scatter": [
           {
            "fillpattern": {
             "fillmode": "overlay",
             "size": 10,
             "solidity": 0.2
            },
            "type": "scatter"
           }
          ],
          "scatter3d": [
           {
            "line": {
             "colorbar": {
              "outlinewidth": 0,
              "ticks": ""
             }
            },
            "marker": {
             "colorbar": {
              "outlinewidth": 0,
              "ticks": ""
             }
            },
            "type": "scatter3d"
           }
          ],
          "scattercarpet": [
           {
            "marker": {
             "colorbar": {
              "outlinewidth": 0,
              "ticks": ""
             }
            },
            "type": "scattercarpet"
           }
          ],
          "scattergeo": [
           {
            "marker": {
             "colorbar": {
              "outlinewidth": 0,
              "ticks": ""
             }
            },
            "type": "scattergeo"
           }
          ],
          "scattergl": [
           {
            "marker": {
             "colorbar": {
              "outlinewidth": 0,
              "ticks": ""
             }
            },
            "type": "scattergl"
           }
          ],
          "scattermapbox": [
           {
            "marker": {
             "colorbar": {
              "outlinewidth": 0,
              "ticks": ""
             }
            },
            "type": "scattermapbox"
           }
          ],
          "scatterpolar": [
           {
            "marker": {
             "colorbar": {
              "outlinewidth": 0,
              "ticks": ""
             }
            },
            "type": "scatterpolar"
           }
          ],
          "scatterpolargl": [
           {
            "marker": {
             "colorbar": {
              "outlinewidth": 0,
              "ticks": ""
             }
            },
            "type": "scatterpolargl"
           }
          ],
          "scatterternary": [
           {
            "marker": {
             "colorbar": {
              "outlinewidth": 0,
              "ticks": ""
             }
            },
            "type": "scatterternary"
           }
          ],
          "surface": [
           {
            "colorbar": {
             "outlinewidth": 0,
             "ticks": ""
            },
            "colorscale": [
             [
              0,
              "#0d0887"
             ],
             [
              0.1111111111111111,
              "#46039f"
             ],
             [
              0.2222222222222222,
              "#7201a8"
             ],
             [
              0.3333333333333333,
              "#9c179e"
             ],
             [
              0.4444444444444444,
              "#bd3786"
             ],
             [
              0.5555555555555556,
              "#d8576b"
             ],
             [
              0.6666666666666666,
              "#ed7953"
             ],
             [
              0.7777777777777778,
              "#fb9f3a"
             ],
             [
              0.8888888888888888,
              "#fdca26"
             ],
             [
              1,
              "#f0f921"
             ]
            ],
            "type": "surface"
           }
          ],
          "table": [
           {
            "cells": {
             "fill": {
              "color": "#EBF0F8"
             },
             "line": {
              "color": "white"
             }
            },
            "header": {
             "fill": {
              "color": "#C8D4E3"
             },
             "line": {
              "color": "white"
             }
            },
            "type": "table"
           }
          ]
         },
         "layout": {
          "annotationdefaults": {
           "arrowcolor": "#2a3f5f",
           "arrowhead": 0,
           "arrowwidth": 1
          },
          "autotypenumbers": "strict",
          "coloraxis": {
           "colorbar": {
            "outlinewidth": 0,
            "ticks": ""
           }
          },
          "colorscale": {
           "diverging": [
            [
             0,
             "#8e0152"
            ],
            [
             0.1,
             "#c51b7d"
            ],
            [
             0.2,
             "#de77ae"
            ],
            [
             0.3,
             "#f1b6da"
            ],
            [
             0.4,
             "#fde0ef"
            ],
            [
             0.5,
             "#f7f7f7"
            ],
            [
             0.6,
             "#e6f5d0"
            ],
            [
             0.7,
             "#b8e186"
            ],
            [
             0.8,
             "#7fbc41"
            ],
            [
             0.9,
             "#4d9221"
            ],
            [
             1,
             "#276419"
            ]
           ],
           "sequential": [
            [
             0,
             "#0d0887"
            ],
            [
             0.1111111111111111,
             "#46039f"
            ],
            [
             0.2222222222222222,
             "#7201a8"
            ],
            [
             0.3333333333333333,
             "#9c179e"
            ],
            [
             0.4444444444444444,
             "#bd3786"
            ],
            [
             0.5555555555555556,
             "#d8576b"
            ],
            [
             0.6666666666666666,
             "#ed7953"
            ],
            [
             0.7777777777777778,
             "#fb9f3a"
            ],
            [
             0.8888888888888888,
             "#fdca26"
            ],
            [
             1,
             "#f0f921"
            ]
           ],
           "sequentialminus": [
            [
             0,
             "#0d0887"
            ],
            [
             0.1111111111111111,
             "#46039f"
            ],
            [
             0.2222222222222222,
             "#7201a8"
            ],
            [
             0.3333333333333333,
             "#9c179e"
            ],
            [
             0.4444444444444444,
             "#bd3786"
            ],
            [
             0.5555555555555556,
             "#d8576b"
            ],
            [
             0.6666666666666666,
             "#ed7953"
            ],
            [
             0.7777777777777778,
             "#fb9f3a"
            ],
            [
             0.8888888888888888,
             "#fdca26"
            ],
            [
             1,
             "#f0f921"
            ]
           ]
          },
          "colorway": [
           "#636efa",
           "#EF553B",
           "#00cc96",
           "#ab63fa",
           "#FFA15A",
           "#19d3f3",
           "#FF6692",
           "#B6E880",
           "#FF97FF",
           "#FECB52"
          ],
          "font": {
           "color": "#2a3f5f"
          },
          "geo": {
           "bgcolor": "white",
           "lakecolor": "white",
           "landcolor": "#E5ECF6",
           "showlakes": true,
           "showland": true,
           "subunitcolor": "white"
          },
          "hoverlabel": {
           "align": "left"
          },
          "hovermode": "closest",
          "mapbox": {
           "style": "light"
          },
          "paper_bgcolor": "white",
          "plot_bgcolor": "#E5ECF6",
          "polar": {
           "angularaxis": {
            "gridcolor": "white",
            "linecolor": "white",
            "ticks": ""
           },
           "bgcolor": "#E5ECF6",
           "radialaxis": {
            "gridcolor": "white",
            "linecolor": "white",
            "ticks": ""
           }
          },
          "scene": {
           "xaxis": {
            "backgroundcolor": "#E5ECF6",
            "gridcolor": "white",
            "gridwidth": 2,
            "linecolor": "white",
            "showbackground": true,
            "ticks": "",
            "zerolinecolor": "white"
           },
           "yaxis": {
            "backgroundcolor": "#E5ECF6",
            "gridcolor": "white",
            "gridwidth": 2,
            "linecolor": "white",
            "showbackground": true,
            "ticks": "",
            "zerolinecolor": "white"
           },
           "zaxis": {
            "backgroundcolor": "#E5ECF6",
            "gridcolor": "white",
            "gridwidth": 2,
            "linecolor": "white",
            "showbackground": true,
            "ticks": "",
            "zerolinecolor": "white"
           }
          },
          "shapedefaults": {
           "line": {
            "color": "#2a3f5f"
           }
          },
          "ternary": {
           "aaxis": {
            "gridcolor": "white",
            "linecolor": "white",
            "ticks": ""
           },
           "baxis": {
            "gridcolor": "white",
            "linecolor": "white",
            "ticks": ""
           },
           "bgcolor": "#E5ECF6",
           "caxis": {
            "gridcolor": "white",
            "linecolor": "white",
            "ticks": ""
           }
          },
          "title": {
           "x": 0.05
          },
          "xaxis": {
           "automargin": true,
           "gridcolor": "white",
           "linecolor": "white",
           "ticks": "",
           "title": {
            "standoff": 15
           },
           "zerolinecolor": "white",
           "zerolinewidth": 2
          },
          "yaxis": {
           "automargin": true,
           "gridcolor": "white",
           "linecolor": "white",
           "ticks": "",
           "title": {
            "standoff": 15
           },
           "zerolinecolor": "white",
           "zerolinewidth": 2
          }
         }
        },
        "title": {
         "text": "Top 10 production countries among Netflix content"
        },
        "xaxis": {
         "title": {
          "text": "Production Country"
         }
        },
        "yaxis": {
         "range": [
          0,
          4000
         ],
         "title": {
          "text": "Number of shows"
         }
        }
       }
      }
     },
     "metadata": {},
     "output_type": "display_data"
    }
   ],
   "source": [
    "# Visualization\n",
    "country_counts = netflix_exploded_2['country_list'].value_counts(dropna=False).reset_index()\n",
    "country_counts.columns = ['country', 'num_shows']\n",
    "country_counts['country'].fillna('Unknown', inplace=True) # replace NA values by \"Unknown\" value\n",
    "\n",
    "top_10_countries = country_counts.iloc[0:10, :] # extract top 10\n",
    "\n",
    "colors = ['lightslategray',] * 10\n",
    "colors[2] = 'crimson' # show \"Unknown\" category as red\n",
    "\n",
    "fig = go.Figure(data=[go.Bar(\n",
    "    x=top_10_countries['country'],\n",
    "    y=top_10_countries['num_shows'],\n",
    "    marker_color=colors, \n",
    "    text = top_10_countries['num_shows'],\n",
    "    textposition='outside'\n",
    ")])\n",
    "\n",
    "fig.update_layout(title_text='Top 10 production countries among Netflix content', autosize=False, yaxis=dict(range=[0,4000]), \n",
    "                  xaxis_title='Production Country', yaxis_title='Number of shows')\n",
    "fig.show()"
   ]
  },
  {
   "cell_type": "markdown",
   "metadata": {},
   "source": [
    "Observations:\n",
    "- Among netflix content, the top production country is USA with around 4000 shows out of 8807, which corresponds to almost half of content on Netflix. \n",
    "- India is in second position with around 1000 shows, which is 1/4 of US shows. \n",
    "- We have 831 shows in the dataset with unknown production country. This value is quite significant in regards with the other numbers.\n",
    "- Then the rest of countries is essential Western countries except South Korea due to the increased popularity of K dramas worldwide."
   ]
  },
  {
   "cell_type": "code",
   "execution_count": 32,
   "metadata": {},
   "outputs": [
    {
     "data": {
      "application/vnd.plotly.v1+json": {
       "config": {
        "plotlyServerURL": "https://plot.ly"
       },
       "data": [
        {
         "coloraxis": "coloraxis",
         "geo": "geo",
         "hovertemplate": "country=%{location}<br>Number of shows=%{z}<extra></extra>",
         "locationmode": "country names",
         "locations": [
          "United States",
          "India",
          "Unknown",
          "United Kingdom",
          "Canada",
          "France",
          "Japan",
          "Spain",
          "South Korea",
          "Germany",
          "Mexico",
          "China",
          "Australia",
          "Egypt",
          "Turkey",
          "Hong Kong",
          "Nigeria",
          "Italy",
          "Brazil",
          "Argentina",
          "Belgium",
          "Indonesia",
          "Taiwan",
          "Philippines",
          "Thailand",
          "South Africa",
          "Colombia",
          "Netherlands",
          "Denmark",
          "Ireland",
          "Sweden",
          "Poland",
          "Singapore",
          "United Arab Emirates",
          "New Zealand",
          "Lebanon",
          "Israel",
          "Norway",
          "Chile",
          "Russia",
          "Malaysia",
          "Pakistan",
          "Czech Republic",
          "Switzerland",
          "Uruguay",
          "Romania",
          "Saudi Arabia",
          "Luxembourg",
          "Austria",
          "Finland",
          "Hungary",
          "Iceland",
          "Greece",
          "Bulgaria",
          "Peru",
          "Qatar",
          "Jordan",
          "Kuwait",
          "Vietnam",
          "Serbia",
          "Morocco",
          "Cambodia",
          "Kenya",
          "Portugal",
          "West Germany",
          "Ghana",
          "Iran",
          "Venezuela",
          "Bangladesh",
          "Croatia",
          "Malta",
          "Ukraine",
          "Soviet Union",
          "Senegal",
          "Algeria",
          "Syria",
          "Slovenia",
          "Zimbabwe",
          "Iraq",
          "Guatemala",
          "Georgia",
          "Nepal",
          "Namibia",
          "Mauritius",
          "Cayman Islands",
          "Azerbaijan",
          "Cuba",
          "Samoa",
          "Botswana",
          "Dominican Republic",
          "Nicaragua",
          "Somalia",
          "Vatican City",
          "Jamaica",
          "Kazakhstan",
          "Lithuania",
          "Afghanistan",
          "Latvia",
          "Sudan",
          "Panama",
          "Uganda",
          "East Germany",
          "Liechtenstein",
          "Malawi",
          "Sri Lanka",
          "Puerto Rico",
          "Cameroon",
          "Palestine",
          "Ethiopia",
          "Burkina Faso",
          "Angola",
          "Mozambique",
          "Belarus",
          "Cyprus",
          "Bahamas",
          "Paraguay",
          "Albania",
          "Slovakia",
          "Bermuda",
          "Ecuador",
          "Armenia",
          "Mongolia",
          "Montenegro"
         ],
         "name": "",
         "type": "choropleth",
         "z": [
          3690,
          1046,
          831,
          806,
          445,
          393,
          318,
          232,
          231,
          226,
          169,
          162,
          160,
          117,
          113,
          105,
          103,
          100,
          97,
          91,
          90,
          90,
          89,
          83,
          70,
          62,
          52,
          50,
          48,
          46,
          42,
          41,
          41,
          37,
          33,
          31,
          30,
          30,
          29,
          27,
          26,
          24,
          22,
          19,
          14,
          14,
          13,
          12,
          12,
          11,
          11,
          11,
          11,
          10,
          10,
          10,
          9,
          8,
          7,
          7,
          6,
          6,
          6,
          6,
          5,
          5,
          4,
          4,
          4,
          4,
          3,
          3,
          3,
          3,
          3,
          3,
          3,
          3,
          2,
          2,
          2,
          2,
          2,
          2,
          2,
          1,
          1,
          1,
          1,
          1,
          1,
          1,
          1,
          1,
          1,
          1,
          1,
          1,
          1,
          1,
          1,
          1,
          1,
          1,
          1,
          1,
          1,
          1,
          1,
          1,
          1,
          1,
          1,
          1,
          1,
          1,
          1,
          1,
          1,
          1,
          1,
          1,
          1
         ]
        }
       ],
       "layout": {
        "autosize": false,
        "coloraxis": {
         "colorbar": {
          "title": {
           "text": "Number of shows"
          }
         },
         "colorscale": [
          [
           0,
           "#0d0887"
          ],
          [
           0.1111111111111111,
           "#46039f"
          ],
          [
           0.2222222222222222,
           "#7201a8"
          ],
          [
           0.3333333333333333,
           "#9c179e"
          ],
          [
           0.4444444444444444,
           "#bd3786"
          ],
          [
           0.5555555555555556,
           "#d8576b"
          ],
          [
           0.6666666666666666,
           "#ed7953"
          ],
          [
           0.7777777777777778,
           "#fb9f3a"
          ],
          [
           0.8888888888888888,
           "#fdca26"
          ],
          [
           1,
           "#f0f921"
          ]
         ]
        },
        "geo": {
         "center": {},
         "domain": {
          "x": [
           0,
           1
          ],
          "y": [
           0,
           1
          ]
         }
        },
        "legend": {
         "tracegroupgap": 0
        },
        "template": {
         "data": {
          "bar": [
           {
            "error_x": {
             "color": "#2a3f5f"
            },
            "error_y": {
             "color": "#2a3f5f"
            },
            "marker": {
             "line": {
              "color": "#E5ECF6",
              "width": 0.5
             },
             "pattern": {
              "fillmode": "overlay",
              "size": 10,
              "solidity": 0.2
             }
            },
            "type": "bar"
           }
          ],
          "barpolar": [
           {
            "marker": {
             "line": {
              "color": "#E5ECF6",
              "width": 0.5
             },
             "pattern": {
              "fillmode": "overlay",
              "size": 10,
              "solidity": 0.2
             }
            },
            "type": "barpolar"
           }
          ],
          "carpet": [
           {
            "aaxis": {
             "endlinecolor": "#2a3f5f",
             "gridcolor": "white",
             "linecolor": "white",
             "minorgridcolor": "white",
             "startlinecolor": "#2a3f5f"
            },
            "baxis": {
             "endlinecolor": "#2a3f5f",
             "gridcolor": "white",
             "linecolor": "white",
             "minorgridcolor": "white",
             "startlinecolor": "#2a3f5f"
            },
            "type": "carpet"
           }
          ],
          "choropleth": [
           {
            "colorbar": {
             "outlinewidth": 0,
             "ticks": ""
            },
            "type": "choropleth"
           }
          ],
          "contour": [
           {
            "colorbar": {
             "outlinewidth": 0,
             "ticks": ""
            },
            "colorscale": [
             [
              0,
              "#0d0887"
             ],
             [
              0.1111111111111111,
              "#46039f"
             ],
             [
              0.2222222222222222,
              "#7201a8"
             ],
             [
              0.3333333333333333,
              "#9c179e"
             ],
             [
              0.4444444444444444,
              "#bd3786"
             ],
             [
              0.5555555555555556,
              "#d8576b"
             ],
             [
              0.6666666666666666,
              "#ed7953"
             ],
             [
              0.7777777777777778,
              "#fb9f3a"
             ],
             [
              0.8888888888888888,
              "#fdca26"
             ],
             [
              1,
              "#f0f921"
             ]
            ],
            "type": "contour"
           }
          ],
          "contourcarpet": [
           {
            "colorbar": {
             "outlinewidth": 0,
             "ticks": ""
            },
            "type": "contourcarpet"
           }
          ],
          "heatmap": [
           {
            "colorbar": {
             "outlinewidth": 0,
             "ticks": ""
            },
            "colorscale": [
             [
              0,
              "#0d0887"
             ],
             [
              0.1111111111111111,
              "#46039f"
             ],
             [
              0.2222222222222222,
              "#7201a8"
             ],
             [
              0.3333333333333333,
              "#9c179e"
             ],
             [
              0.4444444444444444,
              "#bd3786"
             ],
             [
              0.5555555555555556,
              "#d8576b"
             ],
             [
              0.6666666666666666,
              "#ed7953"
             ],
             [
              0.7777777777777778,
              "#fb9f3a"
             ],
             [
              0.8888888888888888,
              "#fdca26"
             ],
             [
              1,
              "#f0f921"
             ]
            ],
            "type": "heatmap"
           }
          ],
          "heatmapgl": [
           {
            "colorbar": {
             "outlinewidth": 0,
             "ticks": ""
            },
            "colorscale": [
             [
              0,
              "#0d0887"
             ],
             [
              0.1111111111111111,
              "#46039f"
             ],
             [
              0.2222222222222222,
              "#7201a8"
             ],
             [
              0.3333333333333333,
              "#9c179e"
             ],
             [
              0.4444444444444444,
              "#bd3786"
             ],
             [
              0.5555555555555556,
              "#d8576b"
             ],
             [
              0.6666666666666666,
              "#ed7953"
             ],
             [
              0.7777777777777778,
              "#fb9f3a"
             ],
             [
              0.8888888888888888,
              "#fdca26"
             ],
             [
              1,
              "#f0f921"
             ]
            ],
            "type": "heatmapgl"
           }
          ],
          "histogram": [
           {
            "marker": {
             "pattern": {
              "fillmode": "overlay",
              "size": 10,
              "solidity": 0.2
             }
            },
            "type": "histogram"
           }
          ],
          "histogram2d": [
           {
            "colorbar": {
             "outlinewidth": 0,
             "ticks": ""
            },
            "colorscale": [
             [
              0,
              "#0d0887"
             ],
             [
              0.1111111111111111,
              "#46039f"
             ],
             [
              0.2222222222222222,
              "#7201a8"
             ],
             [
              0.3333333333333333,
              "#9c179e"
             ],
             [
              0.4444444444444444,
              "#bd3786"
             ],
             [
              0.5555555555555556,
              "#d8576b"
             ],
             [
              0.6666666666666666,
              "#ed7953"
             ],
             [
              0.7777777777777778,
              "#fb9f3a"
             ],
             [
              0.8888888888888888,
              "#fdca26"
             ],
             [
              1,
              "#f0f921"
             ]
            ],
            "type": "histogram2d"
           }
          ],
          "histogram2dcontour": [
           {
            "colorbar": {
             "outlinewidth": 0,
             "ticks": ""
            },
            "colorscale": [
             [
              0,
              "#0d0887"
             ],
             [
              0.1111111111111111,
              "#46039f"
             ],
             [
              0.2222222222222222,
              "#7201a8"
             ],
             [
              0.3333333333333333,
              "#9c179e"
             ],
             [
              0.4444444444444444,
              "#bd3786"
             ],
             [
              0.5555555555555556,
              "#d8576b"
             ],
             [
              0.6666666666666666,
              "#ed7953"
             ],
             [
              0.7777777777777778,
              "#fb9f3a"
             ],
             [
              0.8888888888888888,
              "#fdca26"
             ],
             [
              1,
              "#f0f921"
             ]
            ],
            "type": "histogram2dcontour"
           }
          ],
          "mesh3d": [
           {
            "colorbar": {
             "outlinewidth": 0,
             "ticks": ""
            },
            "type": "mesh3d"
           }
          ],
          "parcoords": [
           {
            "line": {
             "colorbar": {
              "outlinewidth": 0,
              "ticks": ""
             }
            },
            "type": "parcoords"
           }
          ],
          "pie": [
           {
            "automargin": true,
            "type": "pie"
           }
          ],
          "scatter": [
           {
            "fillpattern": {
             "fillmode": "overlay",
             "size": 10,
             "solidity": 0.2
            },
            "type": "scatter"
           }
          ],
          "scatter3d": [
           {
            "line": {
             "colorbar": {
              "outlinewidth": 0,
              "ticks": ""
             }
            },
            "marker": {
             "colorbar": {
              "outlinewidth": 0,
              "ticks": ""
             }
            },
            "type": "scatter3d"
           }
          ],
          "scattercarpet": [
           {
            "marker": {
             "colorbar": {
              "outlinewidth": 0,
              "ticks": ""
             }
            },
            "type": "scattercarpet"
           }
          ],
          "scattergeo": [
           {
            "marker": {
             "colorbar": {
              "outlinewidth": 0,
              "ticks": ""
             }
            },
            "type": "scattergeo"
           }
          ],
          "scattergl": [
           {
            "marker": {
             "colorbar": {
              "outlinewidth": 0,
              "ticks": ""
             }
            },
            "type": "scattergl"
           }
          ],
          "scattermapbox": [
           {
            "marker": {
             "colorbar": {
              "outlinewidth": 0,
              "ticks": ""
             }
            },
            "type": "scattermapbox"
           }
          ],
          "scatterpolar": [
           {
            "marker": {
             "colorbar": {
              "outlinewidth": 0,
              "ticks": ""
             }
            },
            "type": "scatterpolar"
           }
          ],
          "scatterpolargl": [
           {
            "marker": {
             "colorbar": {
              "outlinewidth": 0,
              "ticks": ""
             }
            },
            "type": "scatterpolargl"
           }
          ],
          "scatterternary": [
           {
            "marker": {
             "colorbar": {
              "outlinewidth": 0,
              "ticks": ""
             }
            },
            "type": "scatterternary"
           }
          ],
          "surface": [
           {
            "colorbar": {
             "outlinewidth": 0,
             "ticks": ""
            },
            "colorscale": [
             [
              0,
              "#0d0887"
             ],
             [
              0.1111111111111111,
              "#46039f"
             ],
             [
              0.2222222222222222,
              "#7201a8"
             ],
             [
              0.3333333333333333,
              "#9c179e"
             ],
             [
              0.4444444444444444,
              "#bd3786"
             ],
             [
              0.5555555555555556,
              "#d8576b"
             ],
             [
              0.6666666666666666,
              "#ed7953"
             ],
             [
              0.7777777777777778,
              "#fb9f3a"
             ],
             [
              0.8888888888888888,
              "#fdca26"
             ],
             [
              1,
              "#f0f921"
             ]
            ],
            "type": "surface"
           }
          ],
          "table": [
           {
            "cells": {
             "fill": {
              "color": "#EBF0F8"
             },
             "line": {
              "color": "white"
             }
            },
            "header": {
             "fill": {
              "color": "#C8D4E3"
             },
             "line": {
              "color": "white"
             }
            },
            "type": "table"
           }
          ]
         },
         "layout": {
          "annotationdefaults": {
           "arrowcolor": "#2a3f5f",
           "arrowhead": 0,
           "arrowwidth": 1
          },
          "autotypenumbers": "strict",
          "coloraxis": {
           "colorbar": {
            "outlinewidth": 0,
            "ticks": ""
           }
          },
          "colorscale": {
           "diverging": [
            [
             0,
             "#8e0152"
            ],
            [
             0.1,
             "#c51b7d"
            ],
            [
             0.2,
             "#de77ae"
            ],
            [
             0.3,
             "#f1b6da"
            ],
            [
             0.4,
             "#fde0ef"
            ],
            [
             0.5,
             "#f7f7f7"
            ],
            [
             0.6,
             "#e6f5d0"
            ],
            [
             0.7,
             "#b8e186"
            ],
            [
             0.8,
             "#7fbc41"
            ],
            [
             0.9,
             "#4d9221"
            ],
            [
             1,
             "#276419"
            ]
           ],
           "sequential": [
            [
             0,
             "#0d0887"
            ],
            [
             0.1111111111111111,
             "#46039f"
            ],
            [
             0.2222222222222222,
             "#7201a8"
            ],
            [
             0.3333333333333333,
             "#9c179e"
            ],
            [
             0.4444444444444444,
             "#bd3786"
            ],
            [
             0.5555555555555556,
             "#d8576b"
            ],
            [
             0.6666666666666666,
             "#ed7953"
            ],
            [
             0.7777777777777778,
             "#fb9f3a"
            ],
            [
             0.8888888888888888,
             "#fdca26"
            ],
            [
             1,
             "#f0f921"
            ]
           ],
           "sequentialminus": [
            [
             0,
             "#0d0887"
            ],
            [
             0.1111111111111111,
             "#46039f"
            ],
            [
             0.2222222222222222,
             "#7201a8"
            ],
            [
             0.3333333333333333,
             "#9c179e"
            ],
            [
             0.4444444444444444,
             "#bd3786"
            ],
            [
             0.5555555555555556,
             "#d8576b"
            ],
            [
             0.6666666666666666,
             "#ed7953"
            ],
            [
             0.7777777777777778,
             "#fb9f3a"
            ],
            [
             0.8888888888888888,
             "#fdca26"
            ],
            [
             1,
             "#f0f921"
            ]
           ]
          },
          "colorway": [
           "#636efa",
           "#EF553B",
           "#00cc96",
           "#ab63fa",
           "#FFA15A",
           "#19d3f3",
           "#FF6692",
           "#B6E880",
           "#FF97FF",
           "#FECB52"
          ],
          "font": {
           "color": "#2a3f5f"
          },
          "geo": {
           "bgcolor": "white",
           "lakecolor": "white",
           "landcolor": "#E5ECF6",
           "showlakes": true,
           "showland": true,
           "subunitcolor": "white"
          },
          "hoverlabel": {
           "align": "left"
          },
          "hovermode": "closest",
          "mapbox": {
           "style": "light"
          },
          "paper_bgcolor": "white",
          "plot_bgcolor": "#E5ECF6",
          "polar": {
           "angularaxis": {
            "gridcolor": "white",
            "linecolor": "white",
            "ticks": ""
           },
           "bgcolor": "#E5ECF6",
           "radialaxis": {
            "gridcolor": "white",
            "linecolor": "white",
            "ticks": ""
           }
          },
          "scene": {
           "xaxis": {
            "backgroundcolor": "#E5ECF6",
            "gridcolor": "white",
            "gridwidth": 2,
            "linecolor": "white",
            "showbackground": true,
            "ticks": "",
            "zerolinecolor": "white"
           },
           "yaxis": {
            "backgroundcolor": "#E5ECF6",
            "gridcolor": "white",
            "gridwidth": 2,
            "linecolor": "white",
            "showbackground": true,
            "ticks": "",
            "zerolinecolor": "white"
           },
           "zaxis": {
            "backgroundcolor": "#E5ECF6",
            "gridcolor": "white",
            "gridwidth": 2,
            "linecolor": "white",
            "showbackground": true,
            "ticks": "",
            "zerolinecolor": "white"
           }
          },
          "shapedefaults": {
           "line": {
            "color": "#2a3f5f"
           }
          },
          "ternary": {
           "aaxis": {
            "gridcolor": "white",
            "linecolor": "white",
            "ticks": ""
           },
           "baxis": {
            "gridcolor": "white",
            "linecolor": "white",
            "ticks": ""
           },
           "bgcolor": "#E5ECF6",
           "caxis": {
            "gridcolor": "white",
            "linecolor": "white",
            "ticks": ""
           }
          },
          "title": {
           "x": 0.05
          },
          "xaxis": {
           "automargin": true,
           "gridcolor": "white",
           "linecolor": "white",
           "ticks": "",
           "title": {
            "standoff": 15
           },
           "zerolinecolor": "white",
           "zerolinewidth": 2
          },
          "yaxis": {
           "automargin": true,
           "gridcolor": "white",
           "linecolor": "white",
           "ticks": "",
           "title": {
            "standoff": 15
           },
           "zerolinecolor": "white",
           "zerolinewidth": 2
          }
         }
        },
        "title": {
         "text": "Production Countries among Netflix Content"
        }
       }
      }
     },
     "metadata": {},
     "output_type": "display_data"
    }
   ],
   "source": [
    "fig = px.choropleth(data_frame=country_counts,\n",
    "                    locations='country',\n",
    "                    locationmode='country names',\n",
    "                    color='num_shows',\n",
    "                    title='Production Countries among Netflix Content',\n",
    "                    labels={'num_shows': 'Number of shows'})\n",
    "\n",
    "fig.update_layout(autosize=False)\n",
    "fig.show()"
   ]
  },
  {
   "cell_type": "markdown",
   "metadata": {},
   "source": [
    "Observations:\n",
    "- Looking at the map, we can see that almost all countries in the world contribute to the production of shows available on Netflix. The exception lies in Africa especially West and Central Africa."
   ]
  },
  {
   "cell_type": "markdown",
   "metadata": {},
   "source": [
    "## 3. Dominant genre per country"
   ]
  },
  {
   "cell_type": "code",
   "execution_count": null,
   "metadata": {},
   "outputs": [
    {
     "data": {
      "text/html": [
       "<div>\n",
       "<style scoped>\n",
       "    .dataframe tbody tr th:only-of-type {\n",
       "        vertical-align: middle;\n",
       "    }\n",
       "\n",
       "    .dataframe tbody tr th {\n",
       "        vertical-align: top;\n",
       "    }\n",
       "\n",
       "    .dataframe thead th {\n",
       "        text-align: right;\n",
       "    }\n",
       "</style>\n",
       "<table border=\"1\" class=\"dataframe\">\n",
       "  <thead>\n",
       "    <tr style=\"text-align: right;\">\n",
       "      <th></th>\n",
       "      <th>country</th>\n",
       "      <th>genre</th>\n",
       "      <th>num_shows</th>\n",
       "    </tr>\n",
       "  </thead>\n",
       "  <tbody>\n",
       "    <tr>\n",
       "      <th>0</th>\n",
       "      <td>Afghanistan</td>\n",
       "      <td>Documentaries</td>\n",
       "      <td>1</td>\n",
       "    </tr>\n",
       "    <tr>\n",
       "      <th>1</th>\n",
       "      <td>Afghanistan</td>\n",
       "      <td>International Movies</td>\n",
       "      <td>1</td>\n",
       "    </tr>\n",
       "    <tr>\n",
       "      <th>2</th>\n",
       "      <td>Albania</td>\n",
       "      <td>Dramas</td>\n",
       "      <td>1</td>\n",
       "    </tr>\n",
       "    <tr>\n",
       "      <th>3</th>\n",
       "      <td>Albania</td>\n",
       "      <td>International Movies</td>\n",
       "      <td>1</td>\n",
       "    </tr>\n",
       "    <tr>\n",
       "      <th>4</th>\n",
       "      <td>Algeria</td>\n",
       "      <td>Classic Movies</td>\n",
       "      <td>1</td>\n",
       "    </tr>\n",
       "    <tr>\n",
       "      <th>...</th>\n",
       "      <td>...</td>\n",
       "      <td>...</td>\n",
       "      <td>...</td>\n",
       "    </tr>\n",
       "    <tr>\n",
       "      <th>1403</th>\n",
       "      <td>West Germany</td>\n",
       "      <td>Thrillers</td>\n",
       "      <td>1</td>\n",
       "    </tr>\n",
       "    <tr>\n",
       "      <th>1404</th>\n",
       "      <td>Zimbabwe</td>\n",
       "      <td>Comedies</td>\n",
       "      <td>1</td>\n",
       "    </tr>\n",
       "    <tr>\n",
       "      <th>1405</th>\n",
       "      <td>Zimbabwe</td>\n",
       "      <td>Documentaries</td>\n",
       "      <td>2</td>\n",
       "    </tr>\n",
       "    <tr>\n",
       "      <th>1406</th>\n",
       "      <td>Zimbabwe</td>\n",
       "      <td>International Movies</td>\n",
       "      <td>3</td>\n",
       "    </tr>\n",
       "    <tr>\n",
       "      <th>1407</th>\n",
       "      <td>Zimbabwe</td>\n",
       "      <td>Romantic Movies</td>\n",
       "      <td>1</td>\n",
       "    </tr>\n",
       "  </tbody>\n",
       "</table>\n",
       "<p>1408 rows × 3 columns</p>\n",
       "</div>"
      ],
      "text/plain": [
       "           country                 genre  num_shows\n",
       "0      Afghanistan         Documentaries          1\n",
       "1      Afghanistan  International Movies          1\n",
       "2          Albania                Dramas          1\n",
       "3          Albania  International Movies          1\n",
       "4          Algeria        Classic Movies          1\n",
       "...            ...                   ...        ...\n",
       "1403  West Germany             Thrillers          1\n",
       "1404      Zimbabwe              Comedies          1\n",
       "1405      Zimbabwe         Documentaries          2\n",
       "1406      Zimbabwe  International Movies          3\n",
       "1407      Zimbabwe       Romantic Movies          1\n",
       "\n",
       "[1408 rows x 3 columns]"
      ]
     },
     "execution_count": 68,
     "metadata": {},
     "output_type": "execute_result"
    }
   ],
   "source": [
    "# Data processing\n",
    "netflix_exploded_3 = netflix_exploded_2.explode(['genre_list'])\n",
    "netflix_exploded_3.head()\n",
    "\n",
    "genre_country_counts = netflix_exploded_3.groupby(['country_list', 'genre_list']).size().reset_index()\n",
    "genre_country_counts.columns = ['country', 'genre', 'num_shows']\n",
    "genre_country_counts"
   ]
  },
  {
   "cell_type": "code",
   "execution_count": null,
   "metadata": {},
   "outputs": [
    {
     "data": {
      "application/vnd.plotly.v1+json": {
       "config": {
        "plotlyServerURL": "https://plot.ly"
       },
       "data": [
        {
         "branchvalues": "total",
         "domain": {
          "x": [
           0,
           1
          ],
          "y": [
           0,
           1
          ]
         },
         "hovertemplate": "labels=%{label}<br>num_shows=%{value}<br>parent=%{parent}<br>id=%{id}<extra></extra>",
         "ids": [
          "Angola/Action & Adventure",
          "Argentina/Action & Adventure",
          "Australia/Action & Adventure",
          "Bahamas/Action & Adventure",
          "Belgium/Action & Adventure",
          "Brazil/Action & Adventure",
          "Bulgaria/Action & Adventure",
          "Cambodia/Action & Adventure",
          "Canada/Action & Adventure",
          "Chile/Action & Adventure",
          "China/Action & Adventure",
          "Colombia/Action & Adventure",
          "Czech Republic/Action & Adventure",
          "Denmark/Action & Adventure",
          "Egypt/Action & Adventure",
          "Finland/Action & Adventure",
          "France/Action & Adventure",
          "Germany/Action & Adventure",
          "Greece/Action & Adventure",
          "Hong Kong/Action & Adventure",
          "Hungary/Action & Adventure",
          "Iceland/Action & Adventure",
          "India/Action & Adventure",
          "Indonesia/Action & Adventure",
          "Ireland/Action & Adventure",
          "Israel/Action & Adventure",
          "Italy/Action & Adventure",
          "Japan/Action & Adventure",
          "Kuwait/Action & Adventure",
          "Luxembourg/Action & Adventure",
          "Malaysia/Action & Adventure",
          "Mexico/Action & Adventure",
          "Morocco/Action & Adventure",
          "Nepal/Action & Adventure",
          "Netherlands/Action & Adventure",
          "New Zealand/Action & Adventure",
          "Nigeria/Action & Adventure",
          "Norway/Action & Adventure",
          "Pakistan/Action & Adventure",
          "Paraguay/Action & Adventure",
          "Philippines/Action & Adventure",
          "Poland/Action & Adventure",
          "Russia/Action & Adventure",
          "Saudi Arabia/Action & Adventure",
          "Serbia/Action & Adventure",
          "Singapore/Action & Adventure",
          "South Africa/Action & Adventure",
          "South Korea/Action & Adventure",
          "Soviet Union/Action & Adventure",
          "Spain/Action & Adventure",
          "Sweden/Action & Adventure",
          "Switzerland/Action & Adventure",
          "Taiwan/Action & Adventure",
          "Thailand/Action & Adventure",
          "Turkey/Action & Adventure",
          "United Arab Emirates/Action & Adventure",
          "United Kingdom/Action & Adventure",
          "United States/Action & Adventure",
          "Vietnam/Action & Adventure",
          "China/Anime Features",
          "Japan/Anime Features",
          "United States/Anime Features",
          "Australia/Anime Series",
          "Canada/Anime Series",
          "China/Anime Series",
          "Indonesia/Anime Series",
          "Japan/Anime Series",
          "Philippines/Anime Series",
          "Singapore/Anime Series",
          "Spain/Anime Series",
          "United States/Anime Series",
          "Australia/British TV Shows",
          "Belarus/British TV Shows",
          "Canada/British TV Shows",
          "China/British TV Shows",
          "Czech Republic/British TV Shows",
          "Finland/British TV Shows",
          "France/British TV Shows",
          "Germany/British TV Shows",
          "Greece/British TV Shows",
          "India/British TV Shows",
          "Ireland/British TV Shows",
          "Italy/British TV Shows",
          "Japan/British TV Shows",
          "Netherlands/British TV Shows",
          "South Africa/British TV Shows",
          "Spain/British TV Shows",
          "United Kingdom/British TV Shows",
          "United States/British TV Shows",
          "Argentina/Children & Family Movies",
          "Australia/Children & Family Movies",
          "Belgium/Children & Family Movies",
          "Brazil/Children & Family Movies",
          "Bulgaria/Children & Family Movies",
          "Cambodia/Children & Family Movies",
          "Canada/Children & Family Movies",
          "Cayman Islands/Children & Family Movies",
          "Chile/Children & Family Movies",
          "China/Children & Family Movies",
          "Czech Republic/Children & Family Movies",
          "Denmark/Children & Family Movies",
          "East Germany/Children & Family Movies",
          "Egypt/Children & Family Movies",
          "Finland/Children & Family Movies",
          "France/Children & Family Movies",
          "Germany/Children & Family Movies",
          "Hong Kong/Children & Family Movies",
          "Hungary/Children & Family Movies",
          "India/Children & Family Movies",
          "Indonesia/Children & Family Movies",
          "Ireland/Children & Family Movies",
          "Italy/Children & Family Movies",
          "Japan/Children & Family Movies",
          "Kazakhstan/Children & Family Movies",
          "Lebanon/Children & Family Movies",
          "Luxembourg/Children & Family Movies",
          "Malawi/Children & Family Movies",
          "Malaysia/Children & Family Movies",
          "Mauritius/Children & Family Movies",
          "Mexico/Children & Family Movies",
          "Netherlands/Children & Family Movies",
          "New Zealand/Children & Family Movies",
          "Norway/Children & Family Movies",
          "Pakistan/Children & Family Movies",
          "Philippines/Children & Family Movies",
          "Qatar/Children & Family Movies",
          "Romania/Children & Family Movies",
          "Russia/Children & Family Movies",
          "South Africa/Children & Family Movies",
          "South Korea/Children & Family Movies",
          "Spain/Children & Family Movies",
          "Thailand/Children & Family Movies",
          "Turkey/Children & Family Movies",
          "United Arab Emirates/Children & Family Movies",
          "United Kingdom/Children & Family Movies",
          "United States/Children & Family Movies",
          "West Germany/Children & Family Movies",
          "Argentina/Classic & Cult TV",
          "Canada/Classic & Cult TV",
          "Mexico/Classic & Cult TV",
          "United Kingdom/Classic & Cult TV",
          "United States/Classic & Cult TV",
          "Algeria/Classic Movies",
          "Argentina/Classic Movies",
          "Australia/Classic Movies",
          "Belgium/Classic Movies",
          "East Germany/Classic Movies",
          "Egypt/Classic Movies",
          "France/Classic Movies",
          "Hong Kong/Classic Movies",
          "India/Classic Movies",
          "Iran/Classic Movies",
          "Italy/Classic Movies",
          "Japan/Classic Movies",
          "Lebanon/Classic Movies",
          "Liechtenstein/Classic Movies",
          "Mexico/Classic Movies",
          "New Zealand/Classic Movies",
          "Poland/Classic Movies",
          "Spain/Classic Movies",
          "United Kingdom/Classic Movies",
          "United States/Classic Movies",
          "West Germany/Classic Movies",
          "Argentina/Comedies",
          "Australia/Comedies",
          "Bangladesh/Comedies",
          "Belgium/Comedies",
          "Brazil/Comedies",
          "Cambodia/Comedies",
          "Canada/Comedies",
          "Cayman Islands/Comedies",
          "Chile/Comedies",
          "China/Comedies",
          "Colombia/Comedies",
          "Croatia/Comedies",
          "Czech Republic/Comedies",
          "Denmark/Comedies",
          "East Germany/Comedies",
          "Egypt/Comedies",
          "Finland/Comedies",
          "France/Comedies",
          "Germany/Comedies",
          "Ghana/Comedies",
          "Greece/Comedies",
          "Hong Kong/Comedies",
          "India/Comedies",
          "Indonesia/Comedies",
          "Ireland/Comedies",
          "Israel/Comedies",
          "Italy/Comedies",
          "Japan/Comedies",
          "Jordan/Comedies",
          "Kenya/Comedies",
          "Kuwait/Comedies",
          "Lebanon/Comedies",
          "Malaysia/Comedies",
          "Mauritius/Comedies",
          "Mexico/Comedies",
          "Nepal/Comedies",
          "Netherlands/Comedies",
          "New Zealand/Comedies",
          "Nigeria/Comedies",
          "Norway/Comedies",
          "Pakistan/Comedies",
          "Peru/Comedies",
          "Philippines/Comedies",
          "Poland/Comedies",
          "Portugal/Comedies",
          "Qatar/Comedies",
          "Romania/Comedies",
          "Russia/Comedies",
          "Saudi Arabia/Comedies",
          "Slovenia/Comedies",
          "South Africa/Comedies",
          "South Korea/Comedies",
          "Spain/Comedies",
          "Sweden/Comedies",
          "Switzerland/Comedies",
          "Syria/Comedies",
          "Taiwan/Comedies",
          "Thailand/Comedies",
          "Turkey/Comedies",
          "United Arab Emirates/Comedies",
          "United Kingdom/Comedies",
          "United States/Comedies",
          "Uruguay/Comedies",
          "Vietnam/Comedies",
          "West Germany/Comedies",
          "Zimbabwe/Comedies",
          "Argentina/Crime TV Shows",
          "Australia/Crime TV Shows",
          "Austria/Crime TV Shows",
          "Belgium/Crime TV Shows",
          "Brazil/Crime TV Shows",
          "Canada/Crime TV Shows",
          "Chile/Crime TV Shows",
          "China/Crime TV Shows",
          "Colombia/Crime TV Shows",
          "Cuba/Crime TV Shows",
          "Czech Republic/Crime TV Shows",
          "Denmark/Crime TV Shows",
          "Egypt/Crime TV Shows",
          "Finland/Crime TV Shows",
          "France/Crime TV Shows",
          "Germany/Crime TV Shows",
          "Hong Kong/Crime TV Shows",
          "Iceland/Crime TV Shows",
          "India/Crime TV Shows",
          "Indonesia/Crime TV Shows",
          "Ireland/Crime TV Shows",
          "Israel/Crime TV Shows",
          "Italy/Crime TV Shows",
          "Japan/Crime TV Shows",
          "Lebanon/Crime TV Shows",
          "Luxembourg/Crime TV Shows",
          "Malta/Crime TV Shows",
          "Mexico/Crime TV Shows",
          "Netherlands/Crime TV Shows",
          "Nigeria/Crime TV Shows",
          "Norway/Crime TV Shows",
          "Pakistan/Crime TV Shows",
          "Philippines/Crime TV Shows",
          "Poland/Crime TV Shows",
          "Puerto Rico/Crime TV Shows",
          "Russia/Crime TV Shows",
          "Senegal/Crime TV Shows",
          "Singapore/Crime TV Shows",
          "South Africa/Crime TV Shows",
          "South Korea/Crime TV Shows",
          "Spain/Crime TV Shows",
          "Sweden/Crime TV Shows",
          "Taiwan/Crime TV Shows",
          "Thailand/Crime TV Shows",
          "Turkey/Crime TV Shows",
          "Ukraine/Crime TV Shows",
          "United Kingdom/Crime TV Shows",
          "United States/Crime TV Shows",
          "Argentina/Cult Movies",
          "Australia/Cult Movies",
          "Canada/Cult Movies",
          "China/Cult Movies",
          "Czech Republic/Cult Movies",
          "Denmark/Cult Movies",
          "France/Cult Movies",
          "Germany/Cult Movies",
          "Hong Kong/Cult Movies",
          "India/Cult Movies",
          "Japan/Cult Movies",
          "Poland/Cult Movies",
          "Singapore/Cult Movies",
          "South Korea/Cult Movies",
          "Sweden/Cult Movies",
          "United Kingdom/Cult Movies",
          "United States/Cult Movies",
          "Afghanistan/Documentaries",
          "Argentina/Documentaries",
          "Armenia/Documentaries",
          "Australia/Documentaries",
          "Austria/Documentaries",
          "Belgium/Documentaries",
          "Bermuda/Documentaries",
          "Botswana/Documentaries",
          "Brazil/Documentaries",
          "Canada/Documentaries",
          "China/Documentaries",
          "Colombia/Documentaries",
          "Czech Republic/Documentaries",
          "Denmark/Documentaries",
          "Ecuador/Documentaries",
          "Egypt/Documentaries",
          "Finland/Documentaries",
          "France/Documentaries",
          "Georgia/Documentaries",
          "Germany/Documentaries",
          "Greece/Documentaries",
          "Guatemala/Documentaries",
          "Hong Kong/Documentaries",
          "India/Documentaries",
          "Indonesia/Documentaries",
          "Iraq/Documentaries",
          "Ireland/Documentaries",
          "Israel/Documentaries",
          "Italy/Documentaries",
          "Japan/Documentaries",
          "Jordan/Documentaries",
          "Kenya/Documentaries",
          "Lebanon/Documentaries",
          "Mexico/Documentaries",
          "Mongolia/Documentaries",
          "Morocco/Documentaries",
          "Namibia/Documentaries",
          "Netherlands/Documentaries",
          "New Zealand/Documentaries",
          "Nicaragua/Documentaries",
          "Nigeria/Documentaries",
          "Norway/Documentaries",
          "Palestine/Documentaries",
          "Panama/Documentaries",
          "Peru/Documentaries",
          "Philippines/Documentaries",
          "Poland/Documentaries",
          "Qatar/Documentaries",
          "Romania/Documentaries",
          "Russia/Documentaries",
          "Samoa/Documentaries",
          "Senegal/Documentaries",
          "Serbia/Documentaries",
          "Singapore/Documentaries",
          "South Africa/Documentaries",
          "South Korea/Documentaries",
          "Spain/Documentaries",
          "Sri Lanka/Documentaries",
          "Sweden/Documentaries",
          "Switzerland/Documentaries",
          "Taiwan/Documentaries",
          "Thailand/Documentaries",
          "Uganda/Documentaries",
          "Ukraine/Documentaries",
          "United Arab Emirates/Documentaries",
          "United Kingdom/Documentaries",
          "United States/Documentaries",
          "Uruguay/Documentaries",
          "Vatican City/Documentaries",
          "Venezuela/Documentaries",
          "Vietnam/Documentaries",
          "West Germany/Documentaries",
          "Zimbabwe/Documentaries",
          "Argentina/Docuseries",
          "Australia/Docuseries",
          "Belgium/Docuseries",
          "Brazil/Docuseries",
          "Canada/Docuseries",
          "China/Docuseries",
          "Colombia/Docuseries",
          "Czech Republic/Docuseries",
          "Denmark/Docuseries",
          "France/Docuseries",
          "Germany/Docuseries",
          "Greece/Docuseries",
          "India/Docuseries",
          "Israel/Docuseries",
          "Italy/Docuseries",
          "Japan/Docuseries",
          "Mexico/Docuseries",
          "New Zealand/Docuseries",
          "Norway/Docuseries",
          "Poland/Docuseries",
          "Russia/Docuseries",
          "South Africa/Docuseries",
          "Spain/Docuseries",
          "Thailand/Docuseries",
          "United Kingdom/Docuseries",
          "United States/Docuseries",
          "Uruguay/Docuseries",
          "Albania/Dramas",
          "Algeria/Dramas",
          "Argentina/Dramas",
          "Australia/Dramas",
          "Austria/Dramas",
          "Bangladesh/Dramas",
          "Belgium/Dramas",
          "Brazil/Dramas",
          "Bulgaria/Dramas",
          "Burkina Faso/Dramas",
          "Cambodia/Dramas",
          "Cameroon/Dramas",
          "Canada/Dramas",
          "Chile/Dramas",
          "China/Dramas",
          "Colombia/Dramas",
          "Croatia/Dramas",
          "Czech Republic/Dramas",
          "Denmark/Dramas",
          "Egypt/Dramas",
          "Ethiopia/Dramas",
          "Finland/Dramas",
          "France/Dramas",
          "Georgia/Dramas",
          "Germany/Dramas",
          "Ghana/Dramas",
          "Greece/Dramas",
          "Guatemala/Dramas",
          "Hong Kong/Dramas",
          "Hungary/Dramas",
          "Iceland/Dramas",
          "India/Dramas",
          "Indonesia/Dramas",
          "Iran/Dramas",
          "Ireland/Dramas",
          "Israel/Dramas",
          "Italy/Dramas",
          "Jamaica/Dramas",
          "Japan/Dramas",
          "Jordan/Dramas",
          "Kenya/Dramas",
          "Kuwait/Dramas",
          "Latvia/Dramas",
          "Lebanon/Dramas",
          "Liechtenstein/Dramas",
          "Lithuania/Dramas",
          "Luxembourg/Dramas",
          "Malawi/Dramas",
          "Malaysia/Dramas",
          "Malta/Dramas",
          "Mexico/Dramas",
          "Montenegro/Dramas",
          "Morocco/Dramas",
          "Mozambique/Dramas",
          "Namibia/Dramas",
          "Nepal/Dramas",
          "Netherlands/Dramas",
          "New Zealand/Dramas",
          "Nigeria/Dramas",
          "Norway/Dramas",
          "Pakistan/Dramas",
          "Peru/Dramas",
          "Philippines/Dramas",
          "Poland/Dramas",
          "Portugal/Dramas",
          "Qatar/Dramas",
          "Romania/Dramas",
          "Russia/Dramas",
          "Saudi Arabia/Dramas",
          "Senegal/Dramas",
          "Serbia/Dramas",
          "Singapore/Dramas",
          "Slovakia/Dramas",
          "Slovenia/Dramas",
          "Somalia/Dramas",
          "South Africa/Dramas",
          "South Korea/Dramas",
          "Soviet Union/Dramas",
          "Spain/Dramas",
          "Sudan/Dramas",
          "Sweden/Dramas",
          "Switzerland/Dramas",
          "Syria/Dramas",
          "Taiwan/Dramas",
          "Thailand/Dramas",
          "Turkey/Dramas",
          "United Arab Emirates/Dramas",
          "United Kingdom/Dramas",
          "United States/Dramas",
          "Uruguay/Dramas",
          "Venezuela/Dramas",
          "Vietnam/Dramas",
          "Australia/Faith & Spirituality",
          "Brazil/Faith & Spirituality",
          "Canada/Faith & Spirituality",
          "China/Faith & Spirituality",
          "France/Faith & Spirituality",
          "Germany/Faith & Spirituality",
          "India/Faith & Spirituality",
          "Indonesia/Faith & Spirituality",
          "Ireland/Faith & Spirituality",
          "Israel/Faith & Spirituality",
          "Italy/Faith & Spirituality",
          "Mexico/Faith & Spirituality",
          "Morocco/Faith & Spirituality",
          "Nigeria/Faith & Spirituality",
          "Portugal/Faith & Spirituality",
          "South Africa/Faith & Spirituality",
          "Spain/Faith & Spirituality",
          "Switzerland/Faith & Spirituality",
          "Thailand/Faith & Spirituality",
          "United Kingdom/Faith & Spirituality",
          "United States/Faith & Spirituality",
          "Vatican City/Faith & Spirituality",
          "Argentina/Horror Movies",
          "Australia/Horror Movies",
          "Austria/Horror Movies",
          "Belgium/Horror Movies",
          "Bulgaria/Horror Movies",
          "Canada/Horror Movies",
          "Chile/Horror Movies",
          "China/Horror Movies",
          "Czech Republic/Horror Movies",
          "Dominican Republic/Horror Movies",
          "Egypt/Horror Movies",
          "France/Horror Movies",
          "Germany/Horror Movies",
          "Hungary/Horror Movies",
          "Iceland/Horror Movies",
          "India/Horror Movies",
          "Indonesia/Horror Movies",
          "Iran/Horror Movies",
          "Ireland/Horror Movies",
          "Israel/Horror Movies",
          "Italy/Horror Movies",
          "Japan/Horror Movies",
          "Jordan/Horror Movies",
          "Malaysia/Horror Movies",
          "Mexico/Horror Movies",
          "New Zealand/Horror Movies",
          "Nigeria/Horror Movies",
          "Norway/Horror Movies",
          "Pakistan/Horror Movies",
          "Peru/Horror Movies",
          "Philippines/Horror Movies",
          "Poland/Horror Movies",
          "Qatar/Horror Movies",
          "Russia/Horror Movies",
          "Serbia/Horror Movies",
          "Singapore/Horror Movies",
          "Slovenia/Horror Movies",
          "South Africa/Horror Movies",
          "South Korea/Horror Movies",
          "Spain/Horror Movies",
          "Taiwan/Horror Movies",
          "Thailand/Horror Movies",
          "Turkey/Horror Movies",
          "United Arab Emirates/Horror Movies",
          "United Kingdom/Horror Movies",
          "United States/Horror Movies",
          "Vietnam/Horror Movies",
          "West Germany/Horror Movies",
          "Algeria/Independent Movies",
          "Argentina/Independent Movies",
          "Australia/Independent Movies",
          "Austria/Independent Movies",
          "Bangladesh/Independent Movies",
          "Belgium/Independent Movies",
          "Brazil/Independent Movies",
          "Bulgaria/Independent Movies",
          "Burkina Faso/Independent Movies",
          "Canada/Independent Movies",
          "Chile/Independent Movies",
          "China/Independent Movies",
          "Colombia/Independent Movies",
          "Croatia/Independent Movies",
          "Czech Republic/Independent Movies",
          "Denmark/Independent Movies",
          "Egypt/Independent Movies",
          "Ethiopia/Independent Movies",
          "France/Independent Movies",
          "Georgia/Independent Movies",
          "Germany/Independent Movies",
          "Ghana/Independent Movies",
          "Greece/Independent Movies",
          "Guatemala/Independent Movies",
          "Hong Kong/Independent Movies",
          "Iceland/Independent Movies",
          "India/Independent Movies",
          "Indonesia/Independent Movies",
          "Iran/Independent Movies",
          "Ireland/Independent Movies",
          "Israel/Independent Movies",
          "Italy/Independent Movies",
          "Japan/Independent Movies",
          "Jordan/Independent Movies",
          "Lebanon/Independent Movies",
          "Luxembourg/Independent Movies",
          "Malawi/Independent Movies",
          "Malaysia/Independent Movies",
          "Mexico/Independent Movies",
          "Morocco/Independent Movies",
          "Netherlands/Independent Movies",
          "New Zealand/Independent Movies",
          "Nigeria/Independent Movies",
          "Norway/Independent Movies",
          "Pakistan/Independent Movies",
          "Philippines/Independent Movies",
          "Poland/Independent Movies",
          "Portugal/Independent Movies",
          "Qatar/Independent Movies",
          "Saudi Arabia/Independent Movies",
          "Senegal/Independent Movies",
          "Serbia/Independent Movies",
          "Singapore/Independent Movies",
          "Slovenia/Independent Movies",
          "South Africa/Independent Movies",
          "South Korea/Independent Movies",
          "Spain/Independent Movies",
          "Sweden/Independent Movies",
          "Switzerland/Independent Movies",
          "Syria/Independent Movies",
          "Taiwan/Independent Movies",
          "Turkey/Independent Movies",
          "United Arab Emirates/Independent Movies",
          "United Kingdom/Independent Movies",
          "United States/Independent Movies",
          "Uruguay/Independent Movies",
          "Afghanistan/International Movies",
          "Albania/International Movies",
          "Algeria/International Movies",
          "Angola/International Movies",
          "Argentina/International Movies",
          "Armenia/International Movies",
          "Australia/International Movies",
          "Austria/International Movies",
          "Bangladesh/International Movies",
          "Belgium/International Movies",
          "Brazil/International Movies",
          "Bulgaria/International Movies",
          "Burkina Faso/International Movies",
          "Cambodia/International Movies",
          "Cameroon/International Movies",
          "Canada/International Movies",
          "Chile/International Movies",
          "China/International Movies",
          "Colombia/International Movies",
          "Croatia/International Movies",
          "Czech Republic/International Movies",
          "Denmark/International Movies",
          "Dominican Republic/International Movies",
          "Egypt/International Movies",
          "Ethiopia/International Movies",
          "Finland/International Movies",
          "France/International Movies",
          "Georgia/International Movies",
          "Germany/International Movies",
          "Ghana/International Movies",
          "Greece/International Movies",
          "Guatemala/International Movies",
          "Hong Kong/International Movies",
          "Hungary/International Movies",
          "Iceland/International Movies",
          "India/International Movies",
          "Indonesia/International Movies",
          "Iran/International Movies",
          "Iraq/International Movies",
          "Ireland/International Movies",
          "Israel/International Movies",
          "Italy/International Movies",
          "Jamaica/International Movies",
          "Japan/International Movies",
          "Jordan/International Movies",
          "Kenya/International Movies",
          "Kuwait/International Movies",
          "Latvia/International Movies",
          "Lebanon/International Movies",
          "Lithuania/International Movies",
          "Luxembourg/International Movies",
          "Malaysia/International Movies",
          "Mexico/International Movies",
          "Mongolia/International Movies",
          "Montenegro/International Movies",
          "Morocco/International Movies",
          "Mozambique/International Movies",
          "Namibia/International Movies",
          "Nepal/International Movies",
          "Netherlands/International Movies",
          "New Zealand/International Movies",
          "Nigeria/International Movies",
          "Norway/International Movies",
          "Pakistan/International Movies",
          "Palestine/International Movies",
          "Paraguay/International Movies",
          "Peru/International Movies",
          "Philippines/International Movies",
          "Poland/International Movies",
          "Portugal/International Movies",
          "Qatar/International Movies",
          "Romania/International Movies",
          "Russia/International Movies",
          "Saudi Arabia/International Movies",
          "Senegal/International Movies",
          "Serbia/International Movies",
          "Singapore/International Movies",
          "Slovakia/International Movies",
          "Slovenia/International Movies",
          "South Africa/International Movies",
          "South Korea/International Movies",
          "Soviet Union/International Movies",
          "Spain/International Movies",
          "Sri Lanka/International Movies",
          "Sweden/International Movies",
          "Switzerland/International Movies",
          "Syria/International Movies",
          "Taiwan/International Movies",
          "Thailand/International Movies",
          "Turkey/International Movies",
          "Ukraine/International Movies",
          "United Arab Emirates/International Movies",
          "United Kingdom/International Movies",
          "United States/International Movies",
          "Uruguay/International Movies",
          "Vatican City/International Movies",
          "Venezuela/International Movies",
          "Vietnam/International Movies",
          "West Germany/International Movies",
          "Zimbabwe/International Movies",
          "Argentina/International TV Shows",
          "Australia/International TV Shows",
          "Austria/International TV Shows",
          "Azerbaijan/International TV Shows",
          "Belgium/International TV Shows",
          "Brazil/International TV Shows",
          "Canada/International TV Shows",
          "Chile/International TV Shows",
          "China/International TV Shows",
          "Colombia/International TV Shows",
          "Croatia/International TV Shows",
          "Cuba/International TV Shows",
          "Czech Republic/International TV Shows",
          "Denmark/International TV Shows",
          "Egypt/International TV Shows",
          "Finland/International TV Shows",
          "France/International TV Shows",
          "Germany/International TV Shows",
          "Greece/International TV Shows",
          "Hong Kong/International TV Shows",
          "Iceland/International TV Shows",
          "India/International TV Shows",
          "Indonesia/International TV Shows",
          "Ireland/International TV Shows",
          "Israel/International TV Shows",
          "Italy/International TV Shows",
          "Japan/International TV Shows",
          "Jordan/International TV Shows",
          "Kuwait/International TV Shows",
          "Lebanon/International TV Shows",
          "Luxembourg/International TV Shows",
          "Malaysia/International TV Shows",
          "Mauritius/International TV Shows",
          "Mexico/International TV Shows",
          "Netherlands/International TV Shows",
          "New Zealand/International TV Shows",
          "Nigeria/International TV Shows",
          "Norway/International TV Shows",
          "Pakistan/International TV Shows",
          "Philippines/International TV Shows",
          "Poland/International TV Shows",
          "Puerto Rico/International TV Shows",
          "Russia/International TV Shows",
          "Saudi Arabia/International TV Shows",
          "Senegal/International TV Shows",
          "Singapore/International TV Shows",
          "South Africa/International TV Shows",
          "South Korea/International TV Shows",
          "Spain/International TV Shows",
          "Sweden/International TV Shows",
          "Switzerland/International TV Shows",
          "Syria/International TV Shows",
          "Taiwan/International TV Shows",
          "Thailand/International TV Shows",
          "Turkey/International TV Shows",
          "Ukraine/International TV Shows",
          "United Arab Emirates/International TV Shows",
          "United Kingdom/International TV Shows",
          "United States/International TV Shows",
          "Uruguay/International TV Shows",
          "West Germany/International TV Shows",
          "Argentina/Kids' TV",
          "Australia/Kids' TV",
          "Belarus/Kids' TV",
          "Belgium/Kids' TV",
          "Brazil/Kids' TV",
          "Canada/Kids' TV",
          "China/Kids' TV",
          "Cyprus/Kids' TV",
          "Denmark/Kids' TV",
          "Finland/Kids' TV",
          "France/Kids' TV",
          "Germany/Kids' TV",
          "India/Kids' TV",
          "Indonesia/Kids' TV",
          "Ireland/Kids' TV",
          "Italy/Kids' TV",
          "Japan/Kids' TV",
          "Luxembourg/Kids' TV",
          "Malaysia/Kids' TV",
          "Mexico/Kids' TV",
          "Netherlands/Kids' TV",
          "New Zealand/Kids' TV",
          "Russia/Kids' TV",
          "Singapore/Kids' TV",
          "South Korea/Kids' TV",
          "Spain/Kids' TV",
          "Sweden/Kids' TV",
          "United Kingdom/Kids' TV",
          "United States/Kids' TV",
          "Canada/Korean TV Shows",
          "China/Korean TV Shows",
          "Hong Kong/Korean TV Shows",
          "Malaysia/Korean TV Shows",
          "Russia/Korean TV Shows",
          "Singapore/Korean TV Shows",
          "South Korea/Korean TV Shows",
          "United States/Korean TV Shows",
          "Argentina/LGBTQ Movies",
          "Australia/LGBTQ Movies",
          "Belgium/LGBTQ Movies",
          "Brazil/LGBTQ Movies",
          "Canada/LGBTQ Movies",
          "France/LGBTQ Movies",
          "Germany/LGBTQ Movies",
          "Greece/LGBTQ Movies",
          "India/LGBTQ Movies",
          "Italy/LGBTQ Movies",
          "Japan/LGBTQ Movies",
          "Mexico/LGBTQ Movies",
          "Netherlands/LGBTQ Movies",
          "Philippines/LGBTQ Movies",
          "Portugal/LGBTQ Movies",
          "South Korea/LGBTQ Movies",
          "Spain/LGBTQ Movies",
          "Taiwan/LGBTQ Movies",
          "Thailand/LGBTQ Movies",
          "United Kingdom/LGBTQ Movies",
          "United States/LGBTQ Movies",
          "Argentina/Movies",
          "Australia/Movies",
          "Canada/Movies",
          "France/Movies",
          "Germany/Movies",
          "Greece/Movies",
          "Japan/Movies",
          "Mexico/Movies",
          "South Korea/Movies",
          "Spain/Movies",
          "United Kingdom/Movies",
          "United States/Movies",
          "Argentina/Music & Musicals",
          "Australia/Music & Musicals",
          "Belgium/Music & Musicals",
          "Brazil/Music & Musicals",
          "Canada/Music & Musicals",
          "China/Music & Musicals",
          "Egypt/Music & Musicals",
          "Finland/Music & Musicals",
          "France/Music & Musicals",
          "Germany/Music & Musicals",
          "Hong Kong/Music & Musicals",
          "India/Music & Musicals",
          "Indonesia/Music & Musicals",
          "Italy/Music & Musicals",
          "Japan/Music & Musicals",
          "Lebanon/Music & Musicals",
          "Mexico/Music & Musicals",
          "Netherlands/Music & Musicals",
          "Nigeria/Music & Musicals",
          "Pakistan/Music & Musicals",
          "Philippines/Music & Musicals",
          "Romania/Music & Musicals",
          "Saudi Arabia/Music & Musicals",
          "South Africa/Music & Musicals",
          "South Korea/Music & Musicals",
          "Soviet Union/Music & Musicals",
          "Spain/Music & Musicals",
          "Sweden/Music & Musicals",
          "Taiwan/Music & Musicals",
          "Thailand/Music & Musicals",
          "Turkey/Music & Musicals",
          "United Arab Emirates/Music & Musicals",
          "United Kingdom/Music & Musicals",
          "United States/Music & Musicals",
          "Uruguay/Music & Musicals",
          "Vietnam/Music & Musicals",
          "Argentina/Reality TV",
          "Australia/Reality TV",
          "Brazil/Reality TV",
          "Canada/Reality TV",
          "China/Reality TV",
          "Czech Republic/Reality TV",
          "France/Reality TV",
          "Germany/Reality TV",
          "India/Reality TV",
          "Japan/Reality TV",
          "Mexico/Reality TV",
          "New Zealand/Reality TV",
          "Singapore/Reality TV",
          "South Korea/Reality TV",
          "Spain/Reality TV",
          "Taiwan/Reality TV",
          "United Kingdom/Reality TV",
          "United States/Reality TV",
          "Argentina/Romantic Movies",
          "Australia/Romantic Movies",
          "Belgium/Romantic Movies",
          "Brazil/Romantic Movies",
          "Canada/Romantic Movies",
          "Chile/Romantic Movies",
          "China/Romantic Movies",
          "Colombia/Romantic Movies",
          "Czech Republic/Romantic Movies",
          "Denmark/Romantic Movies",
          "Egypt/Romantic Movies",
          "France/Romantic Movies",
          "Germany/Romantic Movies",
          "Greece/Romantic Movies",
          "Hong Kong/Romantic Movies",
          "Hungary/Romantic Movies",
          "Iceland/Romantic Movies",
          "India/Romantic Movies",
          "Indonesia/Romantic Movies",
          "Ireland/Romantic Movies",
          "Italy/Romantic Movies",
          "Japan/Romantic Movies",
          "Kenya/Romantic Movies",
          "Lebanon/Romantic Movies",
          "Liechtenstein/Romantic Movies",
          "Malaysia/Romantic Movies",
          "Malta/Romantic Movies",
          "Mexico/Romantic Movies",
          "Netherlands/Romantic Movies",
          "New Zealand/Romantic Movies",
          "Nigeria/Romantic Movies",
          "Norway/Romantic Movies",
          "Pakistan/Romantic Movies",
          "Peru/Romantic Movies",
          "Philippines/Romantic Movies",
          "Poland/Romantic Movies",
          "Portugal/Romantic Movies",
          "Romania/Romantic Movies",
          "Saudi Arabia/Romantic Movies",
          "Singapore/Romantic Movies",
          "South Africa/Romantic Movies",
          "South Korea/Romantic Movies",
          "Soviet Union/Romantic Movies",
          "Spain/Romantic Movies",
          "Sweden/Romantic Movies",
          "Taiwan/Romantic Movies",
          "Thailand/Romantic Movies",
          "Turkey/Romantic Movies",
          "United Arab Emirates/Romantic Movies",
          "United Kingdom/Romantic Movies",
          "United States/Romantic Movies",
          "Vietnam/Romantic Movies",
          "Zimbabwe/Romantic Movies",
          "Argentina/Romantic TV Shows",
          "Australia/Romantic TV Shows",
          "Azerbaijan/Romantic TV Shows",
          "Brazil/Romantic TV Shows",
          "Canada/Romantic TV Shows",
          "China/Romantic TV Shows",
          "Colombia/Romantic TV Shows",
          "Egypt/Romantic TV Shows",
          "France/Romantic TV Shows",
          "Germany/Romantic TV Shows",
          "Hong Kong/Romantic TV Shows",
          "India/Romantic TV Shows",
          "Indonesia/Romantic TV Shows",
          "Israel/Romantic TV Shows",
          "Italy/Romantic TV Shows",
          "Japan/Romantic TV Shows",
          "Kuwait/Romantic TV Shows",
          "Lebanon/Romantic TV Shows",
          "Malaysia/Romantic TV Shows",
          "Mexico/Romantic TV Shows",
          "Nigeria/Romantic TV Shows",
          "Norway/Romantic TV Shows",
          "Pakistan/Romantic TV Shows",
          "Philippines/Romantic TV Shows",
          "Russia/Romantic TV Shows",
          "Singapore/Romantic TV Shows",
          "South Africa/Romantic TV Shows",
          "South Korea/Romantic TV Shows",
          "Spain/Romantic TV Shows",
          "Sweden/Romantic TV Shows",
          "Taiwan/Romantic TV Shows",
          "Thailand/Romantic TV Shows",
          "Turkey/Romantic TV Shows",
          "United Kingdom/Romantic TV Shows",
          "United States/Romantic TV Shows",
          "Argentina/Sci-Fi & Fantasy",
          "Australia/Sci-Fi & Fantasy",
          "Austria/Sci-Fi & Fantasy",
          "Belgium/Sci-Fi & Fantasy",
          "Bulgaria/Sci-Fi & Fantasy",
          "Cambodia/Sci-Fi & Fantasy",
          "Canada/Sci-Fi & Fantasy",
          "China/Sci-Fi & Fantasy",
          "Colombia/Sci-Fi & Fantasy",
          "Czech Republic/Sci-Fi & Fantasy",
          "France/Sci-Fi & Fantasy",
          "Germany/Sci-Fi & Fantasy",
          "Greece/Sci-Fi & Fantasy",
          "Hong Kong/Sci-Fi & Fantasy",
          "Hungary/Sci-Fi & Fantasy",
          "Iceland/Sci-Fi & Fantasy",
          "India/Sci-Fi & Fantasy",
          "Indonesia/Sci-Fi & Fantasy",
          "Israel/Sci-Fi & Fantasy",
          "Italy/Sci-Fi & Fantasy",
          "Japan/Sci-Fi & Fantasy",
          "Kuwait/Sci-Fi & Fantasy",
          "Luxembourg/Sci-Fi & Fantasy",
          "Mexico/Sci-Fi & Fantasy",
          "Netherlands/Sci-Fi & Fantasy",
          "New Zealand/Sci-Fi & Fantasy",
          "Poland/Sci-Fi & Fantasy",
          "Romania/Sci-Fi & Fantasy",
          "Russia/Sci-Fi & Fantasy",
          "Serbia/Sci-Fi & Fantasy",
          "Singapore/Sci-Fi & Fantasy",
          "Slovenia/Sci-Fi & Fantasy",
          "South Africa/Sci-Fi & Fantasy",
          "South Korea/Sci-Fi & Fantasy",
          "Soviet Union/Sci-Fi & Fantasy",
          "Spain/Sci-Fi & Fantasy",
          "Switzerland/Sci-Fi & Fantasy",
          "United Arab Emirates/Sci-Fi & Fantasy",
          "United Kingdom/Sci-Fi & Fantasy",
          "United States/Sci-Fi & Fantasy",
          "Australia/Science & Nature TV",
          "Brazil/Science & Nature TV",
          "Canada/Science & Nature TV",
          "Czech Republic/Science & Nature TV",
          "France/Science & Nature TV",
          "Germany/Science & Nature TV",
          "Greece/Science & Nature TV",
          "Norway/Science & Nature TV",
          "Russia/Science & Nature TV",
          "Spain/Science & Nature TV",
          "United Kingdom/Science & Nature TV",
          "United States/Science & Nature TV",
          "Uruguay/Science & Nature TV",
          "Argentina/Spanish-Language TV Shows",
          "Chile/Spanish-Language TV Shows",
          "Colombia/Spanish-Language TV Shows",
          "Cuba/Spanish-Language TV Shows",
          "Italy/Spanish-Language TV Shows",
          "Mexico/Spanish-Language TV Shows",
          "Puerto Rico/Spanish-Language TV Shows",
          "Spain/Spanish-Language TV Shows",
          "United Kingdom/Spanish-Language TV Shows",
          "United States/Spanish-Language TV Shows",
          "Argentina/Sports Movies",
          "Australia/Sports Movies",
          "Austria/Sports Movies",
          "Brazil/Sports Movies",
          "Canada/Sports Movies",
          "Chile/Sports Movies",
          "China/Sports Movies",
          "Czech Republic/Sports Movies",
          "Denmark/Sports Movies",
          "Egypt/Sports Movies",
          "Finland/Sports Movies",
          "France/Sports Movies",
          "Germany/Sports Movies",
          "Hong Kong/Sports Movies",
          "India/Sports Movies",
          "Indonesia/Sports Movies",
          "Ireland/Sports Movies",
          "Israel/Sports Movies",
          "Italy/Sports Movies",
          "Jamaica/Sports Movies",
          "Japan/Sports Movies",
          "Mexico/Sports Movies",
          "New Zealand/Sports Movies",
          "Panama/Sports Movies",
          "Peru/Sports Movies",
          "Philippines/Sports Movies",
          "Portugal/Sports Movies",
          "Russia/Sports Movies",
          "Samoa/Sports Movies",
          "South Africa/Sports Movies",
          "Spain/Sports Movies",
          "Sweden/Sports Movies",
          "Taiwan/Sports Movies",
          "Thailand/Sports Movies",
          "Turkey/Sports Movies",
          "United Arab Emirates/Sports Movies",
          "United Kingdom/Sports Movies",
          "United States/Sports Movies",
          "Uruguay/Sports Movies",
          "Argentina/Stand-Up Comedy",
          "Australia/Stand-Up Comedy",
          "Brazil/Stand-Up Comedy",
          "Canada/Stand-Up Comedy",
          "Chile/Stand-Up Comedy",
          "Colombia/Stand-Up Comedy",
          "France/Stand-Up Comedy",
          "Germany/Stand-Up Comedy",
          "Iceland/Stand-Up Comedy",
          "India/Stand-Up Comedy",
          "Italy/Stand-Up Comedy",
          "Mexico/Stand-Up Comedy",
          "Netherlands/Stand-Up Comedy",
          "Singapore/Stand-Up Comedy",
          "South Africa/Stand-Up Comedy",
          "South Korea/Stand-Up Comedy",
          "Spain/Stand-Up Comedy",
          "Sweden/Stand-Up Comedy",
          "United Kingdom/Stand-Up Comedy",
          "United States/Stand-Up Comedy",
          "Brazil/Stand-Up Comedy & Talk Shows",
          "Colombia/Stand-Up Comedy & Talk Shows",
          "France/Stand-Up Comedy & Talk Shows",
          "Germany/Stand-Up Comedy & Talk Shows",
          "India/Stand-Up Comedy & Talk Shows",
          "Japan/Stand-Up Comedy & Talk Shows",
          "Mexico/Stand-Up Comedy & Talk Shows",
          "South Korea/Stand-Up Comedy & Talk Shows",
          "United Kingdom/Stand-Up Comedy & Talk Shows",
          "United States/Stand-Up Comedy & Talk Shows",
          "Australia/TV Action & Adventure",
          "Belgium/TV Action & Adventure",
          "Canada/TV Action & Adventure",
          "China/TV Action & Adventure",
          "Colombia/TV Action & Adventure",
          "Denmark/TV Action & Adventure",
          "France/TV Action & Adventure",
          "Germany/TV Action & Adventure",
          "India/TV Action & Adventure",
          "Ireland/TV Action & Adventure",
          "Israel/TV Action & Adventure",
          "Japan/TV Action & Adventure",
          "Malta/TV Action & Adventure",
          "Mexico/TV Action & Adventure",
          "Netherlands/TV Action & Adventure",
          "New Zealand/TV Action & Adventure",
          "Norway/TV Action & Adventure",
          "Poland/TV Action & Adventure",
          "Russia/TV Action & Adventure",
          "South Africa/TV Action & Adventure",
          "South Korea/TV Action & Adventure",
          "Spain/TV Action & Adventure",
          "Taiwan/TV Action & Adventure",
          "Thailand/TV Action & Adventure",
          "Turkey/TV Action & Adventure",
          "United Kingdom/TV Action & Adventure",
          "United States/TV Action & Adventure",
          "Argentina/TV Comedies",
          "Australia/TV Comedies",
          "Belarus/TV Comedies",
          "Brazil/TV Comedies",
          "Canada/TV Comedies",
          "China/TV Comedies",
          "Colombia/TV Comedies",
          "Cyprus/TV Comedies",
          "Denmark/TV Comedies",
          "Egypt/TV Comedies",
          "Finland/TV Comedies",
          "France/TV Comedies",
          "Germany/TV Comedies",
          "Hong Kong/TV Comedies",
          "India/TV Comedies",
          "Indonesia/TV Comedies",
          "Ireland/TV Comedies",
          "Israel/TV Comedies",
          "Italy/TV Comedies",
          "Japan/TV Comedies",
          "Malaysia/TV Comedies",
          "Mexico/TV Comedies",
          "Netherlands/TV Comedies",
          "Nigeria/TV Comedies",
          "Norway/TV Comedies",
          "Philippines/TV Comedies",
          "Poland/TV Comedies",
          "Russia/TV Comedies",
          "Saudi Arabia/TV Comedies",
          "Singapore/TV Comedies",
          "South Africa/TV Comedies",
          "South Korea/TV Comedies",
          "Spain/TV Comedies",
          "Sweden/TV Comedies",
          "Switzerland/TV Comedies",
          "Taiwan/TV Comedies",
          "Thailand/TV Comedies",
          "Turkey/TV Comedies",
          "Ukraine/TV Comedies",
          "United Kingdom/TV Comedies",
          "United States/TV Comedies",
          "West Germany/TV Comedies",
          "Argentina/TV Dramas",
          "Australia/TV Dramas",
          "Austria/TV Dramas",
          "Azerbaijan/TV Dramas",
          "Belgium/TV Dramas",
          "Brazil/TV Dramas",
          "Canada/TV Dramas",
          "Chile/TV Dramas",
          "China/TV Dramas",
          "Colombia/TV Dramas",
          "Croatia/TV Dramas",
          "Czech Republic/TV Dramas",
          "Denmark/TV Dramas",
          "Egypt/TV Dramas",
          "Finland/TV Dramas",
          "France/TV Dramas",
          "Germany/TV Dramas",
          "Hong Kong/TV Dramas",
          "Hungary/TV Dramas",
          "Iceland/TV Dramas",
          "India/TV Dramas",
          "Indonesia/TV Dramas",
          "Ireland/TV Dramas",
          "Israel/TV Dramas",
          "Italy/TV Dramas",
          "Japan/TV Dramas",
          "Jordan/TV Dramas",
          "Kuwait/TV Dramas",
          "Lebanon/TV Dramas",
          "Luxembourg/TV Dramas",
          "Malaysia/TV Dramas",
          "Malta/TV Dramas",
          "Mauritius/TV Dramas",
          "Mexico/TV Dramas",
          "Netherlands/TV Dramas",
          "New Zealand/TV Dramas",
          "Nigeria/TV Dramas",
          "Norway/TV Dramas",
          "Pakistan/TV Dramas",
          "Philippines/TV Dramas",
          "Poland/TV Dramas",
          "Russia/TV Dramas",
          "Saudi Arabia/TV Dramas",
          "Senegal/TV Dramas",
          "Singapore/TV Dramas",
          "South Africa/TV Dramas",
          "South Korea/TV Dramas",
          "Spain/TV Dramas",
          "Sweden/TV Dramas",
          "Switzerland/TV Dramas",
          "Syria/TV Dramas",
          "Taiwan/TV Dramas",
          "Thailand/TV Dramas",
          "Turkey/TV Dramas",
          "Ukraine/TV Dramas",
          "United Arab Emirates/TV Dramas",
          "United Kingdom/TV Dramas",
          "United States/TV Dramas",
          "West Germany/TV Dramas",
          "Argentina/TV Horror",
          "Australia/TV Horror",
          "Brazil/TV Horror",
          "Canada/TV Horror",
          "Czech Republic/TV Horror",
          "Egypt/TV Horror",
          "France/TV Horror",
          "India/TV Horror",
          "Indonesia/TV Horror",
          "Ireland/TV Horror",
          "Italy/TV Horror",
          "Japan/TV Horror",
          "Netherlands/TV Horror",
          "Norway/TV Horror",
          "Philippines/TV Horror",
          "Singapore/TV Horror",
          "South Korea/TV Horror",
          "Taiwan/TV Horror",
          "Thailand/TV Horror",
          "Turkey/TV Horror",
          "United Kingdom/TV Horror",
          "United States/TV Horror",
          "Australia/TV Mysteries",
          "Belgium/TV Mysteries",
          "Brazil/TV Mysteries",
          "Canada/TV Mysteries",
          "China/TV Mysteries",
          "Denmark/TV Mysteries",
          "Egypt/TV Mysteries",
          "France/TV Mysteries",
          "Germany/TV Mysteries",
          "Iceland/TV Mysteries",
          "India/TV Mysteries",
          "Ireland/TV Mysteries",
          "Israel/TV Mysteries",
          "Japan/TV Mysteries",
          "Jordan/TV Mysteries",
          "Malaysia/TV Mysteries",
          "Norway/TV Mysteries",
          "Russia/TV Mysteries",
          "South Africa/TV Mysteries",
          "South Korea/TV Mysteries",
          "Taiwan/TV Mysteries",
          "Thailand/TV Mysteries",
          "Turkey/TV Mysteries",
          "United Arab Emirates/TV Mysteries",
          "United Kingdom/TV Mysteries",
          "United States/TV Mysteries",
          "Australia/TV Sci-Fi & Fantasy",
          "Belgium/TV Sci-Fi & Fantasy",
          "Brazil/TV Sci-Fi & Fantasy",
          "Canada/TV Sci-Fi & Fantasy",
          "China/TV Sci-Fi & Fantasy",
          "Egypt/TV Sci-Fi & Fantasy",
          "France/TV Sci-Fi & Fantasy",
          "Germany/TV Sci-Fi & Fantasy",
          "India/TV Sci-Fi & Fantasy",
          "Mexico/TV Sci-Fi & Fantasy",
          "New Zealand/TV Sci-Fi & Fantasy",
          "Singapore/TV Sci-Fi & Fantasy",
          "Taiwan/TV Sci-Fi & Fantasy",
          "Thailand/TV Sci-Fi & Fantasy",
          "United Kingdom/TV Sci-Fi & Fantasy",
          "United States/TV Sci-Fi & Fantasy",
          "India/TV Shows",
          "Japan/TV Shows",
          "Saudi Arabia/TV Shows",
          "United States/TV Shows",
          "Australia/TV Thrillers",
          "Canada/TV Thrillers",
          "Czech Republic/TV Thrillers",
          "Denmark/TV Thrillers",
          "France/TV Thrillers",
          "India/TV Thrillers",
          "Japan/TV Thrillers",
          "Lebanon/TV Thrillers",
          "New Zealand/TV Thrillers",
          "Norway/TV Thrillers",
          "South Korea/TV Thrillers",
          "Sweden/TV Thrillers",
          "Taiwan/TV Thrillers",
          "Thailand/TV Thrillers",
          "Turkey/TV Thrillers",
          "United Kingdom/TV Thrillers",
          "United States/TV Thrillers",
          "Argentina/Teen TV Shows",
          "Australia/Teen TV Shows",
          "Canada/Teen TV Shows",
          "China/Teen TV Shows",
          "India/Teen TV Shows",
          "Italy/Teen TV Shows",
          "Japan/Teen TV Shows",
          "Jordan/Teen TV Shows",
          "Spain/Teen TV Shows",
          "Taiwan/Teen TV Shows",
          "Thailand/Teen TV Shows",
          "Turkey/Teen TV Shows",
          "United States/Teen TV Shows",
          "Argentina/Thrillers",
          "Australia/Thrillers",
          "Austria/Thrillers",
          "Belgium/Thrillers",
          "Brazil/Thrillers",
          "Bulgaria/Thrillers",
          "Canada/Thrillers",
          "Chile/Thrillers",
          "China/Thrillers",
          "Czech Republic/Thrillers",
          "Denmark/Thrillers",
          "Dominican Republic/Thrillers",
          "Egypt/Thrillers",
          "France/Thrillers",
          "Germany/Thrillers",
          "Hong Kong/Thrillers",
          "Hungary/Thrillers",
          "Iceland/Thrillers",
          "India/Thrillers",
          "Iran/Thrillers",
          "Ireland/Thrillers",
          "Israel/Thrillers",
          "Italy/Thrillers",
          "Japan/Thrillers",
          "Jordan/Thrillers",
          "Kenya/Thrillers",
          "Kuwait/Thrillers",
          "Luxembourg/Thrillers",
          "Malta/Thrillers",
          "Mexico/Thrillers",
          "Mozambique/Thrillers",
          "Netherlands/Thrillers",
          "Nigeria/Thrillers",
          "Norway/Thrillers",
          "Philippines/Thrillers",
          "Poland/Thrillers",
          "Qatar/Thrillers",
          "Romania/Thrillers",
          "Russia/Thrillers",
          "Serbia/Thrillers",
          "Singapore/Thrillers",
          "South Africa/Thrillers",
          "South Korea/Thrillers",
          "Spain/Thrillers",
          "Sweden/Thrillers",
          "Switzerland/Thrillers",
          "Taiwan/Thrillers",
          "Thailand/Thrillers",
          "Turkey/Thrillers",
          "United Arab Emirates/Thrillers",
          "United Kingdom/Thrillers",
          "United States/Thrillers",
          "Venezuela/Thrillers",
          "Vietnam/Thrillers",
          "West Germany/Thrillers",
          "Afghanistan",
          "Albania",
          "Algeria",
          "Angola",
          "Argentina",
          "Armenia",
          "Australia",
          "Austria",
          "Azerbaijan",
          "Bahamas",
          "Bangladesh",
          "Belarus",
          "Belgium",
          "Bermuda",
          "Botswana",
          "Brazil",
          "Bulgaria",
          "Burkina Faso",
          "Cambodia",
          "Cameroon",
          "Canada",
          "Cayman Islands",
          "Chile",
          "China",
          "Colombia",
          "Croatia",
          "Cuba",
          "Cyprus",
          "Czech Republic",
          "Denmark",
          "Dominican Republic",
          "East Germany",
          "Ecuador",
          "Egypt",
          "Ethiopia",
          "Finland",
          "France",
          "Georgia",
          "Germany",
          "Ghana",
          "Greece",
          "Guatemala",
          "Hong Kong",
          "Hungary",
          "Iceland",
          "India",
          "Indonesia",
          "Iran",
          "Iraq",
          "Ireland",
          "Israel",
          "Italy",
          "Jamaica",
          "Japan",
          "Jordan",
          "Kazakhstan",
          "Kenya",
          "Kuwait",
          "Latvia",
          "Lebanon",
          "Liechtenstein",
          "Lithuania",
          "Luxembourg",
          "Malawi",
          "Malaysia",
          "Malta",
          "Mauritius",
          "Mexico",
          "Mongolia",
          "Montenegro",
          "Morocco",
          "Mozambique",
          "Namibia",
          "Nepal",
          "Netherlands",
          "New Zealand",
          "Nicaragua",
          "Nigeria",
          "Norway",
          "Pakistan",
          "Palestine",
          "Panama",
          "Paraguay",
          "Peru",
          "Philippines",
          "Poland",
          "Portugal",
          "Puerto Rico",
          "Qatar",
          "Romania",
          "Russia",
          "Samoa",
          "Saudi Arabia",
          "Senegal",
          "Serbia",
          "Singapore",
          "Slovakia",
          "Slovenia",
          "Somalia",
          "South Africa",
          "South Korea",
          "Soviet Union",
          "Spain",
          "Sri Lanka",
          "Sudan",
          "Sweden",
          "Switzerland",
          "Syria",
          "Taiwan",
          "Thailand",
          "Turkey",
          "Uganda",
          "Ukraine",
          "United Arab Emirates",
          "United Kingdom",
          "United States",
          "Uruguay",
          "Vatican City",
          "Venezuela",
          "Vietnam",
          "West Germany",
          "Zimbabwe"
         ],
         "labels": [
          "Action & Adventure",
          "Action & Adventure",
          "Action & Adventure",
          "Action & Adventure",
          "Action & Adventure",
          "Action & Adventure",
          "Action & Adventure",
          "Action & Adventure",
          "Action & Adventure",
          "Action & Adventure",
          "Action & Adventure",
          "Action & Adventure",
          "Action & Adventure",
          "Action & Adventure",
          "Action & Adventure",
          "Action & Adventure",
          "Action & Adventure",
          "Action & Adventure",
          "Action & Adventure",
          "Action & Adventure",
          "Action & Adventure",
          "Action & Adventure",
          "Action & Adventure",
          "Action & Adventure",
          "Action & Adventure",
          "Action & Adventure",
          "Action & Adventure",
          "Action & Adventure",
          "Action & Adventure",
          "Action & Adventure",
          "Action & Adventure",
          "Action & Adventure",
          "Action & Adventure",
          "Action & Adventure",
          "Action & Adventure",
          "Action & Adventure",
          "Action & Adventure",
          "Action & Adventure",
          "Action & Adventure",
          "Action & Adventure",
          "Action & Adventure",
          "Action & Adventure",
          "Action & Adventure",
          "Action & Adventure",
          "Action & Adventure",
          "Action & Adventure",
          "Action & Adventure",
          "Action & Adventure",
          "Action & Adventure",
          "Action & Adventure",
          "Action & Adventure",
          "Action & Adventure",
          "Action & Adventure",
          "Action & Adventure",
          "Action & Adventure",
          "Action & Adventure",
          "Action & Adventure",
          "Action & Adventure",
          "Action & Adventure",
          "Anime Features",
          "Anime Features",
          "Anime Features",
          "Anime Series",
          "Anime Series",
          "Anime Series",
          "Anime Series",
          "Anime Series",
          "Anime Series",
          "Anime Series",
          "Anime Series",
          "Anime Series",
          "British TV Shows",
          "British TV Shows",
          "British TV Shows",
          "British TV Shows",
          "British TV Shows",
          "British TV Shows",
          "British TV Shows",
          "British TV Shows",
          "British TV Shows",
          "British TV Shows",
          "British TV Shows",
          "British TV Shows",
          "British TV Shows",
          "British TV Shows",
          "British TV Shows",
          "British TV Shows",
          "British TV Shows",
          "British TV Shows",
          "Children & Family Movies",
          "Children & Family Movies",
          "Children & Family Movies",
          "Children & Family Movies",
          "Children & Family Movies",
          "Children & Family Movies",
          "Children & Family Movies",
          "Children & Family Movies",
          "Children & Family Movies",
          "Children & Family Movies",
          "Children & Family Movies",
          "Children & Family Movies",
          "Children & Family Movies",
          "Children & Family Movies",
          "Children & Family Movies",
          "Children & Family Movies",
          "Children & Family Movies",
          "Children & Family Movies",
          "Children & Family Movies",
          "Children & Family Movies",
          "Children & Family Movies",
          "Children & Family Movies",
          "Children & Family Movies",
          "Children & Family Movies",
          "Children & Family Movies",
          "Children & Family Movies",
          "Children & Family Movies",
          "Children & Family Movies",
          "Children & Family Movies",
          "Children & Family Movies",
          "Children & Family Movies",
          "Children & Family Movies",
          "Children & Family Movies",
          "Children & Family Movies",
          "Children & Family Movies",
          "Children & Family Movies",
          "Children & Family Movies",
          "Children & Family Movies",
          "Children & Family Movies",
          "Children & Family Movies",
          "Children & Family Movies",
          "Children & Family Movies",
          "Children & Family Movies",
          "Children & Family Movies",
          "Children & Family Movies",
          "Children & Family Movies",
          "Children & Family Movies",
          "Children & Family Movies",
          "Classic & Cult TV",
          "Classic & Cult TV",
          "Classic & Cult TV",
          "Classic & Cult TV",
          "Classic & Cult TV",
          "Classic Movies",
          "Classic Movies",
          "Classic Movies",
          "Classic Movies",
          "Classic Movies",
          "Classic Movies",
          "Classic Movies",
          "Classic Movies",
          "Classic Movies",
          "Classic Movies",
          "Classic Movies",
          "Classic Movies",
          "Classic Movies",
          "Classic Movies",
          "Classic Movies",
          "Classic Movies",
          "Classic Movies",
          "Classic Movies",
          "Classic Movies",
          "Classic Movies",
          "Classic Movies",
          "Comedies",
          "Comedies",
          "Comedies",
          "Comedies",
          "Comedies",
          "Comedies",
          "Comedies",
          "Comedies",
          "Comedies",
          "Comedies",
          "Comedies",
          "Comedies",
          "Comedies",
          "Comedies",
          "Comedies",
          "Comedies",
          "Comedies",
          "Comedies",
          "Comedies",
          "Comedies",
          "Comedies",
          "Comedies",
          "Comedies",
          "Comedies",
          "Comedies",
          "Comedies",
          "Comedies",
          "Comedies",
          "Comedies",
          "Comedies",
          "Comedies",
          "Comedies",
          "Comedies",
          "Comedies",
          "Comedies",
          "Comedies",
          "Comedies",
          "Comedies",
          "Comedies",
          "Comedies",
          "Comedies",
          "Comedies",
          "Comedies",
          "Comedies",
          "Comedies",
          "Comedies",
          "Comedies",
          "Comedies",
          "Comedies",
          "Comedies",
          "Comedies",
          "Comedies",
          "Comedies",
          "Comedies",
          "Comedies",
          "Comedies",
          "Comedies",
          "Comedies",
          "Comedies",
          "Comedies",
          "Comedies",
          "Comedies",
          "Comedies",
          "Comedies",
          "Comedies",
          "Comedies",
          "Crime TV Shows",
          "Crime TV Shows",
          "Crime TV Shows",
          "Crime TV Shows",
          "Crime TV Shows",
          "Crime TV Shows",
          "Crime TV Shows",
          "Crime TV Shows",
          "Crime TV Shows",
          "Crime TV Shows",
          "Crime TV Shows",
          "Crime TV Shows",
          "Crime TV Shows",
          "Crime TV Shows",
          "Crime TV Shows",
          "Crime TV Shows",
          "Crime TV Shows",
          "Crime TV Shows",
          "Crime TV Shows",
          "Crime TV Shows",
          "Crime TV Shows",
          "Crime TV Shows",
          "Crime TV Shows",
          "Crime TV Shows",
          "Crime TV Shows",
          "Crime TV Shows",
          "Crime TV Shows",
          "Crime TV Shows",
          "Crime TV Shows",
          "Crime TV Shows",
          "Crime TV Shows",
          "Crime TV Shows",
          "Crime TV Shows",
          "Crime TV Shows",
          "Crime TV Shows",
          "Crime TV Shows",
          "Crime TV Shows",
          "Crime TV Shows",
          "Crime TV Shows",
          "Crime TV Shows",
          "Crime TV Shows",
          "Crime TV Shows",
          "Crime TV Shows",
          "Crime TV Shows",
          "Crime TV Shows",
          "Crime TV Shows",
          "Crime TV Shows",
          "Crime TV Shows",
          "Cult Movies",
          "Cult Movies",
          "Cult Movies",
          "Cult Movies",
          "Cult Movies",
          "Cult Movies",
          "Cult Movies",
          "Cult Movies",
          "Cult Movies",
          "Cult Movies",
          "Cult Movies",
          "Cult Movies",
          "Cult Movies",
          "Cult Movies",
          "Cult Movies",
          "Cult Movies",
          "Cult Movies",
          "Documentaries",
          "Documentaries",
          "Documentaries",
          "Documentaries",
          "Documentaries",
          "Documentaries",
          "Documentaries",
          "Documentaries",
          "Documentaries",
          "Documentaries",
          "Documentaries",
          "Documentaries",
          "Documentaries",
          "Documentaries",
          "Documentaries",
          "Documentaries",
          "Documentaries",
          "Documentaries",
          "Documentaries",
          "Documentaries",
          "Documentaries",
          "Documentaries",
          "Documentaries",
          "Documentaries",
          "Documentaries",
          "Documentaries",
          "Documentaries",
          "Documentaries",
          "Documentaries",
          "Documentaries",
          "Documentaries",
          "Documentaries",
          "Documentaries",
          "Documentaries",
          "Documentaries",
          "Documentaries",
          "Documentaries",
          "Documentaries",
          "Documentaries",
          "Documentaries",
          "Documentaries",
          "Documentaries",
          "Documentaries",
          "Documentaries",
          "Documentaries",
          "Documentaries",
          "Documentaries",
          "Documentaries",
          "Documentaries",
          "Documentaries",
          "Documentaries",
          "Documentaries",
          "Documentaries",
          "Documentaries",
          "Documentaries",
          "Documentaries",
          "Documentaries",
          "Documentaries",
          "Documentaries",
          "Documentaries",
          "Documentaries",
          "Documentaries",
          "Documentaries",
          "Documentaries",
          "Documentaries",
          "Documentaries",
          "Documentaries",
          "Documentaries",
          "Documentaries",
          "Documentaries",
          "Documentaries",
          "Documentaries",
          "Documentaries",
          "Docuseries",
          "Docuseries",
          "Docuseries",
          "Docuseries",
          "Docuseries",
          "Docuseries",
          "Docuseries",
          "Docuseries",
          "Docuseries",
          "Docuseries",
          "Docuseries",
          "Docuseries",
          "Docuseries",
          "Docuseries",
          "Docuseries",
          "Docuseries",
          "Docuseries",
          "Docuseries",
          "Docuseries",
          "Docuseries",
          "Docuseries",
          "Docuseries",
          "Docuseries",
          "Docuseries",
          "Docuseries",
          "Docuseries",
          "Docuseries",
          "Dramas",
          "Dramas",
          "Dramas",
          "Dramas",
          "Dramas",
          "Dramas",
          "Dramas",
          "Dramas",
          "Dramas",
          "Dramas",
          "Dramas",
          "Dramas",
          "Dramas",
          "Dramas",
          "Dramas",
          "Dramas",
          "Dramas",
          "Dramas",
          "Dramas",
          "Dramas",
          "Dramas",
          "Dramas",
          "Dramas",
          "Dramas",
          "Dramas",
          "Dramas",
          "Dramas",
          "Dramas",
          "Dramas",
          "Dramas",
          "Dramas",
          "Dramas",
          "Dramas",
          "Dramas",
          "Dramas",
          "Dramas",
          "Dramas",
          "Dramas",
          "Dramas",
          "Dramas",
          "Dramas",
          "Dramas",
          "Dramas",
          "Dramas",
          "Dramas",
          "Dramas",
          "Dramas",
          "Dramas",
          "Dramas",
          "Dramas",
          "Dramas",
          "Dramas",
          "Dramas",
          "Dramas",
          "Dramas",
          "Dramas",
          "Dramas",
          "Dramas",
          "Dramas",
          "Dramas",
          "Dramas",
          "Dramas",
          "Dramas",
          "Dramas",
          "Dramas",
          "Dramas",
          "Dramas",
          "Dramas",
          "Dramas",
          "Dramas",
          "Dramas",
          "Dramas",
          "Dramas",
          "Dramas",
          "Dramas",
          "Dramas",
          "Dramas",
          "Dramas",
          "Dramas",
          "Dramas",
          "Dramas",
          "Dramas",
          "Dramas",
          "Dramas",
          "Dramas",
          "Dramas",
          "Dramas",
          "Dramas",
          "Dramas",
          "Dramas",
          "Dramas",
          "Dramas",
          "Faith & Spirituality",
          "Faith & Spirituality",
          "Faith & Spirituality",
          "Faith & Spirituality",
          "Faith & Spirituality",
          "Faith & Spirituality",
          "Faith & Spirituality",
          "Faith & Spirituality",
          "Faith & Spirituality",
          "Faith & Spirituality",
          "Faith & Spirituality",
          "Faith & Spirituality",
          "Faith & Spirituality",
          "Faith & Spirituality",
          "Faith & Spirituality",
          "Faith & Spirituality",
          "Faith & Spirituality",
          "Faith & Spirituality",
          "Faith & Spirituality",
          "Faith & Spirituality",
          "Faith & Spirituality",
          "Faith & Spirituality",
          "Horror Movies",
          "Horror Movies",
          "Horror Movies",
          "Horror Movies",
          "Horror Movies",
          "Horror Movies",
          "Horror Movies",
          "Horror Movies",
          "Horror Movies",
          "Horror Movies",
          "Horror Movies",
          "Horror Movies",
          "Horror Movies",
          "Horror Movies",
          "Horror Movies",
          "Horror Movies",
          "Horror Movies",
          "Horror Movies",
          "Horror Movies",
          "Horror Movies",
          "Horror Movies",
          "Horror Movies",
          "Horror Movies",
          "Horror Movies",
          "Horror Movies",
          "Horror Movies",
          "Horror Movies",
          "Horror Movies",
          "Horror Movies",
          "Horror Movies",
          "Horror Movies",
          "Horror Movies",
          "Horror Movies",
          "Horror Movies",
          "Horror Movies",
          "Horror Movies",
          "Horror Movies",
          "Horror Movies",
          "Horror Movies",
          "Horror Movies",
          "Horror Movies",
          "Horror Movies",
          "Horror Movies",
          "Horror Movies",
          "Horror Movies",
          "Horror Movies",
          "Horror Movies",
          "Horror Movies",
          "Independent Movies",
          "Independent Movies",
          "Independent Movies",
          "Independent Movies",
          "Independent Movies",
          "Independent Movies",
          "Independent Movies",
          "Independent Movies",
          "Independent Movies",
          "Independent Movies",
          "Independent Movies",
          "Independent Movies",
          "Independent Movies",
          "Independent Movies",
          "Independent Movies",
          "Independent Movies",
          "Independent Movies",
          "Independent Movies",
          "Independent Movies",
          "Independent Movies",
          "Independent Movies",
          "Independent Movies",
          "Independent Movies",
          "Independent Movies",
          "Independent Movies",
          "Independent Movies",
          "Independent Movies",
          "Independent Movies",
          "Independent Movies",
          "Independent Movies",
          "Independent Movies",
          "Independent Movies",
          "Independent Movies",
          "Independent Movies",
          "Independent Movies",
          "Independent Movies",
          "Independent Movies",
          "Independent Movies",
          "Independent Movies",
          "Independent Movies",
          "Independent Movies",
          "Independent Movies",
          "Independent Movies",
          "Independent Movies",
          "Independent Movies",
          "Independent Movies",
          "Independent Movies",
          "Independent Movies",
          "Independent Movies",
          "Independent Movies",
          "Independent Movies",
          "Independent Movies",
          "Independent Movies",
          "Independent Movies",
          "Independent Movies",
          "Independent Movies",
          "Independent Movies",
          "Independent Movies",
          "Independent Movies",
          "Independent Movies",
          "Independent Movies",
          "Independent Movies",
          "Independent Movies",
          "Independent Movies",
          "Independent Movies",
          "Independent Movies",
          "International Movies",
          "International Movies",
          "International Movies",
          "International Movies",
          "International Movies",
          "International Movies",
          "International Movies",
          "International Movies",
          "International Movies",
          "International Movies",
          "International Movies",
          "International Movies",
          "International Movies",
          "International Movies",
          "International Movies",
          "International Movies",
          "International Movies",
          "International Movies",
          "International Movies",
          "International Movies",
          "International Movies",
          "International Movies",
          "International Movies",
          "International Movies",
          "International Movies",
          "International Movies",
          "International Movies",
          "International Movies",
          "International Movies",
          "International Movies",
          "International Movies",
          "International Movies",
          "International Movies",
          "International Movies",
          "International Movies",
          "International Movies",
          "International Movies",
          "International Movies",
          "International Movies",
          "International Movies",
          "International Movies",
          "International Movies",
          "International Movies",
          "International Movies",
          "International Movies",
          "International Movies",
          "International Movies",
          "International Movies",
          "International Movies",
          "International Movies",
          "International Movies",
          "International Movies",
          "International Movies",
          "International Movies",
          "International Movies",
          "International Movies",
          "International Movies",
          "International Movies",
          "International Movies",
          "International Movies",
          "International Movies",
          "International Movies",
          "International Movies",
          "International Movies",
          "International Movies",
          "International Movies",
          "International Movies",
          "International Movies",
          "International Movies",
          "International Movies",
          "International Movies",
          "International Movies",
          "International Movies",
          "International Movies",
          "International Movies",
          "International Movies",
          "International Movies",
          "International Movies",
          "International Movies",
          "International Movies",
          "International Movies",
          "International Movies",
          "International Movies",
          "International Movies",
          "International Movies",
          "International Movies",
          "International Movies",
          "International Movies",
          "International Movies",
          "International Movies",
          "International Movies",
          "International Movies",
          "International Movies",
          "International Movies",
          "International Movies",
          "International Movies",
          "International Movies",
          "International Movies",
          "International Movies",
          "International Movies",
          "International TV Shows",
          "International TV Shows",
          "International TV Shows",
          "International TV Shows",
          "International TV Shows",
          "International TV Shows",
          "International TV Shows",
          "International TV Shows",
          "International TV Shows",
          "International TV Shows",
          "International TV Shows",
          "International TV Shows",
          "International TV Shows",
          "International TV Shows",
          "International TV Shows",
          "International TV Shows",
          "International TV Shows",
          "International TV Shows",
          "International TV Shows",
          "International TV Shows",
          "International TV Shows",
          "International TV Shows",
          "International TV Shows",
          "International TV Shows",
          "International TV Shows",
          "International TV Shows",
          "International TV Shows",
          "International TV Shows",
          "International TV Shows",
          "International TV Shows",
          "International TV Shows",
          "International TV Shows",
          "International TV Shows",
          "International TV Shows",
          "International TV Shows",
          "International TV Shows",
          "International TV Shows",
          "International TV Shows",
          "International TV Shows",
          "International TV Shows",
          "International TV Shows",
          "International TV Shows",
          "International TV Shows",
          "International TV Shows",
          "International TV Shows",
          "International TV Shows",
          "International TV Shows",
          "International TV Shows",
          "International TV Shows",
          "International TV Shows",
          "International TV Shows",
          "International TV Shows",
          "International TV Shows",
          "International TV Shows",
          "International TV Shows",
          "International TV Shows",
          "International TV Shows",
          "International TV Shows",
          "International TV Shows",
          "International TV Shows",
          "International TV Shows",
          "Kids' TV",
          "Kids' TV",
          "Kids' TV",
          "Kids' TV",
          "Kids' TV",
          "Kids' TV",
          "Kids' TV",
          "Kids' TV",
          "Kids' TV",
          "Kids' TV",
          "Kids' TV",
          "Kids' TV",
          "Kids' TV",
          "Kids' TV",
          "Kids' TV",
          "Kids' TV",
          "Kids' TV",
          "Kids' TV",
          "Kids' TV",
          "Kids' TV",
          "Kids' TV",
          "Kids' TV",
          "Kids' TV",
          "Kids' TV",
          "Kids' TV",
          "Kids' TV",
          "Kids' TV",
          "Kids' TV",
          "Kids' TV",
          "Korean TV Shows",
          "Korean TV Shows",
          "Korean TV Shows",
          "Korean TV Shows",
          "Korean TV Shows",
          "Korean TV Shows",
          "Korean TV Shows",
          "Korean TV Shows",
          "LGBTQ Movies",
          "LGBTQ Movies",
          "LGBTQ Movies",
          "LGBTQ Movies",
          "LGBTQ Movies",
          "LGBTQ Movies",
          "LGBTQ Movies",
          "LGBTQ Movies",
          "LGBTQ Movies",
          "LGBTQ Movies",
          "LGBTQ Movies",
          "LGBTQ Movies",
          "LGBTQ Movies",
          "LGBTQ Movies",
          "LGBTQ Movies",
          "LGBTQ Movies",
          "LGBTQ Movies",
          "LGBTQ Movies",
          "LGBTQ Movies",
          "LGBTQ Movies",
          "LGBTQ Movies",
          "Movies",
          "Movies",
          "Movies",
          "Movies",
          "Movies",
          "Movies",
          "Movies",
          "Movies",
          "Movies",
          "Movies",
          "Movies",
          "Movies",
          "Music & Musicals",
          "Music & Musicals",
          "Music & Musicals",
          "Music & Musicals",
          "Music & Musicals",
          "Music & Musicals",
          "Music & Musicals",
          "Music & Musicals",
          "Music & Musicals",
          "Music & Musicals",
          "Music & Musicals",
          "Music & Musicals",
          "Music & Musicals",
          "Music & Musicals",
          "Music & Musicals",
          "Music & Musicals",
          "Music & Musicals",
          "Music & Musicals",
          "Music & Musicals",
          "Music & Musicals",
          "Music & Musicals",
          "Music & Musicals",
          "Music & Musicals",
          "Music & Musicals",
          "Music & Musicals",
          "Music & Musicals",
          "Music & Musicals",
          "Music & Musicals",
          "Music & Musicals",
          "Music & Musicals",
          "Music & Musicals",
          "Music & Musicals",
          "Music & Musicals",
          "Music & Musicals",
          "Music & Musicals",
          "Music & Musicals",
          "Reality TV",
          "Reality TV",
          "Reality TV",
          "Reality TV",
          "Reality TV",
          "Reality TV",
          "Reality TV",
          "Reality TV",
          "Reality TV",
          "Reality TV",
          "Reality TV",
          "Reality TV",
          "Reality TV",
          "Reality TV",
          "Reality TV",
          "Reality TV",
          "Reality TV",
          "Reality TV",
          "Romantic Movies",
          "Romantic Movies",
          "Romantic Movies",
          "Romantic Movies",
          "Romantic Movies",
          "Romantic Movies",
          "Romantic Movies",
          "Romantic Movies",
          "Romantic Movies",
          "Romantic Movies",
          "Romantic Movies",
          "Romantic Movies",
          "Romantic Movies",
          "Romantic Movies",
          "Romantic Movies",
          "Romantic Movies",
          "Romantic Movies",
          "Romantic Movies",
          "Romantic Movies",
          "Romantic Movies",
          "Romantic Movies",
          "Romantic Movies",
          "Romantic Movies",
          "Romantic Movies",
          "Romantic Movies",
          "Romantic Movies",
          "Romantic Movies",
          "Romantic Movies",
          "Romantic Movies",
          "Romantic Movies",
          "Romantic Movies",
          "Romantic Movies",
          "Romantic Movies",
          "Romantic Movies",
          "Romantic Movies",
          "Romantic Movies",
          "Romantic Movies",
          "Romantic Movies",
          "Romantic Movies",
          "Romantic Movies",
          "Romantic Movies",
          "Romantic Movies",
          "Romantic Movies",
          "Romantic Movies",
          "Romantic Movies",
          "Romantic Movies",
          "Romantic Movies",
          "Romantic Movies",
          "Romantic Movies",
          "Romantic Movies",
          "Romantic Movies",
          "Romantic Movies",
          "Romantic Movies",
          "Romantic TV Shows",
          "Romantic TV Shows",
          "Romantic TV Shows",
          "Romantic TV Shows",
          "Romantic TV Shows",
          "Romantic TV Shows",
          "Romantic TV Shows",
          "Romantic TV Shows",
          "Romantic TV Shows",
          "Romantic TV Shows",
          "Romantic TV Shows",
          "Romantic TV Shows",
          "Romantic TV Shows",
          "Romantic TV Shows",
          "Romantic TV Shows",
          "Romantic TV Shows",
          "Romantic TV Shows",
          "Romantic TV Shows",
          "Romantic TV Shows",
          "Romantic TV Shows",
          "Romantic TV Shows",
          "Romantic TV Shows",
          "Romantic TV Shows",
          "Romantic TV Shows",
          "Romantic TV Shows",
          "Romantic TV Shows",
          "Romantic TV Shows",
          "Romantic TV Shows",
          "Romantic TV Shows",
          "Romantic TV Shows",
          "Romantic TV Shows",
          "Romantic TV Shows",
          "Romantic TV Shows",
          "Romantic TV Shows",
          "Romantic TV Shows",
          "Sci-Fi & Fantasy",
          "Sci-Fi & Fantasy",
          "Sci-Fi & Fantasy",
          "Sci-Fi & Fantasy",
          "Sci-Fi & Fantasy",
          "Sci-Fi & Fantasy",
          "Sci-Fi & Fantasy",
          "Sci-Fi & Fantasy",
          "Sci-Fi & Fantasy",
          "Sci-Fi & Fantasy",
          "Sci-Fi & Fantasy",
          "Sci-Fi & Fantasy",
          "Sci-Fi & Fantasy",
          "Sci-Fi & Fantasy",
          "Sci-Fi & Fantasy",
          "Sci-Fi & Fantasy",
          "Sci-Fi & Fantasy",
          "Sci-Fi & Fantasy",
          "Sci-Fi & Fantasy",
          "Sci-Fi & Fantasy",
          "Sci-Fi & Fantasy",
          "Sci-Fi & Fantasy",
          "Sci-Fi & Fantasy",
          "Sci-Fi & Fantasy",
          "Sci-Fi & Fantasy",
          "Sci-Fi & Fantasy",
          "Sci-Fi & Fantasy",
          "Sci-Fi & Fantasy",
          "Sci-Fi & Fantasy",
          "Sci-Fi & Fantasy",
          "Sci-Fi & Fantasy",
          "Sci-Fi & Fantasy",
          "Sci-Fi & Fantasy",
          "Sci-Fi & Fantasy",
          "Sci-Fi & Fantasy",
          "Sci-Fi & Fantasy",
          "Sci-Fi & Fantasy",
          "Sci-Fi & Fantasy",
          "Sci-Fi & Fantasy",
          "Sci-Fi & Fantasy",
          "Science & Nature TV",
          "Science & Nature TV",
          "Science & Nature TV",
          "Science & Nature TV",
          "Science & Nature TV",
          "Science & Nature TV",
          "Science & Nature TV",
          "Science & Nature TV",
          "Science & Nature TV",
          "Science & Nature TV",
          "Science & Nature TV",
          "Science & Nature TV",
          "Science & Nature TV",
          "Spanish-Language TV Shows",
          "Spanish-Language TV Shows",
          "Spanish-Language TV Shows",
          "Spanish-Language TV Shows",
          "Spanish-Language TV Shows",
          "Spanish-Language TV Shows",
          "Spanish-Language TV Shows",
          "Spanish-Language TV Shows",
          "Spanish-Language TV Shows",
          "Spanish-Language TV Shows",
          "Sports Movies",
          "Sports Movies",
          "Sports Movies",
          "Sports Movies",
          "Sports Movies",
          "Sports Movies",
          "Sports Movies",
          "Sports Movies",
          "Sports Movies",
          "Sports Movies",
          "Sports Movies",
          "Sports Movies",
          "Sports Movies",
          "Sports Movies",
          "Sports Movies",
          "Sports Movies",
          "Sports Movies",
          "Sports Movies",
          "Sports Movies",
          "Sports Movies",
          "Sports Movies",
          "Sports Movies",
          "Sports Movies",
          "Sports Movies",
          "Sports Movies",
          "Sports Movies",
          "Sports Movies",
          "Sports Movies",
          "Sports Movies",
          "Sports Movies",
          "Sports Movies",
          "Sports Movies",
          "Sports Movies",
          "Sports Movies",
          "Sports Movies",
          "Sports Movies",
          "Sports Movies",
          "Sports Movies",
          "Sports Movies",
          "Stand-Up Comedy",
          "Stand-Up Comedy",
          "Stand-Up Comedy",
          "Stand-Up Comedy",
          "Stand-Up Comedy",
          "Stand-Up Comedy",
          "Stand-Up Comedy",
          "Stand-Up Comedy",
          "Stand-Up Comedy",
          "Stand-Up Comedy",
          "Stand-Up Comedy",
          "Stand-Up Comedy",
          "Stand-Up Comedy",
          "Stand-Up Comedy",
          "Stand-Up Comedy",
          "Stand-Up Comedy",
          "Stand-Up Comedy",
          "Stand-Up Comedy",
          "Stand-Up Comedy",
          "Stand-Up Comedy",
          "Stand-Up Comedy & Talk Shows",
          "Stand-Up Comedy & Talk Shows",
          "Stand-Up Comedy & Talk Shows",
          "Stand-Up Comedy & Talk Shows",
          "Stand-Up Comedy & Talk Shows",
          "Stand-Up Comedy & Talk Shows",
          "Stand-Up Comedy & Talk Shows",
          "Stand-Up Comedy & Talk Shows",
          "Stand-Up Comedy & Talk Shows",
          "Stand-Up Comedy & Talk Shows",
          "TV Action & Adventure",
          "TV Action & Adventure",
          "TV Action & Adventure",
          "TV Action & Adventure",
          "TV Action & Adventure",
          "TV Action & Adventure",
          "TV Action & Adventure",
          "TV Action & Adventure",
          "TV Action & Adventure",
          "TV Action & Adventure",
          "TV Action & Adventure",
          "TV Action & Adventure",
          "TV Action & Adventure",
          "TV Action & Adventure",
          "TV Action & Adventure",
          "TV Action & Adventure",
          "TV Action & Adventure",
          "TV Action & Adventure",
          "TV Action & Adventure",
          "TV Action & Adventure",
          "TV Action & Adventure",
          "TV Action & Adventure",
          "TV Action & Adventure",
          "TV Action & Adventure",
          "TV Action & Adventure",
          "TV Action & Adventure",
          "TV Action & Adventure",
          "TV Comedies",
          "TV Comedies",
          "TV Comedies",
          "TV Comedies",
          "TV Comedies",
          "TV Comedies",
          "TV Comedies",
          "TV Comedies",
          "TV Comedies",
          "TV Comedies",
          "TV Comedies",
          "TV Comedies",
          "TV Comedies",
          "TV Comedies",
          "TV Comedies",
          "TV Comedies",
          "TV Comedies",
          "TV Comedies",
          "TV Comedies",
          "TV Comedies",
          "TV Comedies",
          "TV Comedies",
          "TV Comedies",
          "TV Comedies",
          "TV Comedies",
          "TV Comedies",
          "TV Comedies",
          "TV Comedies",
          "TV Comedies",
          "TV Comedies",
          "TV Comedies",
          "TV Comedies",
          "TV Comedies",
          "TV Comedies",
          "TV Comedies",
          "TV Comedies",
          "TV Comedies",
          "TV Comedies",
          "TV Comedies",
          "TV Comedies",
          "TV Comedies",
          "TV Comedies",
          "TV Dramas",
          "TV Dramas",
          "TV Dramas",
          "TV Dramas",
          "TV Dramas",
          "TV Dramas",
          "TV Dramas",
          "TV Dramas",
          "TV Dramas",
          "TV Dramas",
          "TV Dramas",
          "TV Dramas",
          "TV Dramas",
          "TV Dramas",
          "TV Dramas",
          "TV Dramas",
          "TV Dramas",
          "TV Dramas",
          "TV Dramas",
          "TV Dramas",
          "TV Dramas",
          "TV Dramas",
          "TV Dramas",
          "TV Dramas",
          "TV Dramas",
          "TV Dramas",
          "TV Dramas",
          "TV Dramas",
          "TV Dramas",
          "TV Dramas",
          "TV Dramas",
          "TV Dramas",
          "TV Dramas",
          "TV Dramas",
          "TV Dramas",
          "TV Dramas",
          "TV Dramas",
          "TV Dramas",
          "TV Dramas",
          "TV Dramas",
          "TV Dramas",
          "TV Dramas",
          "TV Dramas",
          "TV Dramas",
          "TV Dramas",
          "TV Dramas",
          "TV Dramas",
          "TV Dramas",
          "TV Dramas",
          "TV Dramas",
          "TV Dramas",
          "TV Dramas",
          "TV Dramas",
          "TV Dramas",
          "TV Dramas",
          "TV Dramas",
          "TV Dramas",
          "TV Dramas",
          "TV Dramas",
          "TV Horror",
          "TV Horror",
          "TV Horror",
          "TV Horror",
          "TV Horror",
          "TV Horror",
          "TV Horror",
          "TV Horror",
          "TV Horror",
          "TV Horror",
          "TV Horror",
          "TV Horror",
          "TV Horror",
          "TV Horror",
          "TV Horror",
          "TV Horror",
          "TV Horror",
          "TV Horror",
          "TV Horror",
          "TV Horror",
          "TV Horror",
          "TV Horror",
          "TV Mysteries",
          "TV Mysteries",
          "TV Mysteries",
          "TV Mysteries",
          "TV Mysteries",
          "TV Mysteries",
          "TV Mysteries",
          "TV Mysteries",
          "TV Mysteries",
          "TV Mysteries",
          "TV Mysteries",
          "TV Mysteries",
          "TV Mysteries",
          "TV Mysteries",
          "TV Mysteries",
          "TV Mysteries",
          "TV Mysteries",
          "TV Mysteries",
          "TV Mysteries",
          "TV Mysteries",
          "TV Mysteries",
          "TV Mysteries",
          "TV Mysteries",
          "TV Mysteries",
          "TV Mysteries",
          "TV Mysteries",
          "TV Sci-Fi & Fantasy",
          "TV Sci-Fi & Fantasy",
          "TV Sci-Fi & Fantasy",
          "TV Sci-Fi & Fantasy",
          "TV Sci-Fi & Fantasy",
          "TV Sci-Fi & Fantasy",
          "TV Sci-Fi & Fantasy",
          "TV Sci-Fi & Fantasy",
          "TV Sci-Fi & Fantasy",
          "TV Sci-Fi & Fantasy",
          "TV Sci-Fi & Fantasy",
          "TV Sci-Fi & Fantasy",
          "TV Sci-Fi & Fantasy",
          "TV Sci-Fi & Fantasy",
          "TV Sci-Fi & Fantasy",
          "TV Sci-Fi & Fantasy",
          "TV Shows",
          "TV Shows",
          "TV Shows",
          "TV Shows",
          "TV Thrillers",
          "TV Thrillers",
          "TV Thrillers",
          "TV Thrillers",
          "TV Thrillers",
          "TV Thrillers",
          "TV Thrillers",
          "TV Thrillers",
          "TV Thrillers",
          "TV Thrillers",
          "TV Thrillers",
          "TV Thrillers",
          "TV Thrillers",
          "TV Thrillers",
          "TV Thrillers",
          "TV Thrillers",
          "TV Thrillers",
          "Teen TV Shows",
          "Teen TV Shows",
          "Teen TV Shows",
          "Teen TV Shows",
          "Teen TV Shows",
          "Teen TV Shows",
          "Teen TV Shows",
          "Teen TV Shows",
          "Teen TV Shows",
          "Teen TV Shows",
          "Teen TV Shows",
          "Teen TV Shows",
          "Teen TV Shows",
          "Thrillers",
          "Thrillers",
          "Thrillers",
          "Thrillers",
          "Thrillers",
          "Thrillers",
          "Thrillers",
          "Thrillers",
          "Thrillers",
          "Thrillers",
          "Thrillers",
          "Thrillers",
          "Thrillers",
          "Thrillers",
          "Thrillers",
          "Thrillers",
          "Thrillers",
          "Thrillers",
          "Thrillers",
          "Thrillers",
          "Thrillers",
          "Thrillers",
          "Thrillers",
          "Thrillers",
          "Thrillers",
          "Thrillers",
          "Thrillers",
          "Thrillers",
          "Thrillers",
          "Thrillers",
          "Thrillers",
          "Thrillers",
          "Thrillers",
          "Thrillers",
          "Thrillers",
          "Thrillers",
          "Thrillers",
          "Thrillers",
          "Thrillers",
          "Thrillers",
          "Thrillers",
          "Thrillers",
          "Thrillers",
          "Thrillers",
          "Thrillers",
          "Thrillers",
          "Thrillers",
          "Thrillers",
          "Thrillers",
          "Thrillers",
          "Thrillers",
          "Thrillers",
          "Thrillers",
          "Thrillers",
          "Thrillers",
          "Afghanistan",
          "Albania",
          "Algeria",
          "Angola",
          "Argentina",
          "Armenia",
          "Australia",
          "Austria",
          "Azerbaijan",
          "Bahamas",
          "Bangladesh",
          "Belarus",
          "Belgium",
          "Bermuda",
          "Botswana",
          "Brazil",
          "Bulgaria",
          "Burkina Faso",
          "Cambodia",
          "Cameroon",
          "Canada",
          "Cayman Islands",
          "Chile",
          "China",
          "Colombia",
          "Croatia",
          "Cuba",
          "Cyprus",
          "Czech Republic",
          "Denmark",
          "Dominican Republic",
          "East Germany",
          "Ecuador",
          "Egypt",
          "Ethiopia",
          "Finland",
          "France",
          "Georgia",
          "Germany",
          "Ghana",
          "Greece",
          "Guatemala",
          "Hong Kong",
          "Hungary",
          "Iceland",
          "India",
          "Indonesia",
          "Iran",
          "Iraq",
          "Ireland",
          "Israel",
          "Italy",
          "Jamaica",
          "Japan",
          "Jordan",
          "Kazakhstan",
          "Kenya",
          "Kuwait",
          "Latvia",
          "Lebanon",
          "Liechtenstein",
          "Lithuania",
          "Luxembourg",
          "Malawi",
          "Malaysia",
          "Malta",
          "Mauritius",
          "Mexico",
          "Mongolia",
          "Montenegro",
          "Morocco",
          "Mozambique",
          "Namibia",
          "Nepal",
          "Netherlands",
          "New Zealand",
          "Nicaragua",
          "Nigeria",
          "Norway",
          "Pakistan",
          "Palestine",
          "Panama",
          "Paraguay",
          "Peru",
          "Philippines",
          "Poland",
          "Portugal",
          "Puerto Rico",
          "Qatar",
          "Romania",
          "Russia",
          "Samoa",
          "Saudi Arabia",
          "Senegal",
          "Serbia",
          "Singapore",
          "Slovakia",
          "Slovenia",
          "Somalia",
          "South Africa",
          "South Korea",
          "Soviet Union",
          "Spain",
          "Sri Lanka",
          "Sudan",
          "Sweden",
          "Switzerland",
          "Syria",
          "Taiwan",
          "Thailand",
          "Turkey",
          "Uganda",
          "Ukraine",
          "United Arab Emirates",
          "United Kingdom",
          "United States",
          "Uruguay",
          "Vatican City",
          "Venezuela",
          "Vietnam",
          "West Germany",
          "Zimbabwe"
         ],
         "name": "",
         "parents": [
          "Angola",
          "Argentina",
          "Australia",
          "Bahamas",
          "Belgium",
          "Brazil",
          "Bulgaria",
          "Cambodia",
          "Canada",
          "Chile",
          "China",
          "Colombia",
          "Czech Republic",
          "Denmark",
          "Egypt",
          "Finland",
          "France",
          "Germany",
          "Greece",
          "Hong Kong",
          "Hungary",
          "Iceland",
          "India",
          "Indonesia",
          "Ireland",
          "Israel",
          "Italy",
          "Japan",
          "Kuwait",
          "Luxembourg",
          "Malaysia",
          "Mexico",
          "Morocco",
          "Nepal",
          "Netherlands",
          "New Zealand",
          "Nigeria",
          "Norway",
          "Pakistan",
          "Paraguay",
          "Philippines",
          "Poland",
          "Russia",
          "Saudi Arabia",
          "Serbia",
          "Singapore",
          "South Africa",
          "South Korea",
          "Soviet Union",
          "Spain",
          "Sweden",
          "Switzerland",
          "Taiwan",
          "Thailand",
          "Turkey",
          "United Arab Emirates",
          "United Kingdom",
          "United States",
          "Vietnam",
          "China",
          "Japan",
          "United States",
          "Australia",
          "Canada",
          "China",
          "Indonesia",
          "Japan",
          "Philippines",
          "Singapore",
          "Spain",
          "United States",
          "Australia",
          "Belarus",
          "Canada",
          "China",
          "Czech Republic",
          "Finland",
          "France",
          "Germany",
          "Greece",
          "India",
          "Ireland",
          "Italy",
          "Japan",
          "Netherlands",
          "South Africa",
          "Spain",
          "United Kingdom",
          "United States",
          "Argentina",
          "Australia",
          "Belgium",
          "Brazil",
          "Bulgaria",
          "Cambodia",
          "Canada",
          "Cayman Islands",
          "Chile",
          "China",
          "Czech Republic",
          "Denmark",
          "East Germany",
          "Egypt",
          "Finland",
          "France",
          "Germany",
          "Hong Kong",
          "Hungary",
          "India",
          "Indonesia",
          "Ireland",
          "Italy",
          "Japan",
          "Kazakhstan",
          "Lebanon",
          "Luxembourg",
          "Malawi",
          "Malaysia",
          "Mauritius",
          "Mexico",
          "Netherlands",
          "New Zealand",
          "Norway",
          "Pakistan",
          "Philippines",
          "Qatar",
          "Romania",
          "Russia",
          "South Africa",
          "South Korea",
          "Spain",
          "Thailand",
          "Turkey",
          "United Arab Emirates",
          "United Kingdom",
          "United States",
          "West Germany",
          "Argentina",
          "Canada",
          "Mexico",
          "United Kingdom",
          "United States",
          "Algeria",
          "Argentina",
          "Australia",
          "Belgium",
          "East Germany",
          "Egypt",
          "France",
          "Hong Kong",
          "India",
          "Iran",
          "Italy",
          "Japan",
          "Lebanon",
          "Liechtenstein",
          "Mexico",
          "New Zealand",
          "Poland",
          "Spain",
          "United Kingdom",
          "United States",
          "West Germany",
          "Argentina",
          "Australia",
          "Bangladesh",
          "Belgium",
          "Brazil",
          "Cambodia",
          "Canada",
          "Cayman Islands",
          "Chile",
          "China",
          "Colombia",
          "Croatia",
          "Czech Republic",
          "Denmark",
          "East Germany",
          "Egypt",
          "Finland",
          "France",
          "Germany",
          "Ghana",
          "Greece",
          "Hong Kong",
          "India",
          "Indonesia",
          "Ireland",
          "Israel",
          "Italy",
          "Japan",
          "Jordan",
          "Kenya",
          "Kuwait",
          "Lebanon",
          "Malaysia",
          "Mauritius",
          "Mexico",
          "Nepal",
          "Netherlands",
          "New Zealand",
          "Nigeria",
          "Norway",
          "Pakistan",
          "Peru",
          "Philippines",
          "Poland",
          "Portugal",
          "Qatar",
          "Romania",
          "Russia",
          "Saudi Arabia",
          "Slovenia",
          "South Africa",
          "South Korea",
          "Spain",
          "Sweden",
          "Switzerland",
          "Syria",
          "Taiwan",
          "Thailand",
          "Turkey",
          "United Arab Emirates",
          "United Kingdom",
          "United States",
          "Uruguay",
          "Vietnam",
          "West Germany",
          "Zimbabwe",
          "Argentina",
          "Australia",
          "Austria",
          "Belgium",
          "Brazil",
          "Canada",
          "Chile",
          "China",
          "Colombia",
          "Cuba",
          "Czech Republic",
          "Denmark",
          "Egypt",
          "Finland",
          "France",
          "Germany",
          "Hong Kong",
          "Iceland",
          "India",
          "Indonesia",
          "Ireland",
          "Israel",
          "Italy",
          "Japan",
          "Lebanon",
          "Luxembourg",
          "Malta",
          "Mexico",
          "Netherlands",
          "Nigeria",
          "Norway",
          "Pakistan",
          "Philippines",
          "Poland",
          "Puerto Rico",
          "Russia",
          "Senegal",
          "Singapore",
          "South Africa",
          "South Korea",
          "Spain",
          "Sweden",
          "Taiwan",
          "Thailand",
          "Turkey",
          "Ukraine",
          "United Kingdom",
          "United States",
          "Argentina",
          "Australia",
          "Canada",
          "China",
          "Czech Republic",
          "Denmark",
          "France",
          "Germany",
          "Hong Kong",
          "India",
          "Japan",
          "Poland",
          "Singapore",
          "South Korea",
          "Sweden",
          "United Kingdom",
          "United States",
          "Afghanistan",
          "Argentina",
          "Armenia",
          "Australia",
          "Austria",
          "Belgium",
          "Bermuda",
          "Botswana",
          "Brazil",
          "Canada",
          "China",
          "Colombia",
          "Czech Republic",
          "Denmark",
          "Ecuador",
          "Egypt",
          "Finland",
          "France",
          "Georgia",
          "Germany",
          "Greece",
          "Guatemala",
          "Hong Kong",
          "India",
          "Indonesia",
          "Iraq",
          "Ireland",
          "Israel",
          "Italy",
          "Japan",
          "Jordan",
          "Kenya",
          "Lebanon",
          "Mexico",
          "Mongolia",
          "Morocco",
          "Namibia",
          "Netherlands",
          "New Zealand",
          "Nicaragua",
          "Nigeria",
          "Norway",
          "Palestine",
          "Panama",
          "Peru",
          "Philippines",
          "Poland",
          "Qatar",
          "Romania",
          "Russia",
          "Samoa",
          "Senegal",
          "Serbia",
          "Singapore",
          "South Africa",
          "South Korea",
          "Spain",
          "Sri Lanka",
          "Sweden",
          "Switzerland",
          "Taiwan",
          "Thailand",
          "Uganda",
          "Ukraine",
          "United Arab Emirates",
          "United Kingdom",
          "United States",
          "Uruguay",
          "Vatican City",
          "Venezuela",
          "Vietnam",
          "West Germany",
          "Zimbabwe",
          "Argentina",
          "Australia",
          "Belgium",
          "Brazil",
          "Canada",
          "China",
          "Colombia",
          "Czech Republic",
          "Denmark",
          "France",
          "Germany",
          "Greece",
          "India",
          "Israel",
          "Italy",
          "Japan",
          "Mexico",
          "New Zealand",
          "Norway",
          "Poland",
          "Russia",
          "South Africa",
          "Spain",
          "Thailand",
          "United Kingdom",
          "United States",
          "Uruguay",
          "Albania",
          "Algeria",
          "Argentina",
          "Australia",
          "Austria",
          "Bangladesh",
          "Belgium",
          "Brazil",
          "Bulgaria",
          "Burkina Faso",
          "Cambodia",
          "Cameroon",
          "Canada",
          "Chile",
          "China",
          "Colombia",
          "Croatia",
          "Czech Republic",
          "Denmark",
          "Egypt",
          "Ethiopia",
          "Finland",
          "France",
          "Georgia",
          "Germany",
          "Ghana",
          "Greece",
          "Guatemala",
          "Hong Kong",
          "Hungary",
          "Iceland",
          "India",
          "Indonesia",
          "Iran",
          "Ireland",
          "Israel",
          "Italy",
          "Jamaica",
          "Japan",
          "Jordan",
          "Kenya",
          "Kuwait",
          "Latvia",
          "Lebanon",
          "Liechtenstein",
          "Lithuania",
          "Luxembourg",
          "Malawi",
          "Malaysia",
          "Malta",
          "Mexico",
          "Montenegro",
          "Morocco",
          "Mozambique",
          "Namibia",
          "Nepal",
          "Netherlands",
          "New Zealand",
          "Nigeria",
          "Norway",
          "Pakistan",
          "Peru",
          "Philippines",
          "Poland",
          "Portugal",
          "Qatar",
          "Romania",
          "Russia",
          "Saudi Arabia",
          "Senegal",
          "Serbia",
          "Singapore",
          "Slovakia",
          "Slovenia",
          "Somalia",
          "South Africa",
          "South Korea",
          "Soviet Union",
          "Spain",
          "Sudan",
          "Sweden",
          "Switzerland",
          "Syria",
          "Taiwan",
          "Thailand",
          "Turkey",
          "United Arab Emirates",
          "United Kingdom",
          "United States",
          "Uruguay",
          "Venezuela",
          "Vietnam",
          "Australia",
          "Brazil",
          "Canada",
          "China",
          "France",
          "Germany",
          "India",
          "Indonesia",
          "Ireland",
          "Israel",
          "Italy",
          "Mexico",
          "Morocco",
          "Nigeria",
          "Portugal",
          "South Africa",
          "Spain",
          "Switzerland",
          "Thailand",
          "United Kingdom",
          "United States",
          "Vatican City",
          "Argentina",
          "Australia",
          "Austria",
          "Belgium",
          "Bulgaria",
          "Canada",
          "Chile",
          "China",
          "Czech Republic",
          "Dominican Republic",
          "Egypt",
          "France",
          "Germany",
          "Hungary",
          "Iceland",
          "India",
          "Indonesia",
          "Iran",
          "Ireland",
          "Israel",
          "Italy",
          "Japan",
          "Jordan",
          "Malaysia",
          "Mexico",
          "New Zealand",
          "Nigeria",
          "Norway",
          "Pakistan",
          "Peru",
          "Philippines",
          "Poland",
          "Qatar",
          "Russia",
          "Serbia",
          "Singapore",
          "Slovenia",
          "South Africa",
          "South Korea",
          "Spain",
          "Taiwan",
          "Thailand",
          "Turkey",
          "United Arab Emirates",
          "United Kingdom",
          "United States",
          "Vietnam",
          "West Germany",
          "Algeria",
          "Argentina",
          "Australia",
          "Austria",
          "Bangladesh",
          "Belgium",
          "Brazil",
          "Bulgaria",
          "Burkina Faso",
          "Canada",
          "Chile",
          "China",
          "Colombia",
          "Croatia",
          "Czech Republic",
          "Denmark",
          "Egypt",
          "Ethiopia",
          "France",
          "Georgia",
          "Germany",
          "Ghana",
          "Greece",
          "Guatemala",
          "Hong Kong",
          "Iceland",
          "India",
          "Indonesia",
          "Iran",
          "Ireland",
          "Israel",
          "Italy",
          "Japan",
          "Jordan",
          "Lebanon",
          "Luxembourg",
          "Malawi",
          "Malaysia",
          "Mexico",
          "Morocco",
          "Netherlands",
          "New Zealand",
          "Nigeria",
          "Norway",
          "Pakistan",
          "Philippines",
          "Poland",
          "Portugal",
          "Qatar",
          "Saudi Arabia",
          "Senegal",
          "Serbia",
          "Singapore",
          "Slovenia",
          "South Africa",
          "South Korea",
          "Spain",
          "Sweden",
          "Switzerland",
          "Syria",
          "Taiwan",
          "Turkey",
          "United Arab Emirates",
          "United Kingdom",
          "United States",
          "Uruguay",
          "Afghanistan",
          "Albania",
          "Algeria",
          "Angola",
          "Argentina",
          "Armenia",
          "Australia",
          "Austria",
          "Bangladesh",
          "Belgium",
          "Brazil",
          "Bulgaria",
          "Burkina Faso",
          "Cambodia",
          "Cameroon",
          "Canada",
          "Chile",
          "China",
          "Colombia",
          "Croatia",
          "Czech Republic",
          "Denmark",
          "Dominican Republic",
          "Egypt",
          "Ethiopia",
          "Finland",
          "France",
          "Georgia",
          "Germany",
          "Ghana",
          "Greece",
          "Guatemala",
          "Hong Kong",
          "Hungary",
          "Iceland",
          "India",
          "Indonesia",
          "Iran",
          "Iraq",
          "Ireland",
          "Israel",
          "Italy",
          "Jamaica",
          "Japan",
          "Jordan",
          "Kenya",
          "Kuwait",
          "Latvia",
          "Lebanon",
          "Lithuania",
          "Luxembourg",
          "Malaysia",
          "Mexico",
          "Mongolia",
          "Montenegro",
          "Morocco",
          "Mozambique",
          "Namibia",
          "Nepal",
          "Netherlands",
          "New Zealand",
          "Nigeria",
          "Norway",
          "Pakistan",
          "Palestine",
          "Paraguay",
          "Peru",
          "Philippines",
          "Poland",
          "Portugal",
          "Qatar",
          "Romania",
          "Russia",
          "Saudi Arabia",
          "Senegal",
          "Serbia",
          "Singapore",
          "Slovakia",
          "Slovenia",
          "South Africa",
          "South Korea",
          "Soviet Union",
          "Spain",
          "Sri Lanka",
          "Sweden",
          "Switzerland",
          "Syria",
          "Taiwan",
          "Thailand",
          "Turkey",
          "Ukraine",
          "United Arab Emirates",
          "United Kingdom",
          "United States",
          "Uruguay",
          "Vatican City",
          "Venezuela",
          "Vietnam",
          "West Germany",
          "Zimbabwe",
          "Argentina",
          "Australia",
          "Austria",
          "Azerbaijan",
          "Belgium",
          "Brazil",
          "Canada",
          "Chile",
          "China",
          "Colombia",
          "Croatia",
          "Cuba",
          "Czech Republic",
          "Denmark",
          "Egypt",
          "Finland",
          "France",
          "Germany",
          "Greece",
          "Hong Kong",
          "Iceland",
          "India",
          "Indonesia",
          "Ireland",
          "Israel",
          "Italy",
          "Japan",
          "Jordan",
          "Kuwait",
          "Lebanon",
          "Luxembourg",
          "Malaysia",
          "Mauritius",
          "Mexico",
          "Netherlands",
          "New Zealand",
          "Nigeria",
          "Norway",
          "Pakistan",
          "Philippines",
          "Poland",
          "Puerto Rico",
          "Russia",
          "Saudi Arabia",
          "Senegal",
          "Singapore",
          "South Africa",
          "South Korea",
          "Spain",
          "Sweden",
          "Switzerland",
          "Syria",
          "Taiwan",
          "Thailand",
          "Turkey",
          "Ukraine",
          "United Arab Emirates",
          "United Kingdom",
          "United States",
          "Uruguay",
          "West Germany",
          "Argentina",
          "Australia",
          "Belarus",
          "Belgium",
          "Brazil",
          "Canada",
          "China",
          "Cyprus",
          "Denmark",
          "Finland",
          "France",
          "Germany",
          "India",
          "Indonesia",
          "Ireland",
          "Italy",
          "Japan",
          "Luxembourg",
          "Malaysia",
          "Mexico",
          "Netherlands",
          "New Zealand",
          "Russia",
          "Singapore",
          "South Korea",
          "Spain",
          "Sweden",
          "United Kingdom",
          "United States",
          "Canada",
          "China",
          "Hong Kong",
          "Malaysia",
          "Russia",
          "Singapore",
          "South Korea",
          "United States",
          "Argentina",
          "Australia",
          "Belgium",
          "Brazil",
          "Canada",
          "France",
          "Germany",
          "Greece",
          "India",
          "Italy",
          "Japan",
          "Mexico",
          "Netherlands",
          "Philippines",
          "Portugal",
          "South Korea",
          "Spain",
          "Taiwan",
          "Thailand",
          "United Kingdom",
          "United States",
          "Argentina",
          "Australia",
          "Canada",
          "France",
          "Germany",
          "Greece",
          "Japan",
          "Mexico",
          "South Korea",
          "Spain",
          "United Kingdom",
          "United States",
          "Argentina",
          "Australia",
          "Belgium",
          "Brazil",
          "Canada",
          "China",
          "Egypt",
          "Finland",
          "France",
          "Germany",
          "Hong Kong",
          "India",
          "Indonesia",
          "Italy",
          "Japan",
          "Lebanon",
          "Mexico",
          "Netherlands",
          "Nigeria",
          "Pakistan",
          "Philippines",
          "Romania",
          "Saudi Arabia",
          "South Africa",
          "South Korea",
          "Soviet Union",
          "Spain",
          "Sweden",
          "Taiwan",
          "Thailand",
          "Turkey",
          "United Arab Emirates",
          "United Kingdom",
          "United States",
          "Uruguay",
          "Vietnam",
          "Argentina",
          "Australia",
          "Brazil",
          "Canada",
          "China",
          "Czech Republic",
          "France",
          "Germany",
          "India",
          "Japan",
          "Mexico",
          "New Zealand",
          "Singapore",
          "South Korea",
          "Spain",
          "Taiwan",
          "United Kingdom",
          "United States",
          "Argentina",
          "Australia",
          "Belgium",
          "Brazil",
          "Canada",
          "Chile",
          "China",
          "Colombia",
          "Czech Republic",
          "Denmark",
          "Egypt",
          "France",
          "Germany",
          "Greece",
          "Hong Kong",
          "Hungary",
          "Iceland",
          "India",
          "Indonesia",
          "Ireland",
          "Italy",
          "Japan",
          "Kenya",
          "Lebanon",
          "Liechtenstein",
          "Malaysia",
          "Malta",
          "Mexico",
          "Netherlands",
          "New Zealand",
          "Nigeria",
          "Norway",
          "Pakistan",
          "Peru",
          "Philippines",
          "Poland",
          "Portugal",
          "Romania",
          "Saudi Arabia",
          "Singapore",
          "South Africa",
          "South Korea",
          "Soviet Union",
          "Spain",
          "Sweden",
          "Taiwan",
          "Thailand",
          "Turkey",
          "United Arab Emirates",
          "United Kingdom",
          "United States",
          "Vietnam",
          "Zimbabwe",
          "Argentina",
          "Australia",
          "Azerbaijan",
          "Brazil",
          "Canada",
          "China",
          "Colombia",
          "Egypt",
          "France",
          "Germany",
          "Hong Kong",
          "India",
          "Indonesia",
          "Israel",
          "Italy",
          "Japan",
          "Kuwait",
          "Lebanon",
          "Malaysia",
          "Mexico",
          "Nigeria",
          "Norway",
          "Pakistan",
          "Philippines",
          "Russia",
          "Singapore",
          "South Africa",
          "South Korea",
          "Spain",
          "Sweden",
          "Taiwan",
          "Thailand",
          "Turkey",
          "United Kingdom",
          "United States",
          "Argentina",
          "Australia",
          "Austria",
          "Belgium",
          "Bulgaria",
          "Cambodia",
          "Canada",
          "China",
          "Colombia",
          "Czech Republic",
          "France",
          "Germany",
          "Greece",
          "Hong Kong",
          "Hungary",
          "Iceland",
          "India",
          "Indonesia",
          "Israel",
          "Italy",
          "Japan",
          "Kuwait",
          "Luxembourg",
          "Mexico",
          "Netherlands",
          "New Zealand",
          "Poland",
          "Romania",
          "Russia",
          "Serbia",
          "Singapore",
          "Slovenia",
          "South Africa",
          "South Korea",
          "Soviet Union",
          "Spain",
          "Switzerland",
          "United Arab Emirates",
          "United Kingdom",
          "United States",
          "Australia",
          "Brazil",
          "Canada",
          "Czech Republic",
          "France",
          "Germany",
          "Greece",
          "Norway",
          "Russia",
          "Spain",
          "United Kingdom",
          "United States",
          "Uruguay",
          "Argentina",
          "Chile",
          "Colombia",
          "Cuba",
          "Italy",
          "Mexico",
          "Puerto Rico",
          "Spain",
          "United Kingdom",
          "United States",
          "Argentina",
          "Australia",
          "Austria",
          "Brazil",
          "Canada",
          "Chile",
          "China",
          "Czech Republic",
          "Denmark",
          "Egypt",
          "Finland",
          "France",
          "Germany",
          "Hong Kong",
          "India",
          "Indonesia",
          "Ireland",
          "Israel",
          "Italy",
          "Jamaica",
          "Japan",
          "Mexico",
          "New Zealand",
          "Panama",
          "Peru",
          "Philippines",
          "Portugal",
          "Russia",
          "Samoa",
          "South Africa",
          "Spain",
          "Sweden",
          "Taiwan",
          "Thailand",
          "Turkey",
          "United Arab Emirates",
          "United Kingdom",
          "United States",
          "Uruguay",
          "Argentina",
          "Australia",
          "Brazil",
          "Canada",
          "Chile",
          "Colombia",
          "France",
          "Germany",
          "Iceland",
          "India",
          "Italy",
          "Mexico",
          "Netherlands",
          "Singapore",
          "South Africa",
          "South Korea",
          "Spain",
          "Sweden",
          "United Kingdom",
          "United States",
          "Brazil",
          "Colombia",
          "France",
          "Germany",
          "India",
          "Japan",
          "Mexico",
          "South Korea",
          "United Kingdom",
          "United States",
          "Australia",
          "Belgium",
          "Canada",
          "China",
          "Colombia",
          "Denmark",
          "France",
          "Germany",
          "India",
          "Ireland",
          "Israel",
          "Japan",
          "Malta",
          "Mexico",
          "Netherlands",
          "New Zealand",
          "Norway",
          "Poland",
          "Russia",
          "South Africa",
          "South Korea",
          "Spain",
          "Taiwan",
          "Thailand",
          "Turkey",
          "United Kingdom",
          "United States",
          "Argentina",
          "Australia",
          "Belarus",
          "Brazil",
          "Canada",
          "China",
          "Colombia",
          "Cyprus",
          "Denmark",
          "Egypt",
          "Finland",
          "France",
          "Germany",
          "Hong Kong",
          "India",
          "Indonesia",
          "Ireland",
          "Israel",
          "Italy",
          "Japan",
          "Malaysia",
          "Mexico",
          "Netherlands",
          "Nigeria",
          "Norway",
          "Philippines",
          "Poland",
          "Russia",
          "Saudi Arabia",
          "Singapore",
          "South Africa",
          "South Korea",
          "Spain",
          "Sweden",
          "Switzerland",
          "Taiwan",
          "Thailand",
          "Turkey",
          "Ukraine",
          "United Kingdom",
          "United States",
          "West Germany",
          "Argentina",
          "Australia",
          "Austria",
          "Azerbaijan",
          "Belgium",
          "Brazil",
          "Canada",
          "Chile",
          "China",
          "Colombia",
          "Croatia",
          "Czech Republic",
          "Denmark",
          "Egypt",
          "Finland",
          "France",
          "Germany",
          "Hong Kong",
          "Hungary",
          "Iceland",
          "India",
          "Indonesia",
          "Ireland",
          "Israel",
          "Italy",
          "Japan",
          "Jordan",
          "Kuwait",
          "Lebanon",
          "Luxembourg",
          "Malaysia",
          "Malta",
          "Mauritius",
          "Mexico",
          "Netherlands",
          "New Zealand",
          "Nigeria",
          "Norway",
          "Pakistan",
          "Philippines",
          "Poland",
          "Russia",
          "Saudi Arabia",
          "Senegal",
          "Singapore",
          "South Africa",
          "South Korea",
          "Spain",
          "Sweden",
          "Switzerland",
          "Syria",
          "Taiwan",
          "Thailand",
          "Turkey",
          "Ukraine",
          "United Arab Emirates",
          "United Kingdom",
          "United States",
          "West Germany",
          "Argentina",
          "Australia",
          "Brazil",
          "Canada",
          "Czech Republic",
          "Egypt",
          "France",
          "India",
          "Indonesia",
          "Ireland",
          "Italy",
          "Japan",
          "Netherlands",
          "Norway",
          "Philippines",
          "Singapore",
          "South Korea",
          "Taiwan",
          "Thailand",
          "Turkey",
          "United Kingdom",
          "United States",
          "Australia",
          "Belgium",
          "Brazil",
          "Canada",
          "China",
          "Denmark",
          "Egypt",
          "France",
          "Germany",
          "Iceland",
          "India",
          "Ireland",
          "Israel",
          "Japan",
          "Jordan",
          "Malaysia",
          "Norway",
          "Russia",
          "South Africa",
          "South Korea",
          "Taiwan",
          "Thailand",
          "Turkey",
          "United Arab Emirates",
          "United Kingdom",
          "United States",
          "Australia",
          "Belgium",
          "Brazil",
          "Canada",
          "China",
          "Egypt",
          "France",
          "Germany",
          "India",
          "Mexico",
          "New Zealand",
          "Singapore",
          "Taiwan",
          "Thailand",
          "United Kingdom",
          "United States",
          "India",
          "Japan",
          "Saudi Arabia",
          "United States",
          "Australia",
          "Canada",
          "Czech Republic",
          "Denmark",
          "France",
          "India",
          "Japan",
          "Lebanon",
          "New Zealand",
          "Norway",
          "South Korea",
          "Sweden",
          "Taiwan",
          "Thailand",
          "Turkey",
          "United Kingdom",
          "United States",
          "Argentina",
          "Australia",
          "Canada",
          "China",
          "India",
          "Italy",
          "Japan",
          "Jordan",
          "Spain",
          "Taiwan",
          "Thailand",
          "Turkey",
          "United States",
          "Argentina",
          "Australia",
          "Austria",
          "Belgium",
          "Brazil",
          "Bulgaria",
          "Canada",
          "Chile",
          "China",
          "Czech Republic",
          "Denmark",
          "Dominican Republic",
          "Egypt",
          "France",
          "Germany",
          "Hong Kong",
          "Hungary",
          "Iceland",
          "India",
          "Iran",
          "Ireland",
          "Israel",
          "Italy",
          "Japan",
          "Jordan",
          "Kenya",
          "Kuwait",
          "Luxembourg",
          "Malta",
          "Mexico",
          "Mozambique",
          "Netherlands",
          "Nigeria",
          "Norway",
          "Philippines",
          "Poland",
          "Qatar",
          "Romania",
          "Russia",
          "Serbia",
          "Singapore",
          "South Africa",
          "South Korea",
          "Spain",
          "Sweden",
          "Switzerland",
          "Taiwan",
          "Thailand",
          "Turkey",
          "United Arab Emirates",
          "United Kingdom",
          "United States",
          "Venezuela",
          "Vietnam",
          "West Germany",
          "",
          "",
          "",
          "",
          "",
          "",
          "",
          "",
          "",
          "",
          "",
          "",
          "",
          "",
          "",
          "",
          "",
          "",
          "",
          "",
          "",
          "",
          "",
          "",
          "",
          "",
          "",
          "",
          "",
          "",
          "",
          "",
          "",
          "",
          "",
          "",
          "",
          "",
          "",
          "",
          "",
          "",
          "",
          "",
          "",
          "",
          "",
          "",
          "",
          "",
          "",
          "",
          "",
          "",
          "",
          "",
          "",
          "",
          "",
          "",
          "",
          "",
          "",
          "",
          "",
          "",
          "",
          "",
          "",
          "",
          "",
          "",
          "",
          "",
          "",
          "",
          "",
          "",
          "",
          "",
          "",
          "",
          "",
          "",
          "",
          "",
          "",
          "",
          "",
          "",
          "",
          "",
          "",
          "",
          "",
          "",
          "",
          "",
          "",
          "",
          "",
          "",
          "",
          "",
          "",
          "",
          "",
          "",
          "",
          "",
          "",
          "",
          "",
          "",
          "",
          "",
          "",
          "",
          "",
          "",
          "",
          ""
         ],
         "type": "treemap",
         "values": [
          1,
          3,
          13,
          1,
          12,
          5,
          5,
          2,
          44,
          1,
          63,
          1,
          5,
          3,
          15,
          1,
          37,
          33,
          2,
          66,
          4,
          1,
          137,
          6,
          3,
          1,
          6,
          57,
          1,
          3,
          5,
          9,
          1,
          1,
          1,
          7,
          4,
          4,
          2,
          1,
          5,
          3,
          4,
          1,
          2,
          5,
          12,
          17,
          1,
          10,
          2,
          2,
          3,
          8,
          5,
          3,
          84,
          404,
          2,
          2,
          61,
          7,
          1,
          2,
          2,
          1,
          143,
          1,
          1,
          1,
          18,
          5,
          1,
          3,
          3,
          1,
          1,
          2,
          6,
          2,
          3,
          5,
          1,
          1,
          1,
          1,
          5,
          225,
          24,
          3,
          19,
          7,
          7,
          1,
          1,
          80,
          2,
          1,
          16,
          1,
          3,
          1,
          1,
          1,
          23,
          17,
          3,
          1,
          26,
          6,
          5,
          3,
          19,
          1,
          1,
          3,
          1,
          1,
          1,
          5,
          5,
          2,
          1,
          1,
          2,
          1,
          1,
          2,
          1,
          10,
          9,
          1,
          2,
          4,
          46,
          390,
          1,
          1,
          4,
          2,
          7,
          17,
          1,
          1,
          5,
          1,
          1,
          8,
          6,
          1,
          11,
          1,
          6,
          3,
          1,
          1,
          1,
          1,
          2,
          1,
          16,
          81,
          1,
          14,
          15,
          1,
          20,
          20,
          2,
          94,
          2,
          7,
          31,
          8,
          1,
          3,
          1,
          1,
          57,
          2,
          51,
          42,
          2,
          1,
          33,
          323,
          15,
          6,
          2,
          12,
          9,
          2,
          2,
          4,
          5,
          7,
          1,
          24,
          2,
          7,
          2,
          41,
          2,
          7,
          3,
          28,
          6,
          2,
          2,
          5,
          1,
          6,
          1,
          17,
          17,
          47,
          5,
          3,
          1,
          3,
          12,
          58,
          11,
          91,
          680,
          3,
          2,
          1,
          1,
          8,
          7,
          1,
          8,
          6,
          15,
          1,
          4,
          18,
          1,
          2,
          2,
          2,
          2,
          23,
          15,
          2,
          2,
          9,
          1,
          2,
          5,
          5,
          16,
          2,
          1,
          1,
          32,
          2,
          1,
          2,
          1,
          1,
          6,
          1,
          6,
          1,
          5,
          4,
          24,
          27,
          4,
          5,
          5,
          10,
          1,
          48,
          145,
          2,
          1,
          6,
          1,
          1,
          1,
          2,
          4,
          5,
          5,
          1,
          1,
          1,
          1,
          1,
          7,
          52,
          1,
          10,
          1,
          15,
          3,
          7,
          1,
          1,
          12,
          42,
          7,
          3,
          1,
          11,
          1,
          2,
          3,
          44,
          1,
          21,
          1,
          1,
          1,
          27,
          2,
          2,
          6,
          6,
          17,
          7,
          1,
          1,
          5,
          18,
          1,
          1,
          1,
          11,
          7,
          1,
          2,
          3,
          1,
          1,
          4,
          1,
          1,
          1,
          1,
          2,
          1,
          1,
          1,
          1,
          8,
          2,
          21,
          1,
          10,
          4,
          1,
          5,
          1,
          1,
          7,
          128,
          512,
          7,
          1,
          3,
          1,
          1,
          2,
          2,
          11,
          1,
          6,
          11,
          1,
          1,
          4,
          1,
          7,
          8,
          2,
          9,
          3,
          2,
          2,
          3,
          1,
          1,
          1,
          1,
          1,
          9,
          1,
          89,
          192,
          1,
          1,
          3,
          35,
          38,
          6,
          4,
          44,
          26,
          2,
          1,
          3,
          1,
          82,
          12,
          32,
          7,
          2,
          7,
          16,
          44,
          1,
          2,
          167,
          1,
          80,
          5,
          3,
          1,
          33,
          6,
          6,
          662,
          63,
          3,
          15,
          9,
          32,
          1,
          23,
          5,
          3,
          2,
          1,
          18,
          1,
          1,
          8,
          1,
          11,
          1,
          44,
          1,
          4,
          1,
          1,
          1,
          19,
          11,
          64,
          13,
          13,
          2,
          50,
          25,
          5,
          7,
          9,
          3,
          4,
          1,
          3,
          7,
          1,
          1,
          1,
          21,
          26,
          2,
          76,
          1,
          15,
          13,
          2,
          10,
          8,
          30,
          19,
          197,
          835,
          6,
          1,
          4,
          2,
          4,
          3,
          1,
          3,
          1,
          4,
          5,
          1,
          1,
          1,
          1,
          2,
          1,
          1,
          1,
          3,
          1,
          3,
          5,
          42,
          1,
          3,
          3,
          1,
          4,
          1,
          36,
          3,
          2,
          1,
          1,
          3,
          10,
          7,
          1,
          1,
          35,
          10,
          1,
          3,
          2,
          3,
          4,
          1,
          4,
          8,
          1,
          2,
          2,
          1,
          1,
          4,
          2,
          1,
          1,
          1,
          3,
          1,
          2,
          5,
          10,
          4,
          15,
          4,
          2,
          28,
          201,
          1,
          1,
          1,
          8,
          8,
          4,
          4,
          17,
          12,
          1,
          1,
          44,
          8,
          2,
          3,
          2,
          1,
          9,
          5,
          1,
          73,
          1,
          31,
          2,
          2,
          1,
          4,
          3,
          167,
          1,
          2,
          7,
          4,
          7,
          7,
          1,
          5,
          2,
          1,
          1,
          23,
          1,
          4,
          3,
          7,
          2,
          4,
          3,
          5,
          2,
          4,
          2,
          1,
          1,
          1,
          2,
          3,
          2,
          20,
          6,
          3,
          2,
          3,
          3,
          3,
          74,
          390,
          1,
          1,
          1,
          3,
          1,
          58,
          1,
          30,
          9,
          3,
          58,
          43,
          4,
          1,
          3,
          1,
          60,
          17,
          71,
          15,
          2,
          10,
          23,
          1,
          99,
          1,
          6,
          207,
          2,
          94,
          5,
          1,
          2,
          82,
          4,
          2,
          864,
          80,
          3,
          2,
          12,
          14,
          52,
          1,
          72,
          7,
          4,
          5,
          1,
          22,
          1,
          6,
          17,
          70,
          1,
          1,
          3,
          1,
          2,
          2,
          37,
          9,
          88,
          16,
          19,
          1,
          1,
          10,
          79,
          26,
          4,
          9,
          11,
          6,
          9,
          1,
          3,
          14,
          1,
          2,
          39,
          44,
          3,
          140,
          1,
          19,
          14,
          1,
          17,
          40,
          80,
          1,
          26,
          170,
          166,
          12,
          1,
          3,
          7,
          2,
          3,
          16,
          31,
          1,
          1,
          11,
          26,
          25,
          5,
          40,
          31,
          1,
          1,
          3,
          10,
          15,
          2,
          43,
          35,
          1,
          5,
          3,
          66,
          2,
          3,
          8,
          13,
          151,
          2,
          3,
          7,
          1,
          4,
          1,
          43,
          5,
          2,
          9,
          8,
          4,
          2,
          9,
          1,
          10,
          3,
          1,
          19,
          9,
          152,
          54,
          10,
          1,
          1,
          70,
          24,
          30,
          2,
          1,
          128,
          74,
          1,
          1,
          3,
          21,
          1,
          1,
          3,
          61,
          7,
          1,
          4,
          2,
          43,
          8,
          12,
          1,
          5,
          10,
          29,
          1,
          4,
          4,
          3,
          4,
          6,
          3,
          16,
          4,
          1,
          43,
          214,
          1,
          1,
          1,
          1,
          1,
          1,
          132,
          3,
          1,
          4,
          2,
          3,
          6,
          1,
          1,
          1,
          2,
          1,
          1,
          1,
          2,
          4,
          1,
          1,
          4,
          1,
          4,
          7,
          63,
          1,
          3,
          5,
          1,
          2,
          2,
          2,
          1,
          1,
          3,
          4,
          22,
          5,
          4,
          2,
          5,
          14,
          2,
          4,
          1,
          8,
          8,
          1,
          96,
          1,
          3,
          6,
          1,
          3,
          3,
          1,
          3,
          1,
          2,
          1,
          3,
          1,
          1,
          6,
          3,
          2,
          4,
          1,
          1,
          36,
          147,
          1,
          1,
          1,
          11,
          5,
          9,
          1,
          1,
          2,
          3,
          6,
          9,
          3,
          1,
          2,
          4,
          3,
          1,
          35,
          123,
          3,
          6,
          3,
          2,
          25,
          1,
          9,
          2,
          1,
          2,
          12,
          22,
          10,
          1,
          10,
          1,
          1,
          120,
          27,
          4,
          7,
          7,
          1,
          3,
          1,
          2,
          1,
          8,
          4,
          1,
          20,
          1,
          4,
          1,
          35,
          4,
          1,
          3,
          2,
          1,
          10,
          2,
          1,
          11,
          1,
          2,
          9,
          23,
          1,
          38,
          225,
          1,
          1,
          2,
          3,
          1,
          2,
          2,
          22,
          5,
          3,
          2,
          1,
          2,
          12,
          1,
          1,
          2,
          21,
          1,
          1,
          1,
          5,
          2,
          1,
          4,
          1,
          1,
          5,
          1,
          77,
          9,
          3,
          48,
          10,
          6,
          11,
          44,
          1,
          7,
          1,
          3,
          1,
          1,
          28,
          13,
          1,
          3,
          10,
          13,
          1,
          4,
          2,
          1,
          12,
          2,
          1,
          1,
          9,
          1,
          1,
          6,
          2,
          6,
          1,
          1,
          2,
          2,
          1,
          1,
          3,
          5,
          1,
          11,
          1,
          3,
          35,
          181,
          6,
          2,
          4,
          1,
          1,
          3,
          1,
          1,
          1,
          1,
          27,
          49,
          1,
          18,
          4,
          30,
          1,
          1,
          47,
          1,
          41,
          1,
          29,
          6,
          8,
          1,
          2,
          13,
          1,
          1,
          1,
          2,
          2,
          1,
          12,
          5,
          1,
          17,
          4,
          2,
          1,
          4,
          1,
          1,
          3,
          3,
          1,
          1,
          1,
          1,
          1,
          1,
          1,
          5,
          1,
          1,
          2,
          2,
          2,
          21,
          113,
          1,
          8,
          3,
          9,
          2,
          3,
          4,
          5,
          5,
          1,
          6,
          4,
          18,
          1,
          1,
          1,
          2,
          1,
          1,
          21,
          216,
          1,
          1,
          1,
          1,
          3,
          1,
          1,
          4,
          1,
          33,
          2,
          2,
          12,
          7,
          1,
          1,
          6,
          2,
          5,
          1,
          4,
          5,
          1,
          7,
          1,
          2,
          1,
          1,
          1,
          1,
          9,
          4,
          3,
          2,
          5,
          9,
          94,
          2,
          17,
          1,
          6,
          30,
          12,
          1,
          1,
          3,
          4,
          2,
          24,
          5,
          1,
          26,
          1,
          4,
          2,
          3,
          10,
          2,
          4,
          1,
          2,
          3,
          1,
          1,
          1,
          1,
          2,
          2,
          19,
          5,
          3,
          1,
          36,
          4,
          3,
          1,
          44,
          258,
          1,
          2,
          19,
          1,
          1,
          8,
          11,
          32,
          4,
          20,
          8,
          1,
          1,
          8,
          12,
          2,
          27,
          19,
          4,
          1,
          3,
          28,
          2,
          7,
          6,
          13,
          21,
          2,
          3,
          7,
          1,
          2,
          1,
          1,
          12,
          3,
          2,
          7,
          5,
          3,
          1,
          8,
          7,
          2,
          1,
          15,
          8,
          38,
          11,
          7,
          1,
          1,
          29,
          16,
          25,
          1,
          1,
          36,
          232,
          1,
          1,
          1,
          2,
          8,
          1,
          1,
          3,
          7,
          1,
          1,
          1,
          5,
          1,
          1,
          1,
          2,
          3,
          2,
          1,
          1,
          2,
          37,
          3,
          2,
          5,
          9,
          1,
          2,
          2,
          2,
          2,
          1,
          2,
          1,
          1,
          4,
          1,
          1,
          1,
          1,
          1,
          3,
          3,
          3,
          2,
          1,
          2,
          51,
          4,
          1,
          2,
          9,
          3,
          1,
          1,
          1,
          3,
          1,
          3,
          1,
          1,
          1,
          4,
          60,
          3,
          1,
          1,
          4,
          2,
          5,
          1,
          1,
          3,
          3,
          6,
          1,
          1,
          2,
          1,
          1,
          1,
          1,
          4,
          2,
          27,
          1,
          2,
          2,
          5,
          1,
          1,
          14,
          1,
          1,
          1,
          3,
          1,
          33,
          8,
          9,
          2,
          11,
          3,
          3,
          49,
          2,
          6,
          1,
          5,
          1,
          4,
          44,
          28,
          3,
          1,
          2,
          92,
          1,
          2,
          4,
          9,
          5,
          2,
          2,
          1,
          1,
          1,
          2,
          1,
          2,
          16,
          5,
          3,
          6,
          2,
          3,
          1,
          1,
          3,
          3,
          14,
          38,
          5,
          1,
          3,
          3,
          3,
          5,
          61,
          292,
          1,
          1,
          1,
          2,
          2,
          8,
          2,
          227,
          2,
          339,
          30,
          3,
          1,
          12,
          3,
          225,
          1,
          1,
          230,
          18,
          3,
          12,
          2,
          877,
          4,
          70,
          388,
          140,
          9,
          3,
          2,
          51,
          108,
          3,
          3,
          1,
          296,
          3,
          28,
          916,
          5,
          511,
          14,
          21,
          5,
          262,
          21,
          27,
          2804,
          232,
          11,
          4,
          95,
          75,
          220,
          3,
          733,
          25,
          1,
          13,
          21,
          2,
          79,
          3,
          2,
          28,
          3,
          63,
          6,
          4,
          409,
          2,
          2,
          12,
          3,
          4,
          6,
          115,
          69,
          1,
          267,
          75,
          66,
          2,
          2,
          2,
          22,
          224,
          108,
          17,
          3,
          27,
          36,
          59,
          2,
          32,
          7,
          14,
          94,
          2,
          8,
          1,
          153,
          632,
          9,
          591,
          2,
          1,
          98,
          45,
          8,
          250,
          185,
          298,
          1,
          7,
          90,
          1783,
          6780,
          34,
          3,
          8,
          20,
          11,
          7
         ]
        }
       ],
       "layout": {
        "legend": {
         "tracegroupgap": 0
        },
        "template": {
         "data": {
          "bar": [
           {
            "error_x": {
             "color": "#2a3f5f"
            },
            "error_y": {
             "color": "#2a3f5f"
            },
            "marker": {
             "line": {
              "color": "#E5ECF6",
              "width": 0.5
             },
             "pattern": {
              "fillmode": "overlay",
              "size": 10,
              "solidity": 0.2
             }
            },
            "type": "bar"
           }
          ],
          "barpolar": [
           {
            "marker": {
             "line": {
              "color": "#E5ECF6",
              "width": 0.5
             },
             "pattern": {
              "fillmode": "overlay",
              "size": 10,
              "solidity": 0.2
             }
            },
            "type": "barpolar"
           }
          ],
          "carpet": [
           {
            "aaxis": {
             "endlinecolor": "#2a3f5f",
             "gridcolor": "white",
             "linecolor": "white",
             "minorgridcolor": "white",
             "startlinecolor": "#2a3f5f"
            },
            "baxis": {
             "endlinecolor": "#2a3f5f",
             "gridcolor": "white",
             "linecolor": "white",
             "minorgridcolor": "white",
             "startlinecolor": "#2a3f5f"
            },
            "type": "carpet"
           }
          ],
          "choropleth": [
           {
            "colorbar": {
             "outlinewidth": 0,
             "ticks": ""
            },
            "type": "choropleth"
           }
          ],
          "contour": [
           {
            "colorbar": {
             "outlinewidth": 0,
             "ticks": ""
            },
            "colorscale": [
             [
              0,
              "#0d0887"
             ],
             [
              0.1111111111111111,
              "#46039f"
             ],
             [
              0.2222222222222222,
              "#7201a8"
             ],
             [
              0.3333333333333333,
              "#9c179e"
             ],
             [
              0.4444444444444444,
              "#bd3786"
             ],
             [
              0.5555555555555556,
              "#d8576b"
             ],
             [
              0.6666666666666666,
              "#ed7953"
             ],
             [
              0.7777777777777778,
              "#fb9f3a"
             ],
             [
              0.8888888888888888,
              "#fdca26"
             ],
             [
              1,
              "#f0f921"
             ]
            ],
            "type": "contour"
           }
          ],
          "contourcarpet": [
           {
            "colorbar": {
             "outlinewidth": 0,
             "ticks": ""
            },
            "type": "contourcarpet"
           }
          ],
          "heatmap": [
           {
            "colorbar": {
             "outlinewidth": 0,
             "ticks": ""
            },
            "colorscale": [
             [
              0,
              "#0d0887"
             ],
             [
              0.1111111111111111,
              "#46039f"
             ],
             [
              0.2222222222222222,
              "#7201a8"
             ],
             [
              0.3333333333333333,
              "#9c179e"
             ],
             [
              0.4444444444444444,
              "#bd3786"
             ],
             [
              0.5555555555555556,
              "#d8576b"
             ],
             [
              0.6666666666666666,
              "#ed7953"
             ],
             [
              0.7777777777777778,
              "#fb9f3a"
             ],
             [
              0.8888888888888888,
              "#fdca26"
             ],
             [
              1,
              "#f0f921"
             ]
            ],
            "type": "heatmap"
           }
          ],
          "heatmapgl": [
           {
            "colorbar": {
             "outlinewidth": 0,
             "ticks": ""
            },
            "colorscale": [
             [
              0,
              "#0d0887"
             ],
             [
              0.1111111111111111,
              "#46039f"
             ],
             [
              0.2222222222222222,
              "#7201a8"
             ],
             [
              0.3333333333333333,
              "#9c179e"
             ],
             [
              0.4444444444444444,
              "#bd3786"
             ],
             [
              0.5555555555555556,
              "#d8576b"
             ],
             [
              0.6666666666666666,
              "#ed7953"
             ],
             [
              0.7777777777777778,
              "#fb9f3a"
             ],
             [
              0.8888888888888888,
              "#fdca26"
             ],
             [
              1,
              "#f0f921"
             ]
            ],
            "type": "heatmapgl"
           }
          ],
          "histogram": [
           {
            "marker": {
             "pattern": {
              "fillmode": "overlay",
              "size": 10,
              "solidity": 0.2
             }
            },
            "type": "histogram"
           }
          ],
          "histogram2d": [
           {
            "colorbar": {
             "outlinewidth": 0,
             "ticks": ""
            },
            "colorscale": [
             [
              0,
              "#0d0887"
             ],
             [
              0.1111111111111111,
              "#46039f"
             ],
             [
              0.2222222222222222,
              "#7201a8"
             ],
             [
              0.3333333333333333,
              "#9c179e"
             ],
             [
              0.4444444444444444,
              "#bd3786"
             ],
             [
              0.5555555555555556,
              "#d8576b"
             ],
             [
              0.6666666666666666,
              "#ed7953"
             ],
             [
              0.7777777777777778,
              "#fb9f3a"
             ],
             [
              0.8888888888888888,
              "#fdca26"
             ],
             [
              1,
              "#f0f921"
             ]
            ],
            "type": "histogram2d"
           }
          ],
          "histogram2dcontour": [
           {
            "colorbar": {
             "outlinewidth": 0,
             "ticks": ""
            },
            "colorscale": [
             [
              0,
              "#0d0887"
             ],
             [
              0.1111111111111111,
              "#46039f"
             ],
             [
              0.2222222222222222,
              "#7201a8"
             ],
             [
              0.3333333333333333,
              "#9c179e"
             ],
             [
              0.4444444444444444,
              "#bd3786"
             ],
             [
              0.5555555555555556,
              "#d8576b"
             ],
             [
              0.6666666666666666,
              "#ed7953"
             ],
             [
              0.7777777777777778,
              "#fb9f3a"
             ],
             [
              0.8888888888888888,
              "#fdca26"
             ],
             [
              1,
              "#f0f921"
             ]
            ],
            "type": "histogram2dcontour"
           }
          ],
          "mesh3d": [
           {
            "colorbar": {
             "outlinewidth": 0,
             "ticks": ""
            },
            "type": "mesh3d"
           }
          ],
          "parcoords": [
           {
            "line": {
             "colorbar": {
              "outlinewidth": 0,
              "ticks": ""
             }
            },
            "type": "parcoords"
           }
          ],
          "pie": [
           {
            "automargin": true,
            "type": "pie"
           }
          ],
          "scatter": [
           {
            "fillpattern": {
             "fillmode": "overlay",
             "size": 10,
             "solidity": 0.2
            },
            "type": "scatter"
           }
          ],
          "scatter3d": [
           {
            "line": {
             "colorbar": {
              "outlinewidth": 0,
              "ticks": ""
             }
            },
            "marker": {
             "colorbar": {
              "outlinewidth": 0,
              "ticks": ""
             }
            },
            "type": "scatter3d"
           }
          ],
          "scattercarpet": [
           {
            "marker": {
             "colorbar": {
              "outlinewidth": 0,
              "ticks": ""
             }
            },
            "type": "scattercarpet"
           }
          ],
          "scattergeo": [
           {
            "marker": {
             "colorbar": {
              "outlinewidth": 0,
              "ticks": ""
             }
            },
            "type": "scattergeo"
           }
          ],
          "scattergl": [
           {
            "marker": {
             "colorbar": {
              "outlinewidth": 0,
              "ticks": ""
             }
            },
            "type": "scattergl"
           }
          ],
          "scattermapbox": [
           {
            "marker": {
             "colorbar": {
              "outlinewidth": 0,
              "ticks": ""
             }
            },
            "type": "scattermapbox"
           }
          ],
          "scatterpolar": [
           {
            "marker": {
             "colorbar": {
              "outlinewidth": 0,
              "ticks": ""
             }
            },
            "type": "scatterpolar"
           }
          ],
          "scatterpolargl": [
           {
            "marker": {
             "colorbar": {
              "outlinewidth": 0,
              "ticks": ""
             }
            },
            "type": "scatterpolargl"
           }
          ],
          "scatterternary": [
           {
            "marker": {
             "colorbar": {
              "outlinewidth": 0,
              "ticks": ""
             }
            },
            "type": "scatterternary"
           }
          ],
          "surface": [
           {
            "colorbar": {
             "outlinewidth": 0,
             "ticks": ""
            },
            "colorscale": [
             [
              0,
              "#0d0887"
             ],
             [
              0.1111111111111111,
              "#46039f"
             ],
             [
              0.2222222222222222,
              "#7201a8"
             ],
             [
              0.3333333333333333,
              "#9c179e"
             ],
             [
              0.4444444444444444,
              "#bd3786"
             ],
             [
              0.5555555555555556,
              "#d8576b"
             ],
             [
              0.6666666666666666,
              "#ed7953"
             ],
             [
              0.7777777777777778,
              "#fb9f3a"
             ],
             [
              0.8888888888888888,
              "#fdca26"
             ],
             [
              1,
              "#f0f921"
             ]
            ],
            "type": "surface"
           }
          ],
          "table": [
           {
            "cells": {
             "fill": {
              "color": "#EBF0F8"
             },
             "line": {
              "color": "white"
             }
            },
            "header": {
             "fill": {
              "color": "#C8D4E3"
             },
             "line": {
              "color": "white"
             }
            },
            "type": "table"
           }
          ]
         },
         "layout": {
          "annotationdefaults": {
           "arrowcolor": "#2a3f5f",
           "arrowhead": 0,
           "arrowwidth": 1
          },
          "autotypenumbers": "strict",
          "coloraxis": {
           "colorbar": {
            "outlinewidth": 0,
            "ticks": ""
           }
          },
          "colorscale": {
           "diverging": [
            [
             0,
             "#8e0152"
            ],
            [
             0.1,
             "#c51b7d"
            ],
            [
             0.2,
             "#de77ae"
            ],
            [
             0.3,
             "#f1b6da"
            ],
            [
             0.4,
             "#fde0ef"
            ],
            [
             0.5,
             "#f7f7f7"
            ],
            [
             0.6,
             "#e6f5d0"
            ],
            [
             0.7,
             "#b8e186"
            ],
            [
             0.8,
             "#7fbc41"
            ],
            [
             0.9,
             "#4d9221"
            ],
            [
             1,
             "#276419"
            ]
           ],
           "sequential": [
            [
             0,
             "#0d0887"
            ],
            [
             0.1111111111111111,
             "#46039f"
            ],
            [
             0.2222222222222222,
             "#7201a8"
            ],
            [
             0.3333333333333333,
             "#9c179e"
            ],
            [
             0.4444444444444444,
             "#bd3786"
            ],
            [
             0.5555555555555556,
             "#d8576b"
            ],
            [
             0.6666666666666666,
             "#ed7953"
            ],
            [
             0.7777777777777778,
             "#fb9f3a"
            ],
            [
             0.8888888888888888,
             "#fdca26"
            ],
            [
             1,
             "#f0f921"
            ]
           ],
           "sequentialminus": [
            [
             0,
             "#0d0887"
            ],
            [
             0.1111111111111111,
             "#46039f"
            ],
            [
             0.2222222222222222,
             "#7201a8"
            ],
            [
             0.3333333333333333,
             "#9c179e"
            ],
            [
             0.4444444444444444,
             "#bd3786"
            ],
            [
             0.5555555555555556,
             "#d8576b"
            ],
            [
             0.6666666666666666,
             "#ed7953"
            ],
            [
             0.7777777777777778,
             "#fb9f3a"
            ],
            [
             0.8888888888888888,
             "#fdca26"
            ],
            [
             1,
             "#f0f921"
            ]
           ]
          },
          "colorway": [
           "#636efa",
           "#EF553B",
           "#00cc96",
           "#ab63fa",
           "#FFA15A",
           "#19d3f3",
           "#FF6692",
           "#B6E880",
           "#FF97FF",
           "#FECB52"
          ],
          "font": {
           "color": "#2a3f5f"
          },
          "geo": {
           "bgcolor": "white",
           "lakecolor": "white",
           "landcolor": "#E5ECF6",
           "showlakes": true,
           "showland": true,
           "subunitcolor": "white"
          },
          "hoverlabel": {
           "align": "left"
          },
          "hovermode": "closest",
          "mapbox": {
           "style": "light"
          },
          "paper_bgcolor": "white",
          "plot_bgcolor": "#E5ECF6",
          "polar": {
           "angularaxis": {
            "gridcolor": "white",
            "linecolor": "white",
            "ticks": ""
           },
           "bgcolor": "#E5ECF6",
           "radialaxis": {
            "gridcolor": "white",
            "linecolor": "white",
            "ticks": ""
           }
          },
          "scene": {
           "xaxis": {
            "backgroundcolor": "#E5ECF6",
            "gridcolor": "white",
            "gridwidth": 2,
            "linecolor": "white",
            "showbackground": true,
            "ticks": "",
            "zerolinecolor": "white"
           },
           "yaxis": {
            "backgroundcolor": "#E5ECF6",
            "gridcolor": "white",
            "gridwidth": 2,
            "linecolor": "white",
            "showbackground": true,
            "ticks": "",
            "zerolinecolor": "white"
           },
           "zaxis": {
            "backgroundcolor": "#E5ECF6",
            "gridcolor": "white",
            "gridwidth": 2,
            "linecolor": "white",
            "showbackground": true,
            "ticks": "",
            "zerolinecolor": "white"
           }
          },
          "shapedefaults": {
           "line": {
            "color": "#2a3f5f"
           }
          },
          "ternary": {
           "aaxis": {
            "gridcolor": "white",
            "linecolor": "white",
            "ticks": ""
           },
           "baxis": {
            "gridcolor": "white",
            "linecolor": "white",
            "ticks": ""
           },
           "bgcolor": "#E5ECF6",
           "caxis": {
            "gridcolor": "white",
            "linecolor": "white",
            "ticks": ""
           }
          },
          "title": {
           "x": 0.05
          },
          "xaxis": {
           "automargin": true,
           "gridcolor": "white",
           "linecolor": "white",
           "ticks": "",
           "title": {
            "standoff": 15
           },
           "zerolinecolor": "white",
           "zerolinewidth": 2
          },
          "yaxis": {
           "automargin": true,
           "gridcolor": "white",
           "linecolor": "white",
           "ticks": "",
           "title": {
            "standoff": 15
           },
           "zerolinecolor": "white",
           "zerolinewidth": 2
          }
         }
        },
        "title": {
         "text": "Dominant Genre per Country"
        }
       }
      }
     },
     "metadata": {},
     "output_type": "display_data"
    }
   ],
   "source": [
    "# Visualization\n",
    "fig = px.treemap(genre_country_counts, path=['country', 'genre'], values='num_shows', title='Dominant Genre per Country')\n",
    "fig.show()"
   ]
  },
  {
   "cell_type": "markdown",
   "metadata": {},
   "source": [
    "Observations:\n",
    "- \"International Movies\" appear among the top genres for most countries outside the USA which makes sense according to the definition of \"International Movies\".\n",
    "- We also notice country-specific genres such as \"British TV shows\" for the UK, \"Anime\" for Japan and \"Korean TV Shows\" for South Korea.\n",
    "- \"Dramas\" and \"Comedies\" appear as common genres in most countries."
   ]
  },
  {
   "cell_type": "markdown",
   "metadata": {},
   "source": [
    "## 4. Catalogue Seasonality"
   ]
  },
  {
   "cell_type": "code",
   "execution_count": 33,
   "metadata": {},
   "outputs": [],
   "source": [
    "# Creating a dataframe to count the number of releases per day\n",
    "releases_over_time = netflix['date_added'].value_counts().reset_index()\n",
    "releases_over_time.columns = ['date_added', 'num_releases']\n",
    "releases_over_time = releases_over_time.sort_values(by='date_added')"
   ]
  },
  {
   "cell_type": "code",
   "execution_count": 35,
   "metadata": {},
   "outputs": [
    {
     "data": {
      "text/html": [
       "        <script type=\"text/javascript\">\n",
       "        window.PlotlyConfig = {MathJaxConfig: 'local'};\n",
       "        if (window.MathJax && window.MathJax.Hub && window.MathJax.Hub.Config) {window.MathJax.Hub.Config({SVG: {font: \"STIX-Web\"}});}\n",
       "        if (typeof require !== 'undefined') {\n",
       "        require.undef(\"plotly\");\n",
       "        requirejs.config({\n",
       "            paths: {\n",
       "                'plotly': ['https://cdn.plot.ly/plotly-2.27.0.min']\n",
       "            }\n",
       "        });\n",
       "        require(['plotly'], function(Plotly) {\n",
       "            window._Plotly = Plotly;\n",
       "        });\n",
       "        }\n",
       "        </script>\n",
       "        "
      ]
     },
     "metadata": {},
     "output_type": "display_data"
    },
    {
     "data": {
      "text/html": [
       "<div>                            <div id=\"f154e9dc-144d-4014-a1a9-34f4cb20c286\" class=\"plotly-graph-div\" style=\"height:525px; width:100%;\"></div>            <script type=\"text/javascript\">                require([\"plotly\"], function(Plotly) {                    window.PLOTLYENV=window.PLOTLYENV || {};                                    if (document.getElementById(\"f154e9dc-144d-4014-a1a9-34f4cb20c286\")) {                    Plotly.newPlot(                        \"f154e9dc-144d-4014-a1a9-34f4cb20c286\",                        [{\"x\":[\"2008-01-01T00:00:00\",\"2008-02-04T00:00:00\",\"2009-05-05T00:00:00\",\"2009-11-18T00:00:00\",\"2010-11-01T00:00:00\",\"2011-05-17T00:00:00\",\"2011-09-27T00:00:00\",\"2011-10-01T00:00:00\",\"2012-02-21T00:00:00\",\"2012-11-14T00:00:00\",\"2012-12-01T00:00:00\",\"2013-03-31T00:00:00\",\"2013-08-02T00:00:00\",\"2013-09-01T00:00:00\",\"2013-10-08T00:00:00\",\"2013-10-14T00:00:00\",\"2013-11-01T00:00:00\",\"2013-12-12T00:00:00\",\"2013-12-29T00:00:00\",\"2014-01-17T00:00:00\",\"2014-01-24T00:00:00\",\"2014-02-01T00:00:00\",\"2014-02-16T00:00:00\",\"2014-04-01T00:00:00\",\"2014-04-15T00:00:00\",\"2014-06-15T00:00:00\",\"2014-07-11T00:00:00\",\"2014-08-15T00:00:00\",\"2014-09-26T00:00:00\",\"2014-10-10T00:00:00\",\"2014-10-12T00:00:00\",\"2014-10-21T00:00:00\",\"2014-10-24T00:00:00\",\"2014-11-07T00:00:00\",\"2014-11-14T00:00:00\",\"2014-11-19T00:00:00\",\"2014-11-21T00:00:00\",\"2014-12-05T00:00:00\",\"2014-12-12T00:00:00\",\"2014-12-17T00:00:00\",\"2014-12-18T00:00:00\",\"2014-12-19T00:00:00\",\"2015-01-23T00:00:00\",\"2015-02-01T00:00:00\",\"2015-02-13T00:00:00\",\"2015-02-15T00:00:00\",\"2015-02-27T00:00:00\",\"2015-03-06T00:00:00\",\"2015-03-15T00:00:00\",\"2015-03-22T00:00:00\",\"2015-04-16T00:00:00\",\"2015-04-17T00:00:00\",\"2015-04-22T00:00:00\",\"2015-05-10T00:00:00\",\"2015-05-17T00:00:00\",\"2015-05-22T00:00:00\",\"2015-05-29T00:00:00\",\"2015-05-31T00:00:00\",\"2015-06-01T00:00:00\",\"2015-06-15T00:00:00\",\"2015-06-23T00:00:00\",\"2015-06-26T00:00:00\",\"2015-06-29T00:00:00\",\"2015-06-30T00:00:00\",\"2015-07-07T00:00:00\",\"2015-07-10T00:00:00\",\"2015-07-14T00:00:00\",\"2015-07-15T00:00:00\",\"2015-07-17T00:00:00\",\"2015-07-31T00:00:00\",\"2015-08-05T00:00:00\",\"2015-08-14T00:00:00\",\"2015-09-02T00:00:00\",\"2015-09-08T00:00:00\",\"2015-09-15T00:00:00\",\"2015-09-18T00:00:00\",\"2015-09-22T00:00:00\",\"2015-09-29T00:00:00\",\"2015-10-01T00:00:00\",\"2015-10-02T00:00:00\",\"2015-10-09T00:00:00\",\"2015-10-10T00:00:00\",\"2015-10-14T00:00:00\",\"2015-10-16T00:00:00\",\"2015-10-22T00:00:00\",\"2015-10-23T00:00:00\",\"2015-10-25T00:00:00\",\"2015-10-27T00:00:00\",\"2015-10-31T00:00:00\",\"2015-11-03T00:00:00\",\"2015-11-13T00:00:00\",\"2015-11-18T00:00:00\",\"2015-12-01T00:00:00\",\"2015-12-02T00:00:00\",\"2015-12-04T00:00:00\",\"2015-12-09T00:00:00\",\"2015-12-11T00:00:00\",\"2015-12-15T00:00:00\",\"2015-12-17T00:00:00\",\"2015-12-18T00:00:00\",\"2015-12-20T00:00:00\",\"2015-12-25T00:00:00\",\"2015-12-26T00:00:00\",\"2015-12-28T00:00:00\",\"2015-12-31T00:00:00\",\"2016-01-01T00:00:00\",\"2016-01-08T00:00:00\",\"2016-01-13T00:00:00\",\"2016-01-15T00:00:00\",\"2016-01-22T00:00:00\",\"2016-01-23T00:00:00\",\"2016-01-28T00:00:00\",\"2016-02-01T00:00:00\",\"2016-02-04T00:00:00\",\"2016-02-05T00:00:00\",\"2016-02-06T00:00:00\",\"2016-02-08T00:00:00\",\"2016-02-14T00:00:00\",\"2016-02-18T00:00:00\",\"2016-02-19T00:00:00\",\"2016-02-24T00:00:00\",\"2016-02-26T00:00:00\",\"2016-03-01T00:00:00\",\"2016-03-02T00:00:00\",\"2016-03-07T00:00:00\",\"2016-03-09T00:00:00\",\"2016-03-11T00:00:00\",\"2016-03-16T00:00:00\",\"2016-03-18T00:00:00\",\"2016-03-19T00:00:00\",\"2016-03-25T00:00:00\",\"2016-03-31T00:00:00\",\"2016-04-01T00:00:00\",\"2016-04-05T00:00:00\",\"2016-04-08T00:00:00\",\"2016-04-09T00:00:00\",\"2016-04-15T00:00:00\",\"2016-04-17T00:00:00\",\"2016-04-20T00:00:00\",\"2016-04-22T00:00:00\",\"2016-04-25T00:00:00\",\"2016-04-28T00:00:00\",\"2016-04-29T00:00:00\",\"2016-05-01T00:00:00\",\"2016-05-05T00:00:00\",\"2016-05-06T00:00:00\",\"2016-05-08T00:00:00\",\"2016-05-15T00:00:00\",\"2016-05-22T00:00:00\",\"2016-05-23T00:00:00\",\"2016-05-26T00:00:00\",\"2016-05-27T00:00:00\",\"2016-05-28T00:00:00\",\"2016-06-01T00:00:00\",\"2016-06-02T00:00:00\",\"2016-06-03T00:00:00\",\"2016-06-13T00:00:00\",\"2016-06-18T00:00:00\",\"2016-06-20T00:00:00\",\"2016-06-24T00:00:00\",\"2016-06-30T00:00:00\",\"2016-07-01T00:00:00\",\"2016-07-04T00:00:00\",\"2016-07-06T00:00:00\",\"2016-07-07T00:00:00\",\"2016-07-08T00:00:00\",\"2016-07-10T00:00:00\",\"2016-07-14T00:00:00\",\"2016-07-15T00:00:00\",\"2016-07-21T00:00:00\",\"2016-07-24T00:00:00\",\"2016-07-25T00:00:00\",\"2016-07-29T00:00:00\",\"2016-08-01T00:00:00\",\"2016-08-02T00:00:00\",\"2016-08-05T00:00:00\",\"2016-08-11T00:00:00\",\"2016-08-13T00:00:00\",\"2016-08-15T00:00:00\",\"2016-08-19T00:00:00\",\"2016-08-25T00:00:00\",\"2016-08-26T00:00:00\",\"2016-09-01T00:00:00\",\"2016-09-02T00:00:00\",\"2016-09-06T00:00:00\",\"2016-09-07T00:00:00\",\"2016-09-09T00:00:00\",\"2016-09-13T00:00:00\",\"2016-09-15T00:00:00\",\"2016-09-16T00:00:00\",\"2016-09-17T00:00:00\",\"2016-09-19T00:00:00\",\"2016-09-20T00:00:00\",\"2016-09-22T00:00:00\",\"2016-09-23T00:00:00\",\"2016-09-30T00:00:00\",\"2016-10-01T00:00:00\",\"2016-10-04T00:00:00\",\"2016-10-07T00:00:00\",\"2016-10-12T00:00:00\",\"2016-10-13T00:00:00\",\"2016-10-14T00:00:00\",\"2016-10-15T00:00:00\",\"2016-10-16T00:00:00\",\"2016-10-21T00:00:00\",\"2016-10-27T00:00:00\",\"2016-10-28T00:00:00\",\"2016-10-29T00:00:00\",\"2016-11-01T00:00:00\",\"2016-11-02T00:00:00\",\"2016-11-04T00:00:00\",\"2016-11-09T00:00:00\",\"2016-11-10T00:00:00\",\"2016-11-11T00:00:00\",\"2016-11-15T00:00:00\",\"2016-11-17T00:00:00\",\"2016-11-18T00:00:00\",\"2016-11-19T00:00:00\",\"2016-11-21T00:00:00\",\"2016-11-22T00:00:00\",\"2016-11-25T00:00:00\",\"2016-11-30T00:00:00\",\"2016-12-01T00:00:00\",\"2016-12-02T00:00:00\",\"2016-12-03T00:00:00\",\"2016-12-04T00:00:00\",\"2016-12-05T00:00:00\",\"2016-12-06T00:00:00\",\"2016-12-08T00:00:00\",\"2016-12-09T00:00:00\",\"2016-12-10T00:00:00\",\"2016-12-11T00:00:00\",\"2016-12-12T00:00:00\",\"2016-12-13T00:00:00\",\"2016-12-14T00:00:00\",\"2016-12-15T00:00:00\",\"2016-12-16T00:00:00\",\"2016-12-19T00:00:00\",\"2016-12-20T00:00:00\",\"2016-12-21T00:00:00\",\"2016-12-23T00:00:00\",\"2016-12-25T00:00:00\",\"2016-12-26T00:00:00\",\"2016-12-27T00:00:00\",\"2016-12-28T00:00:00\",\"2016-12-30T00:00:00\",\"2016-12-31T00:00:00\",\"2017-01-01T00:00:00\",\"2017-01-03T00:00:00\",\"2017-01-04T00:00:00\",\"2017-01-05T00:00:00\",\"2017-01-06T00:00:00\",\"2017-01-07T00:00:00\",\"2017-01-10T00:00:00\",\"2017-01-12T00:00:00\",\"2017-01-13T00:00:00\",\"2017-01-14T00:00:00\",\"2017-01-15T00:00:00\",\"2017-01-16T00:00:00\",\"2017-01-17T00:00:00\",\"2017-01-18T00:00:00\",\"2017-01-19T00:00:00\",\"2017-01-20T00:00:00\",\"2017-01-23T00:00:00\",\"2017-01-24T00:00:00\",\"2017-01-25T00:00:00\",\"2017-01-26T00:00:00\",\"2017-01-27T00:00:00\",\"2017-01-29T00:00:00\",\"2017-01-31T00:00:00\",\"2017-02-01T00:00:00\",\"2017-02-02T00:00:00\",\"2017-02-03T00:00:00\",\"2017-02-04T00:00:00\",\"2017-02-05T00:00:00\",\"2017-02-07T00:00:00\",\"2017-02-08T00:00:00\",\"2017-02-10T00:00:00\",\"2017-02-11T00:00:00\",\"2017-02-12T00:00:00\",\"2017-02-14T00:00:00\",\"2017-02-15T00:00:00\",\"2017-02-16T00:00:00\",\"2017-02-17T00:00:00\",\"2017-02-19T00:00:00\",\"2017-02-20T00:00:00\",\"2017-02-21T00:00:00\",\"2017-02-22T00:00:00\",\"2017-02-23T00:00:00\",\"2017-02-24T00:00:00\",\"2017-02-25T00:00:00\",\"2017-02-26T00:00:00\",\"2017-02-27T00:00:00\",\"2017-02-28T00:00:00\",\"2017-03-01T00:00:00\",\"2017-03-02T00:00:00\",\"2017-03-03T00:00:00\",\"2017-03-04T00:00:00\",\"2017-03-07T00:00:00\",\"2017-03-08T00:00:00\",\"2017-03-09T00:00:00\",\"2017-03-10T00:00:00\",\"2017-03-14T00:00:00\",\"2017-03-15T00:00:00\",\"2017-03-16T00:00:00\",\"2017-03-17T00:00:00\",\"2017-03-18T00:00:00\",\"2017-03-20T00:00:00\",\"2017-03-21T00:00:00\",\"2017-03-23T00:00:00\",\"2017-03-24T00:00:00\",\"2017-03-28T00:00:00\",\"2017-03-30T00:00:00\",\"2017-03-31T00:00:00\",\"2017-04-01T00:00:00\",\"2017-04-02T00:00:00\",\"2017-04-04T00:00:00\",\"2017-04-06T00:00:00\",\"2017-04-07T00:00:00\",\"2017-04-08T00:00:00\",\"2017-04-10T00:00:00\",\"2017-04-11T00:00:00\",\"2017-04-12T00:00:00\",\"2017-04-14T00:00:00\",\"2017-04-15T00:00:00\",\"2017-04-16T00:00:00\",\"2017-04-18T00:00:00\",\"2017-04-19T00:00:00\",\"2017-04-20T00:00:00\",\"2017-04-21T00:00:00\",\"2017-04-22T00:00:00\",\"2017-04-23T00:00:00\",\"2017-04-25T00:00:00\",\"2017-04-26T00:00:00\",\"2017-04-27T00:00:00\",\"2017-04-28T00:00:00\",\"2017-05-01T00:00:00\",\"2017-05-02T00:00:00\",\"2017-05-04T00:00:00\",\"2017-05-05T00:00:00\",\"2017-05-07T00:00:00\",\"2017-05-08T00:00:00\",\"2017-05-09T00:00:00\",\"2017-05-10T00:00:00\",\"2017-05-12T00:00:00\",\"2017-05-13T00:00:00\",\"2017-05-14T00:00:00\",\"2017-05-15T00:00:00\",\"2017-05-16T00:00:00\",\"2017-05-18T00:00:00\",\"2017-05-19T00:00:00\",\"2017-05-22T00:00:00\",\"2017-05-23T00:00:00\",\"2017-05-25T00:00:00\",\"2017-05-26T00:00:00\",\"2017-05-29T00:00:00\",\"2017-05-30T00:00:00\",\"2017-05-31T00:00:00\",\"2017-06-01T00:00:00\",\"2017-06-02T00:00:00\",\"2017-06-03T00:00:00\",\"2017-06-05T00:00:00\",\"2017-06-08T00:00:00\",\"2017-06-09T00:00:00\",\"2017-06-10T00:00:00\",\"2017-06-13T00:00:00\",\"2017-06-15T00:00:00\",\"2017-06-16T00:00:00\",\"2017-06-17T00:00:00\",\"2017-06-19T00:00:00\",\"2017-06-20T00:00:00\",\"2017-06-21T00:00:00\",\"2017-06-22T00:00:00\",\"2017-06-23T00:00:00\",\"2017-06-24T00:00:00\",\"2017-06-25T00:00:00\",\"2017-06-26T00:00:00\",\"2017-06-27T00:00:00\",\"2017-06-28T00:00:00\",\"2017-06-30T00:00:00\",\"2017-07-01T00:00:00\",\"2017-07-04T00:00:00\",\"2017-07-06T00:00:00\",\"2017-07-07T00:00:00\",\"2017-07-10T00:00:00\",\"2017-07-12T00:00:00\",\"2017-07-13T00:00:00\",\"2017-07-14T00:00:00\",\"2017-07-15T00:00:00\",\"2017-07-17T00:00:00\",\"2017-07-18T00:00:00\",\"2017-07-19T00:00:00\",\"2017-07-20T00:00:00\",\"2017-07-21T00:00:00\",\"2017-07-24T00:00:00\",\"2017-07-25T00:00:00\",\"2017-07-28T00:00:00\",\"2017-07-30T00:00:00\",\"2017-08-01T00:00:00\",\"2017-08-03T00:00:00\",\"2017-08-04T00:00:00\",\"2017-08-05T00:00:00\",\"2017-08-06T00:00:00\",\"2017-08-07T00:00:00\",\"2017-08-08T00:00:00\",\"2017-08-09T00:00:00\",\"2017-08-10T00:00:00\",\"2017-08-11T00:00:00\",\"2017-08-12T00:00:00\",\"2017-08-13T00:00:00\",\"2017-08-14T00:00:00\",\"2017-08-15T00:00:00\",\"2017-08-16T00:00:00\",\"2017-08-17T00:00:00\",\"2017-08-18T00:00:00\",\"2017-08-19T00:00:00\",\"2017-08-20T00:00:00\",\"2017-08-21T00:00:00\",\"2017-08-22T00:00:00\",\"2017-08-23T00:00:00\",\"2017-08-25T00:00:00\",\"2017-08-26T00:00:00\",\"2017-08-27T00:00:00\",\"2017-08-28T00:00:00\",\"2017-08-29T00:00:00\",\"2017-08-31T00:00:00\",\"2017-09-01T00:00:00\",\"2017-09-02T00:00:00\",\"2017-09-04T00:00:00\",\"2017-09-05T00:00:00\",\"2017-09-06T00:00:00\",\"2017-09-07T00:00:00\",\"2017-09-08T00:00:00\",\"2017-09-11T00:00:00\",\"2017-09-12T00:00:00\",\"2017-09-13T00:00:00\",\"2017-09-15T00:00:00\",\"2017-09-17T00:00:00\",\"2017-09-18T00:00:00\",\"2017-09-19T00:00:00\",\"2017-09-22T00:00:00\",\"2017-09-24T00:00:00\",\"2017-09-25T00:00:00\",\"2017-09-26T00:00:00\",\"2017-09-27T00:00:00\",\"2017-09-28T00:00:00\",\"2017-09-29T00:00:00\",\"2017-09-30T00:00:00\",\"2017-10-01T00:00:00\",\"2017-10-02T00:00:00\",\"2017-10-03T00:00:00\",\"2017-10-05T00:00:00\",\"2017-10-06T00:00:00\",\"2017-10-07T00:00:00\",\"2017-10-10T00:00:00\",\"2017-10-12T00:00:00\",\"2017-10-13T00:00:00\",\"2017-10-14T00:00:00\",\"2017-10-15T00:00:00\",\"2017-10-16T00:00:00\",\"2017-10-17T00:00:00\",\"2017-10-18T00:00:00\",\"2017-10-19T00:00:00\",\"2017-10-20T00:00:00\",\"2017-10-21T00:00:00\",\"2017-10-22T00:00:00\",\"2017-10-23T00:00:00\",\"2017-10-24T00:00:00\",\"2017-10-25T00:00:00\",\"2017-10-26T00:00:00\",\"2017-10-27T00:00:00\",\"2017-10-28T00:00:00\",\"2017-10-30T00:00:00\",\"2017-10-31T00:00:00\",\"2017-11-01T00:00:00\",\"2017-11-03T00:00:00\",\"2017-11-04T00:00:00\",\"2017-11-05T00:00:00\",\"2017-11-06T00:00:00\",\"2017-11-07T00:00:00\",\"2017-11-10T00:00:00\",\"2017-11-11T00:00:00\",\"2017-11-12T00:00:00\",\"2017-11-13T00:00:00\",\"2017-11-14T00:00:00\",\"2017-11-15T00:00:00\",\"2017-11-16T00:00:00\",\"2017-11-17T00:00:00\",\"2017-11-18T00:00:00\",\"2017-11-21T00:00:00\",\"2017-11-22T00:00:00\",\"2017-11-23T00:00:00\",\"2017-11-24T00:00:00\",\"2017-11-27T00:00:00\",\"2017-11-30T00:00:00\",\"2017-12-01T00:00:00\",\"2017-12-02T00:00:00\",\"2017-12-05T00:00:00\",\"2017-12-06T00:00:00\",\"2017-12-07T00:00:00\",\"2017-12-08T00:00:00\",\"2017-12-11T00:00:00\",\"2017-12-12T00:00:00\",\"2017-12-14T00:00:00\",\"2017-12-15T00:00:00\",\"2017-12-16T00:00:00\",\"2017-12-18T00:00:00\",\"2017-12-19T00:00:00\",\"2017-12-20T00:00:00\",\"2017-12-21T00:00:00\",\"2017-12-22T00:00:00\",\"2017-12-23T00:00:00\",\"2017-12-25T00:00:00\",\"2017-12-26T00:00:00\",\"2017-12-27T00:00:00\",\"2017-12-29T00:00:00\",\"2017-12-30T00:00:00\",\"2017-12-31T00:00:00\",\"2018-01-01T00:00:00\",\"2018-01-02T00:00:00\",\"2018-01-05T00:00:00\",\"2018-01-06T00:00:00\",\"2018-01-08T00:00:00\",\"2018-01-09T00:00:00\",\"2018-01-10T00:00:00\",\"2018-01-11T00:00:00\",\"2018-01-12T00:00:00\",\"2018-01-15T00:00:00\",\"2018-01-16T00:00:00\",\"2018-01-17T00:00:00\",\"2018-01-18T00:00:00\",\"2018-01-19T00:00:00\",\"2018-01-20T00:00:00\",\"2018-01-22T00:00:00\",\"2018-01-23T00:00:00\",\"2018-01-24T00:00:00\",\"2018-01-25T00:00:00\",\"2018-01-26T00:00:00\",\"2018-01-28T00:00:00\",\"2018-01-29T00:00:00\",\"2018-01-30T00:00:00\",\"2018-01-31T00:00:00\",\"2018-02-01T00:00:00\",\"2018-02-02T00:00:00\",\"2018-02-04T00:00:00\",\"2018-02-05T00:00:00\",\"2018-02-06T00:00:00\",\"2018-02-08T00:00:00\",\"2018-02-09T00:00:00\",\"2018-02-13T00:00:00\",\"2018-02-14T00:00:00\",\"2018-02-15T00:00:00\",\"2018-02-16T00:00:00\",\"2018-02-17T00:00:00\",\"2018-02-19T00:00:00\",\"2018-02-20T00:00:00\",\"2018-02-21T00:00:00\",\"2018-02-22T00:00:00\",\"2018-02-23T00:00:00\",\"2018-02-24T00:00:00\",\"2018-02-25T00:00:00\",\"2018-02-26T00:00:00\",\"2018-02-27T00:00:00\",\"2018-02-28T00:00:00\",\"2018-03-01T00:00:00\",\"2018-03-02T00:00:00\",\"2018-03-04T00:00:00\",\"2018-03-05T00:00:00\",\"2018-03-06T00:00:00\",\"2018-03-07T00:00:00\",\"2018-03-08T00:00:00\",\"2018-03-09T00:00:00\",\"2018-03-10T00:00:00\",\"2018-03-11T00:00:00\",\"2018-03-12T00:00:00\",\"2018-03-13T00:00:00\",\"2018-03-14T00:00:00\",\"2018-03-15T00:00:00\",\"2018-03-16T00:00:00\",\"2018-03-19T00:00:00\",\"2018-03-20T00:00:00\",\"2018-03-21T00:00:00\",\"2018-03-23T00:00:00\",\"2018-03-24T00:00:00\",\"2018-03-26T00:00:00\",\"2018-03-27T00:00:00\",\"2018-03-28T00:00:00\",\"2018-03-29T00:00:00\",\"2018-03-30T00:00:00\",\"2018-03-31T00:00:00\",\"2018-04-01T00:00:00\",\"2018-04-02T00:00:00\",\"2018-04-03T00:00:00\",\"2018-04-04T00:00:00\",\"2018-04-05T00:00:00\",\"2018-04-06T00:00:00\",\"2018-04-07T00:00:00\",\"2018-04-09T00:00:00\",\"2018-04-10T00:00:00\",\"2018-04-12T00:00:00\",\"2018-04-13T00:00:00\",\"2018-04-14T00:00:00\",\"2018-04-15T00:00:00\",\"2018-04-16T00:00:00\",\"2018-04-17T00:00:00\",\"2018-04-18T00:00:00\",\"2018-04-19T00:00:00\",\"2018-04-20T00:00:00\",\"2018-04-24T00:00:00\",\"2018-04-25T00:00:00\",\"2018-04-26T00:00:00\",\"2018-04-27T00:00:00\",\"2018-04-30T00:00:00\",\"2018-05-01T00:00:00\",\"2018-05-02T00:00:00\",\"2018-05-03T00:00:00\",\"2018-05-04T00:00:00\",\"2018-05-05T00:00:00\",\"2018-05-07T00:00:00\",\"2018-05-08T00:00:00\",\"2018-05-11T00:00:00\",\"2018-05-12T00:00:00\",\"2018-05-13T00:00:00\",\"2018-05-15T00:00:00\",\"2018-05-16T00:00:00\",\"2018-05-17T00:00:00\",\"2018-05-18T00:00:00\",\"2018-05-19T00:00:00\",\"2018-05-22T00:00:00\",\"2018-05-24T00:00:00\",\"2018-05-25T00:00:00\",\"2018-05-26T00:00:00\",\"2018-05-27T00:00:00\",\"2018-05-29T00:00:00\",\"2018-05-30T00:00:00\",\"2018-05-31T00:00:00\",\"2018-06-01T00:00:00\",\"2018-06-02T00:00:00\",\"2018-06-04T00:00:00\",\"2018-06-05T00:00:00\",\"2018-06-07T00:00:00\",\"2018-06-08T00:00:00\",\"2018-06-12T00:00:00\",\"2018-06-14T00:00:00\",\"2018-06-15T00:00:00\",\"2018-06-18T00:00:00\",\"2018-06-19T00:00:00\",\"2018-06-20T00:00:00\",\"2018-06-22T00:00:00\",\"2018-06-23T00:00:00\",\"2018-06-24T00:00:00\",\"2018-06-25T00:00:00\",\"2018-06-26T00:00:00\",\"2018-06-27T00:00:00\",\"2018-06-28T00:00:00\",\"2018-06-29T00:00:00\",\"2018-06-30T00:00:00\",\"2018-07-01T00:00:00\",\"2018-07-02T00:00:00\",\"2018-07-03T00:00:00\",\"2018-07-04T00:00:00\",\"2018-07-05T00:00:00\",\"2018-07-06T00:00:00\",\"2018-07-08T00:00:00\",\"2018-07-10T00:00:00\",\"2018-07-11T00:00:00\",\"2018-07-13T00:00:00\",\"2018-07-14T00:00:00\",\"2018-07-15T00:00:00\",\"2018-07-17T00:00:00\",\"2018-07-18T00:00:00\",\"2018-07-19T00:00:00\",\"2018-07-20T00:00:00\",\"2018-07-21T00:00:00\",\"2018-07-22T00:00:00\",\"2018-07-23T00:00:00\",\"2018-07-24T00:00:00\",\"2018-07-25T00:00:00\",\"2018-07-26T00:00:00\",\"2018-07-27T00:00:00\",\"2018-07-28T00:00:00\",\"2018-07-29T00:00:00\",\"2018-07-30T00:00:00\",\"2018-07-31T00:00:00\",\"2018-08-01T00:00:00\",\"2018-08-02T00:00:00\",\"2018-08-03T00:00:00\",\"2018-08-04T00:00:00\",\"2018-08-05T00:00:00\",\"2018-08-08T00:00:00\",\"2018-08-09T00:00:00\",\"2018-08-10T00:00:00\",\"2018-08-13T00:00:00\",\"2018-08-15T00:00:00\",\"2018-08-16T00:00:00\",\"2018-08-17T00:00:00\",\"2018-08-18T00:00:00\",\"2018-08-19T00:00:00\",\"2018-08-20T00:00:00\",\"2018-08-21T00:00:00\",\"2018-08-23T00:00:00\",\"2018-08-24T00:00:00\",\"2018-08-25T00:00:00\",\"2018-08-26T00:00:00\",\"2018-08-27T00:00:00\",\"2018-08-28T00:00:00\",\"2018-08-29T00:00:00\",\"2018-08-30T00:00:00\",\"2018-08-31T00:00:00\",\"2018-09-01T00:00:00\",\"2018-09-02T00:00:00\",\"2018-09-03T00:00:00\",\"2018-09-04T00:00:00\",\"2018-09-05T00:00:00\",\"2018-09-06T00:00:00\",\"2018-09-07T00:00:00\",\"2018-09-08T00:00:00\",\"2018-09-09T00:00:00\",\"2018-09-11T00:00:00\",\"2018-09-12T00:00:00\",\"2018-09-13T00:00:00\",\"2018-09-14T00:00:00\",\"2018-09-15T00:00:00\",\"2018-09-16T00:00:00\",\"2018-09-17T00:00:00\",\"2018-09-18T00:00:00\",\"2018-09-19T00:00:00\",\"2018-09-20T00:00:00\",\"2018-09-21T00:00:00\",\"2018-09-22T00:00:00\",\"2018-09-24T00:00:00\",\"2018-09-25T00:00:00\",\"2018-09-26T00:00:00\",\"2018-09-27T00:00:00\",\"2018-09-28T00:00:00\",\"2018-09-29T00:00:00\",\"2018-09-30T00:00:00\",\"2018-10-01T00:00:00\",\"2018-10-02T00:00:00\",\"2018-10-03T00:00:00\",\"2018-10-04T00:00:00\",\"2018-10-05T00:00:00\",\"2018-10-06T00:00:00\",\"2018-10-08T00:00:00\",\"2018-10-09T00:00:00\",\"2018-10-10T00:00:00\",\"2018-10-11T00:00:00\",\"2018-10-12T00:00:00\",\"2018-10-13T00:00:00\",\"2018-10-15T00:00:00\",\"2018-10-16T00:00:00\",\"2018-10-17T00:00:00\",\"2018-10-18T00:00:00\",\"2018-10-19T00:00:00\",\"2018-10-20T00:00:00\",\"2018-10-21T00:00:00\",\"2018-10-22T00:00:00\",\"2018-10-23T00:00:00\",\"2018-10-24T00:00:00\",\"2018-10-25T00:00:00\",\"2018-10-26T00:00:00\",\"2018-10-27T00:00:00\",\"2018-10-28T00:00:00\",\"2018-10-29T00:00:00\",\"2018-10-30T00:00:00\",\"2018-10-31T00:00:00\",\"2018-11-01T00:00:00\",\"2018-11-02T00:00:00\",\"2018-11-03T00:00:00\",\"2018-11-05T00:00:00\",\"2018-11-07T00:00:00\",\"2018-11-08T00:00:00\",\"2018-11-09T00:00:00\",\"2018-11-10T00:00:00\",\"2018-11-12T00:00:00\",\"2018-11-13T00:00:00\",\"2018-11-15T00:00:00\",\"2018-11-16T00:00:00\",\"2018-11-17T00:00:00\",\"2018-11-18T00:00:00\",\"2018-11-20T00:00:00\",\"2018-11-21T00:00:00\",\"2018-11-22T00:00:00\",\"2018-11-23T00:00:00\",\"2018-11-25T00:00:00\",\"2018-11-27T00:00:00\",\"2018-11-28T00:00:00\",\"2018-11-30T00:00:00\",\"2018-12-01T00:00:00\",\"2018-12-02T00:00:00\",\"2018-12-03T00:00:00\",\"2018-12-04T00:00:00\",\"2018-12-05T00:00:00\",\"2018-12-06T00:00:00\",\"2018-12-07T00:00:00\",\"2018-12-08T00:00:00\",\"2018-12-09T00:00:00\",\"2018-12-10T00:00:00\",\"2018-12-11T00:00:00\",\"2018-12-12T00:00:00\",\"2018-12-14T00:00:00\",\"2018-12-15T00:00:00\",\"2018-12-16T00:00:00\",\"2018-12-17T00:00:00\",\"2018-12-18T00:00:00\",\"2018-12-19T00:00:00\",\"2018-12-20T00:00:00\",\"2018-12-21T00:00:00\",\"2018-12-22T00:00:00\",\"2018-12-23T00:00:00\",\"2018-12-24T00:00:00\",\"2018-12-25T00:00:00\",\"2018-12-26T00:00:00\",\"2018-12-27T00:00:00\",\"2018-12-28T00:00:00\",\"2018-12-29T00:00:00\",\"2018-12-30T00:00:00\",\"2018-12-31T00:00:00\",\"2019-01-01T00:00:00\",\"2019-01-02T00:00:00\",\"2019-01-03T00:00:00\",\"2019-01-04T00:00:00\",\"2019-01-05T00:00:00\",\"2019-01-07T00:00:00\",\"2019-01-08T00:00:00\",\"2019-01-09T00:00:00\",\"2019-01-10T00:00:00\",\"2019-01-11T00:00:00\",\"2019-01-12T00:00:00\",\"2019-01-13T00:00:00\",\"2019-01-14T00:00:00\",\"2019-01-15T00:00:00\",\"2019-01-16T00:00:00\",\"2019-01-18T00:00:00\",\"2019-01-19T00:00:00\",\"2019-01-23T00:00:00\",\"2019-01-24T00:00:00\",\"2019-01-25T00:00:00\",\"2019-01-26T00:00:00\",\"2019-01-27T00:00:00\",\"2019-01-28T00:00:00\",\"2019-01-29T00:00:00\",\"2019-01-30T00:00:00\",\"2019-01-31T00:00:00\",\"2019-02-01T00:00:00\",\"2019-02-02T00:00:00\",\"2019-02-03T00:00:00\",\"2019-02-05T00:00:00\",\"2019-02-06T00:00:00\",\"2019-02-07T00:00:00\",\"2019-02-08T00:00:00\",\"2019-02-09T00:00:00\",\"2019-02-11T00:00:00\",\"2019-02-12T00:00:00\",\"2019-02-13T00:00:00\",\"2019-02-14T00:00:00\",\"2019-02-15T00:00:00\",\"2019-02-16T00:00:00\",\"2019-02-17T00:00:00\",\"2019-02-19T00:00:00\",\"2019-02-20T00:00:00\",\"2019-02-21T00:00:00\",\"2019-02-22T00:00:00\",\"2019-02-23T00:00:00\",\"2019-02-24T00:00:00\",\"2019-02-25T00:00:00\",\"2019-02-26T00:00:00\",\"2019-02-27T00:00:00\",\"2019-02-28T00:00:00\",\"2019-03-01T00:00:00\",\"2019-03-02T00:00:00\",\"2019-03-03T00:00:00\",\"2019-03-04T00:00:00\",\"2019-03-05T00:00:00\",\"2019-03-06T00:00:00\",\"2019-03-07T00:00:00\",\"2019-03-08T00:00:00\",\"2019-03-09T00:00:00\",\"2019-03-10T00:00:00\",\"2019-03-11T00:00:00\",\"2019-03-12T00:00:00\",\"2019-03-13T00:00:00\",\"2019-03-14T00:00:00\",\"2019-03-15T00:00:00\",\"2019-03-16T00:00:00\",\"2019-03-17T00:00:00\",\"2019-03-18T00:00:00\",\"2019-03-19T00:00:00\",\"2019-03-20T00:00:00\",\"2019-03-21T00:00:00\",\"2019-03-22T00:00:00\",\"2019-03-23T00:00:00\",\"2019-03-24T00:00:00\",\"2019-03-25T00:00:00\",\"2019-03-26T00:00:00\",\"2019-03-27T00:00:00\",\"2019-03-28T00:00:00\",\"2019-03-29T00:00:00\",\"2019-03-30T00:00:00\",\"2019-03-31T00:00:00\",\"2019-04-01T00:00:00\",\"2019-04-02T00:00:00\",\"2019-04-03T00:00:00\",\"2019-04-04T00:00:00\",\"2019-04-05T00:00:00\",\"2019-04-06T00:00:00\",\"2019-04-07T00:00:00\",\"2019-04-08T00:00:00\",\"2019-04-09T00:00:00\",\"2019-04-10T00:00:00\",\"2019-04-11T00:00:00\",\"2019-04-12T00:00:00\",\"2019-04-13T00:00:00\",\"2019-04-14T00:00:00\",\"2019-04-15T00:00:00\",\"2019-04-16T00:00:00\",\"2019-04-17T00:00:00\",\"2019-04-18T00:00:00\",\"2019-04-19T00:00:00\",\"2019-04-20T00:00:00\",\"2019-04-21T00:00:00\",\"2019-04-22T00:00:00\",\"2019-04-23T00:00:00\",\"2019-04-24T00:00:00\",\"2019-04-25T00:00:00\",\"2019-04-26T00:00:00\",\"2019-04-27T00:00:00\",\"2019-04-28T00:00:00\",\"2019-04-29T00:00:00\",\"2019-04-30T00:00:00\",\"2019-05-01T00:00:00\",\"2019-05-02T00:00:00\",\"2019-05-03T00:00:00\",\"2019-05-05T00:00:00\",\"2019-05-06T00:00:00\",\"2019-05-07T00:00:00\",\"2019-05-08T00:00:00\",\"2019-05-09T00:00:00\",\"2019-05-10T00:00:00\",\"2019-05-11T00:00:00\",\"2019-05-12T00:00:00\",\"2019-05-13T00:00:00\",\"2019-05-14T00:00:00\",\"2019-05-15T00:00:00\",\"2019-05-16T00:00:00\",\"2019-05-17T00:00:00\",\"2019-05-18T00:00:00\",\"2019-05-19T00:00:00\",\"2019-05-20T00:00:00\",\"2019-05-21T00:00:00\",\"2019-05-22T00:00:00\",\"2019-05-23T00:00:00\",\"2019-05-24T00:00:00\",\"2019-05-25T00:00:00\",\"2019-05-26T00:00:00\",\"2019-05-27T00:00:00\",\"2019-05-28T00:00:00\",\"2019-05-30T00:00:00\",\"2019-05-31T00:00:00\",\"2019-06-01T00:00:00\",\"2019-06-02T00:00:00\",\"2019-06-03T00:00:00\",\"2019-06-04T00:00:00\",\"2019-06-05T00:00:00\",\"2019-06-06T00:00:00\",\"2019-06-07T00:00:00\",\"2019-06-08T00:00:00\",\"2019-06-10T00:00:00\",\"2019-06-11T00:00:00\",\"2019-06-12T00:00:00\",\"2019-06-13T00:00:00\",\"2019-06-14T00:00:00\",\"2019-06-15T00:00:00\",\"2019-06-16T00:00:00\",\"2019-06-18T00:00:00\",\"2019-06-19T00:00:00\",\"2019-06-20T00:00:00\",\"2019-06-21T00:00:00\",\"2019-06-22T00:00:00\",\"2019-06-23T00:00:00\",\"2019-06-24T00:00:00\",\"2019-06-25T00:00:00\",\"2019-06-26T00:00:00\",\"2019-06-27T00:00:00\",\"2019-06-28T00:00:00\",\"2019-06-29T00:00:00\",\"2019-06-30T00:00:00\",\"2019-07-01T00:00:00\",\"2019-07-02T00:00:00\",\"2019-07-03T00:00:00\",\"2019-07-04T00:00:00\",\"2019-07-05T00:00:00\",\"2019-07-06T00:00:00\",\"2019-07-07T00:00:00\",\"2019-07-08T00:00:00\",\"2019-07-09T00:00:00\",\"2019-07-11T00:00:00\",\"2019-07-12T00:00:00\",\"2019-07-13T00:00:00\",\"2019-07-15T00:00:00\",\"2019-07-16T00:00:00\",\"2019-07-17T00:00:00\",\"2019-07-18T00:00:00\",\"2019-07-19T00:00:00\",\"2019-07-20T00:00:00\",\"2019-07-21T00:00:00\",\"2019-07-22T00:00:00\",\"2019-07-23T00:00:00\",\"2019-07-24T00:00:00\",\"2019-07-25T00:00:00\",\"2019-07-26T00:00:00\",\"2019-07-29T00:00:00\",\"2019-07-30T00:00:00\",\"2019-07-31T00:00:00\",\"2019-08-01T00:00:00\",\"2019-08-02T00:00:00\",\"2019-08-03T00:00:00\",\"2019-08-05T00:00:00\",\"2019-08-06T00:00:00\",\"2019-08-07T00:00:00\",\"2019-08-08T00:00:00\",\"2019-08-09T00:00:00\",\"2019-08-12T00:00:00\",\"2019-08-13T00:00:00\",\"2019-08-14T00:00:00\",\"2019-08-15T00:00:00\",\"2019-08-16T00:00:00\",\"2019-08-20T00:00:00\",\"2019-08-21T00:00:00\",\"2019-08-23T00:00:00\",\"2019-08-24T00:00:00\",\"2019-08-25T00:00:00\",\"2019-08-26T00:00:00\",\"2019-08-27T00:00:00\",\"2019-08-28T00:00:00\",\"2019-08-29T00:00:00\",\"2019-08-30T00:00:00\",\"2019-08-31T00:00:00\",\"2019-09-01T00:00:00\",\"2019-09-04T00:00:00\",\"2019-09-05T00:00:00\",\"2019-09-06T00:00:00\",\"2019-09-09T00:00:00\",\"2019-09-10T00:00:00\",\"2019-09-11T00:00:00\",\"2019-09-12T00:00:00\",\"2019-09-13T00:00:00\",\"2019-09-14T00:00:00\",\"2019-09-15T00:00:00\",\"2019-09-16T00:00:00\",\"2019-09-17T00:00:00\",\"2019-09-18T00:00:00\",\"2019-09-19T00:00:00\",\"2019-09-20T00:00:00\",\"2019-09-21T00:00:00\",\"2019-09-22T00:00:00\",\"2019-09-23T00:00:00\",\"2019-09-24T00:00:00\",\"2019-09-25T00:00:00\",\"2019-09-26T00:00:00\",\"2019-09-27T00:00:00\",\"2019-09-28T00:00:00\",\"2019-09-30T00:00:00\",\"2019-10-01T00:00:00\",\"2019-10-02T00:00:00\",\"2019-10-03T00:00:00\",\"2019-10-04T00:00:00\",\"2019-10-05T00:00:00\",\"2019-10-06T00:00:00\",\"2019-10-07T00:00:00\",\"2019-10-08T00:00:00\",\"2019-10-09T00:00:00\",\"2019-10-10T00:00:00\",\"2019-10-11T00:00:00\",\"2019-10-13T00:00:00\",\"2019-10-14T00:00:00\",\"2019-10-15T00:00:00\",\"2019-10-16T00:00:00\",\"2019-10-17T00:00:00\",\"2019-10-18T00:00:00\",\"2019-10-19T00:00:00\",\"2019-10-21T00:00:00\",\"2019-10-22T00:00:00\",\"2019-10-23T00:00:00\",\"2019-10-24T00:00:00\",\"2019-10-25T00:00:00\",\"2019-10-26T00:00:00\",\"2019-10-27T00:00:00\",\"2019-10-28T00:00:00\",\"2019-10-29T00:00:00\",\"2019-10-30T00:00:00\",\"2019-10-31T00:00:00\",\"2019-11-01T00:00:00\",\"2019-11-02T00:00:00\",\"2019-11-04T00:00:00\",\"2019-11-05T00:00:00\",\"2019-11-06T00:00:00\",\"2019-11-07T00:00:00\",\"2019-11-08T00:00:00\",\"2019-11-09T00:00:00\",\"2019-11-11T00:00:00\",\"2019-11-12T00:00:00\",\"2019-11-13T00:00:00\",\"2019-11-14T00:00:00\",\"2019-11-15T00:00:00\",\"2019-11-16T00:00:00\",\"2019-11-17T00:00:00\",\"2019-11-19T00:00:00\",\"2019-11-20T00:00:00\",\"2019-11-21T00:00:00\",\"2019-11-22T00:00:00\",\"2019-11-23T00:00:00\",\"2019-11-24T00:00:00\",\"2019-11-25T00:00:00\",\"2019-11-26T00:00:00\",\"2019-11-27T00:00:00\",\"2019-11-28T00:00:00\",\"2019-11-29T00:00:00\",\"2019-11-30T00:00:00\",\"2019-12-01T00:00:00\",\"2019-12-02T00:00:00\",\"2019-12-03T00:00:00\",\"2019-12-04T00:00:00\",\"2019-12-05T00:00:00\",\"2019-12-06T00:00:00\",\"2019-12-07T00:00:00\",\"2019-12-08T00:00:00\",\"2019-12-09T00:00:00\",\"2019-12-10T00:00:00\",\"2019-12-11T00:00:00\",\"2019-12-12T00:00:00\",\"2019-12-13T00:00:00\",\"2019-12-15T00:00:00\",\"2019-12-16T00:00:00\",\"2019-12-17T00:00:00\",\"2019-12-18T00:00:00\",\"2019-12-19T00:00:00\",\"2019-12-20T00:00:00\",\"2019-12-21T00:00:00\",\"2019-12-22T00:00:00\",\"2019-12-24T00:00:00\",\"2019-12-25T00:00:00\",\"2019-12-26T00:00:00\",\"2019-12-27T00:00:00\",\"2019-12-28T00:00:00\",\"2019-12-30T00:00:00\",\"2019-12-31T00:00:00\",\"2020-01-01T00:00:00\",\"2020-01-02T00:00:00\",\"2020-01-03T00:00:00\",\"2020-01-04T00:00:00\",\"2020-01-07T00:00:00\",\"2020-01-08T00:00:00\",\"2020-01-09T00:00:00\",\"2020-01-10T00:00:00\",\"2020-01-11T00:00:00\",\"2020-01-12T00:00:00\",\"2020-01-13T00:00:00\",\"2020-01-14T00:00:00\",\"2020-01-15T00:00:00\",\"2020-01-16T00:00:00\",\"2020-01-17T00:00:00\",\"2020-01-18T00:00:00\",\"2020-01-20T00:00:00\",\"2020-01-21T00:00:00\",\"2020-01-22T00:00:00\",\"2020-01-23T00:00:00\",\"2020-01-24T00:00:00\",\"2020-01-25T00:00:00\",\"2020-01-26T00:00:00\",\"2020-01-27T00:00:00\",\"2020-01-29T00:00:00\",\"2020-01-30T00:00:00\",\"2020-01-31T00:00:00\",\"2020-02-01T00:00:00\",\"2020-02-03T00:00:00\",\"2020-02-04T00:00:00\",\"2020-02-05T00:00:00\",\"2020-02-06T00:00:00\",\"2020-02-07T00:00:00\",\"2020-02-08T00:00:00\",\"2020-02-09T00:00:00\",\"2020-02-10T00:00:00\",\"2020-02-11T00:00:00\",\"2020-02-12T00:00:00\",\"2020-02-13T00:00:00\",\"2020-02-14T00:00:00\",\"2020-02-15T00:00:00\",\"2020-02-16T00:00:00\",\"2020-02-17T00:00:00\",\"2020-02-20T00:00:00\",\"2020-02-21T00:00:00\",\"2020-02-22T00:00:00\",\"2020-02-23T00:00:00\",\"2020-02-25T00:00:00\",\"2020-02-26T00:00:00\",\"2020-02-27T00:00:00\",\"2020-02-28T00:00:00\",\"2020-03-01T00:00:00\",\"2020-03-02T00:00:00\",\"2020-03-03T00:00:00\",\"2020-03-04T00:00:00\",\"2020-03-05T00:00:00\",\"2020-03-06T00:00:00\",\"2020-03-08T00:00:00\",\"2020-03-10T00:00:00\",\"2020-03-11T00:00:00\",\"2020-03-13T00:00:00\",\"2020-03-14T00:00:00\",\"2020-03-15T00:00:00\",\"2020-03-16T00:00:00\",\"2020-03-17T00:00:00\",\"2020-03-18T00:00:00\",\"2020-03-19T00:00:00\",\"2020-03-20T00:00:00\",\"2020-03-21T00:00:00\",\"2020-03-22T00:00:00\",\"2020-03-23T00:00:00\",\"2020-03-24T00:00:00\",\"2020-03-25T00:00:00\",\"2020-03-26T00:00:00\",\"2020-03-27T00:00:00\",\"2020-03-28T00:00:00\",\"2020-03-29T00:00:00\",\"2020-03-31T00:00:00\",\"2020-04-01T00:00:00\",\"2020-04-02T00:00:00\",\"2020-04-03T00:00:00\",\"2020-04-04T00:00:00\",\"2020-04-05T00:00:00\",\"2020-04-06T00:00:00\",\"2020-04-07T00:00:00\",\"2020-04-08T00:00:00\",\"2020-04-09T00:00:00\",\"2020-04-10T00:00:00\",\"2020-04-11T00:00:00\",\"2020-04-13T00:00:00\",\"2020-04-14T00:00:00\",\"2020-04-15T00:00:00\",\"2020-04-16T00:00:00\",\"2020-04-17T00:00:00\",\"2020-04-18T00:00:00\",\"2020-04-20T00:00:00\",\"2020-04-21T00:00:00\",\"2020-04-22T00:00:00\",\"2020-04-23T00:00:00\",\"2020-04-24T00:00:00\",\"2020-04-25T00:00:00\",\"2020-04-26T00:00:00\",\"2020-04-27T00:00:00\",\"2020-04-28T00:00:00\",\"2020-04-29T00:00:00\",\"2020-04-30T00:00:00\",\"2020-05-01T00:00:00\",\"2020-05-02T00:00:00\",\"2020-05-03T00:00:00\",\"2020-05-04T00:00:00\",\"2020-05-05T00:00:00\",\"2020-05-06T00:00:00\",\"2020-05-07T00:00:00\",\"2020-05-08T00:00:00\",\"2020-05-09T00:00:00\",\"2020-05-11T00:00:00\",\"2020-05-12T00:00:00\",\"2020-05-13T00:00:00\",\"2020-05-14T00:00:00\",\"2020-05-15T00:00:00\",\"2020-05-16T00:00:00\",\"2020-05-17T00:00:00\",\"2020-05-18T00:00:00\",\"2020-05-19T00:00:00\",\"2020-05-20T00:00:00\",\"2020-05-21T00:00:00\",\"2020-05-22T00:00:00\",\"2020-05-23T00:00:00\",\"2020-05-24T00:00:00\",\"2020-05-25T00:00:00\",\"2020-05-26T00:00:00\",\"2020-05-27T00:00:00\",\"2020-05-28T00:00:00\",\"2020-05-29T00:00:00\",\"2020-05-31T00:00:00\",\"2020-06-01T00:00:00\",\"2020-06-02T00:00:00\",\"2020-06-03T00:00:00\",\"2020-06-04T00:00:00\",\"2020-06-05T00:00:00\",\"2020-06-06T00:00:00\",\"2020-06-07T00:00:00\",\"2020-06-08T00:00:00\",\"2020-06-10T00:00:00\",\"2020-06-11T00:00:00\",\"2020-06-12T00:00:00\",\"2020-06-13T00:00:00\",\"2020-06-15T00:00:00\",\"2020-06-16T00:00:00\",\"2020-06-17T00:00:00\",\"2020-06-18T00:00:00\",\"2020-06-19T00:00:00\",\"2020-06-20T00:00:00\",\"2020-06-21T00:00:00\",\"2020-06-22T00:00:00\",\"2020-06-23T00:00:00\",\"2020-06-24T00:00:00\",\"2020-06-25T00:00:00\",\"2020-06-26T00:00:00\",\"2020-06-27T00:00:00\",\"2020-06-28T00:00:00\",\"2020-06-29T00:00:00\",\"2020-06-30T00:00:00\",\"2020-07-01T00:00:00\",\"2020-07-02T00:00:00\",\"2020-07-03T00:00:00\",\"2020-07-04T00:00:00\",\"2020-07-05T00:00:00\",\"2020-07-06T00:00:00\",\"2020-07-07T00:00:00\",\"2020-07-08T00:00:00\",\"2020-07-09T00:00:00\",\"2020-07-10T00:00:00\",\"2020-07-11T00:00:00\",\"2020-07-14T00:00:00\",\"2020-07-15T00:00:00\",\"2020-07-16T00:00:00\",\"2020-07-17T00:00:00\",\"2020-07-18T00:00:00\",\"2020-07-19T00:00:00\",\"2020-07-21T00:00:00\",\"2020-07-22T00:00:00\",\"2020-07-23T00:00:00\",\"2020-07-24T00:00:00\",\"2020-07-25T00:00:00\",\"2020-07-26T00:00:00\",\"2020-07-28T00:00:00\",\"2020-07-29T00:00:00\",\"2020-07-30T00:00:00\",\"2020-07-31T00:00:00\",\"2020-08-01T00:00:00\",\"2020-08-02T00:00:00\",\"2020-08-03T00:00:00\",\"2020-08-04T00:00:00\",\"2020-08-05T00:00:00\",\"2020-08-06T00:00:00\",\"2020-08-07T00:00:00\",\"2020-08-08T00:00:00\",\"2020-08-10T00:00:00\",\"2020-08-11T00:00:00\",\"2020-08-12T00:00:00\",\"2020-08-13T00:00:00\",\"2020-08-14T00:00:00\",\"2020-08-15T00:00:00\",\"2020-08-16T00:00:00\",\"2020-08-17T00:00:00\",\"2020-08-18T00:00:00\",\"2020-08-19T00:00:00\",\"2020-08-20T00:00:00\",\"2020-08-21T00:00:00\",\"2020-08-22T00:00:00\",\"2020-08-23T00:00:00\",\"2020-08-24T00:00:00\",\"2020-08-25T00:00:00\",\"2020-08-26T00:00:00\",\"2020-08-27T00:00:00\",\"2020-08-28T00:00:00\",\"2020-08-29T00:00:00\",\"2020-08-30T00:00:00\",\"2020-08-31T00:00:00\",\"2020-09-01T00:00:00\",\"2020-09-02T00:00:00\",\"2020-09-03T00:00:00\",\"2020-09-04T00:00:00\",\"2020-09-05T00:00:00\",\"2020-09-07T00:00:00\",\"2020-09-08T00:00:00\",\"2020-09-09T00:00:00\",\"2020-09-10T00:00:00\",\"2020-09-11T00:00:00\",\"2020-09-14T00:00:00\",\"2020-09-15T00:00:00\",\"2020-09-16T00:00:00\",\"2020-09-17T00:00:00\",\"2020-09-18T00:00:00\",\"2020-09-19T00:00:00\",\"2020-09-20T00:00:00\",\"2020-09-21T00:00:00\",\"2020-09-22T00:00:00\",\"2020-09-23T00:00:00\",\"2020-09-24T00:00:00\",\"2020-09-25T00:00:00\",\"2020-09-26T00:00:00\",\"2020-09-27T00:00:00\",\"2020-09-28T00:00:00\",\"2020-09-29T00:00:00\",\"2020-09-30T00:00:00\",\"2020-10-01T00:00:00\",\"2020-10-02T00:00:00\",\"2020-10-03T00:00:00\",\"2020-10-04T00:00:00\",\"2020-10-05T00:00:00\",\"2020-10-06T00:00:00\",\"2020-10-07T00:00:00\",\"2020-10-08T00:00:00\",\"2020-10-09T00:00:00\",\"2020-10-11T00:00:00\",\"2020-10-12T00:00:00\",\"2020-10-13T00:00:00\",\"2020-10-14T00:00:00\",\"2020-10-15T00:00:00\",\"2020-10-16T00:00:00\",\"2020-10-17T00:00:00\",\"2020-10-18T00:00:00\",\"2020-10-19T00:00:00\",\"2020-10-20T00:00:00\",\"2020-10-21T00:00:00\",\"2020-10-22T00:00:00\",\"2020-10-23T00:00:00\",\"2020-10-24T00:00:00\",\"2020-10-25T00:00:00\",\"2020-10-26T00:00:00\",\"2020-10-27T00:00:00\",\"2020-10-28T00:00:00\",\"2020-10-29T00:00:00\",\"2020-10-30T00:00:00\",\"2020-10-31T00:00:00\",\"2020-11-01T00:00:00\",\"2020-11-02T00:00:00\",\"2020-11-03T00:00:00\",\"2020-11-04T00:00:00\",\"2020-11-05T00:00:00\",\"2020-11-06T00:00:00\",\"2020-11-10T00:00:00\",\"2020-11-11T00:00:00\",\"2020-11-12T00:00:00\",\"2020-11-13T00:00:00\",\"2020-11-14T00:00:00\",\"2020-11-15T00:00:00\",\"2020-11-16T00:00:00\",\"2020-11-17T00:00:00\",\"2020-11-18T00:00:00\",\"2020-11-19T00:00:00\",\"2020-11-20T00:00:00\",\"2020-11-22T00:00:00\",\"2020-11-23T00:00:00\",\"2020-11-24T00:00:00\",\"2020-11-25T00:00:00\",\"2020-11-26T00:00:00\",\"2020-11-27T00:00:00\",\"2020-11-29T00:00:00\",\"2020-11-30T00:00:00\",\"2020-12-01T00:00:00\",\"2020-12-02T00:00:00\",\"2020-12-03T00:00:00\",\"2020-12-04T00:00:00\",\"2020-12-05T00:00:00\",\"2020-12-07T00:00:00\",\"2020-12-08T00:00:00\",\"2020-12-09T00:00:00\",\"2020-12-10T00:00:00\",\"2020-12-11T00:00:00\",\"2020-12-12T00:00:00\",\"2020-12-13T00:00:00\",\"2020-12-14T00:00:00\",\"2020-12-15T00:00:00\",\"2020-12-16T00:00:00\",\"2020-12-17T00:00:00\",\"2020-12-18T00:00:00\",\"2020-12-19T00:00:00\",\"2020-12-20T00:00:00\",\"2020-12-21T00:00:00\",\"2020-12-22T00:00:00\",\"2020-12-23T00:00:00\",\"2020-12-24T00:00:00\",\"2020-12-25T00:00:00\",\"2020-12-26T00:00:00\",\"2020-12-27T00:00:00\",\"2020-12-28T00:00:00\",\"2020-12-30T00:00:00\",\"2020-12-31T00:00:00\",\"2021-01-01T00:00:00\",\"2021-01-02T00:00:00\",\"2021-01-03T00:00:00\",\"2021-01-04T00:00:00\",\"2021-01-05T00:00:00\",\"2021-01-06T00:00:00\",\"2021-01-07T00:00:00\",\"2021-01-08T00:00:00\",\"2021-01-10T00:00:00\",\"2021-01-11T00:00:00\",\"2021-01-12T00:00:00\",\"2021-01-13T00:00:00\",\"2021-01-14T00:00:00\",\"2021-01-15T00:00:00\",\"2021-01-16T00:00:00\",\"2021-01-18T00:00:00\",\"2021-01-19T00:00:00\",\"2021-01-20T00:00:00\",\"2021-01-21T00:00:00\",\"2021-01-22T00:00:00\",\"2021-01-26T00:00:00\",\"2021-01-27T00:00:00\",\"2021-01-28T00:00:00\",\"2021-01-29T00:00:00\",\"2021-01-31T00:00:00\",\"2021-02-01T00:00:00\",\"2021-02-02T00:00:00\",\"2021-02-03T00:00:00\",\"2021-02-05T00:00:00\",\"2021-02-06T00:00:00\",\"2021-02-07T00:00:00\",\"2021-02-08T00:00:00\",\"2021-02-09T00:00:00\",\"2021-02-10T00:00:00\",\"2021-02-11T00:00:00\",\"2021-02-12T00:00:00\",\"2021-02-13T00:00:00\",\"2021-02-14T00:00:00\",\"2021-02-15T00:00:00\",\"2021-02-16T00:00:00\",\"2021-02-17T00:00:00\",\"2021-02-18T00:00:00\",\"2021-02-19T00:00:00\",\"2021-02-20T00:00:00\",\"2021-02-21T00:00:00\",\"2021-02-22T00:00:00\",\"2021-02-23T00:00:00\",\"2021-02-24T00:00:00\",\"2021-02-25T00:00:00\",\"2021-02-26T00:00:00\",\"2021-02-28T00:00:00\",\"2021-03-01T00:00:00\",\"2021-03-02T00:00:00\",\"2021-03-03T00:00:00\",\"2021-03-04T00:00:00\",\"2021-03-05T00:00:00\",\"2021-03-06T00:00:00\",\"2021-03-08T00:00:00\",\"2021-03-09T00:00:00\",\"2021-03-10T00:00:00\",\"2021-03-11T00:00:00\",\"2021-03-12T00:00:00\",\"2021-03-14T00:00:00\",\"2021-03-15T00:00:00\",\"2021-03-16T00:00:00\",\"2021-03-17T00:00:00\",\"2021-03-18T00:00:00\",\"2021-03-19T00:00:00\",\"2021-03-20T00:00:00\",\"2021-03-22T00:00:00\",\"2021-03-23T00:00:00\",\"2021-03-24T00:00:00\",\"2021-03-25T00:00:00\",\"2021-03-26T00:00:00\",\"2021-03-28T00:00:00\",\"2021-03-29T00:00:00\",\"2021-03-30T00:00:00\",\"2021-03-31T00:00:00\",\"2021-04-01T00:00:00\",\"2021-04-02T00:00:00\",\"2021-04-03T00:00:00\",\"2021-04-04T00:00:00\",\"2021-04-05T00:00:00\",\"2021-04-06T00:00:00\",\"2021-04-07T00:00:00\",\"2021-04-08T00:00:00\",\"2021-04-09T00:00:00\",\"2021-04-10T00:00:00\",\"2021-04-11T00:00:00\",\"2021-04-12T00:00:00\",\"2021-04-13T00:00:00\",\"2021-04-14T00:00:00\",\"2021-04-15T00:00:00\",\"2021-04-16T00:00:00\",\"2021-04-17T00:00:00\",\"2021-04-19T00:00:00\",\"2021-04-20T00:00:00\",\"2021-04-21T00:00:00\",\"2021-04-22T00:00:00\",\"2021-04-23T00:00:00\",\"2021-04-24T00:00:00\",\"2021-04-27T00:00:00\",\"2021-04-28T00:00:00\",\"2021-04-29T00:00:00\",\"2021-04-30T00:00:00\",\"2021-05-01T00:00:00\",\"2021-05-04T00:00:00\",\"2021-05-05T00:00:00\",\"2021-05-06T00:00:00\",\"2021-05-07T00:00:00\",\"2021-05-08T00:00:00\",\"2021-05-09T00:00:00\",\"2021-05-10T00:00:00\",\"2021-05-11T00:00:00\",\"2021-05-12T00:00:00\",\"2021-05-13T00:00:00\",\"2021-05-14T00:00:00\",\"2021-05-15T00:00:00\",\"2021-05-16T00:00:00\",\"2021-05-18T00:00:00\",\"2021-05-19T00:00:00\",\"2021-05-20T00:00:00\",\"2021-05-21T00:00:00\",\"2021-05-22T00:00:00\",\"2021-05-23T00:00:00\",\"2021-05-24T00:00:00\",\"2021-05-25T00:00:00\",\"2021-05-26T00:00:00\",\"2021-05-27T00:00:00\",\"2021-05-28T00:00:00\",\"2021-05-29T00:00:00\",\"2021-05-30T00:00:00\",\"2021-05-31T00:00:00\",\"2021-06-02T00:00:00\",\"2021-06-03T00:00:00\",\"2021-06-04T00:00:00\",\"2021-06-05T00:00:00\",\"2021-06-06T00:00:00\",\"2021-06-07T00:00:00\",\"2021-06-08T00:00:00\",\"2021-06-09T00:00:00\",\"2021-06-10T00:00:00\",\"2021-06-11T00:00:00\",\"2021-06-12T00:00:00\",\"2021-06-13T00:00:00\",\"2021-06-14T00:00:00\",\"2021-06-15T00:00:00\",\"2021-06-16T00:00:00\",\"2021-06-17T00:00:00\",\"2021-06-18T00:00:00\",\"2021-06-19T00:00:00\",\"2021-06-20T00:00:00\",\"2021-06-21T00:00:00\",\"2021-06-22T00:00:00\",\"2021-06-23T00:00:00\",\"2021-06-24T00:00:00\",\"2021-06-25T00:00:00\",\"2021-06-26T00:00:00\",\"2021-06-28T00:00:00\",\"2021-06-29T00:00:00\",\"2021-06-30T00:00:00\",\"2021-07-01T00:00:00\",\"2021-07-02T00:00:00\",\"2021-07-03T00:00:00\",\"2021-07-04T00:00:00\",\"2021-07-06T00:00:00\",\"2021-07-07T00:00:00\",\"2021-07-08T00:00:00\",\"2021-07-09T00:00:00\",\"2021-07-10T00:00:00\",\"2021-07-12T00:00:00\",\"2021-07-13T00:00:00\",\"2021-07-14T00:00:00\",\"2021-07-15T00:00:00\",\"2021-07-16T00:00:00\",\"2021-07-17T00:00:00\",\"2021-07-19T00:00:00\",\"2021-07-20T00:00:00\",\"2021-07-21T00:00:00\",\"2021-07-22T00:00:00\",\"2021-07-23T00:00:00\",\"2021-07-24T00:00:00\",\"2021-07-26T00:00:00\",\"2021-07-27T00:00:00\",\"2021-07-28T00:00:00\",\"2021-07-29T00:00:00\",\"2021-07-30T00:00:00\",\"2021-07-31T00:00:00\",\"2021-08-01T00:00:00\",\"2021-08-03T00:00:00\",\"2021-08-04T00:00:00\",\"2021-08-05T00:00:00\",\"2021-08-06T00:00:00\",\"2021-08-07T00:00:00\",\"2021-08-08T00:00:00\",\"2021-08-09T00:00:00\",\"2021-08-10T00:00:00\",\"2021-08-11T00:00:00\",\"2021-08-12T00:00:00\",\"2021-08-13T00:00:00\",\"2021-08-15T00:00:00\",\"2021-08-16T00:00:00\",\"2021-08-18T00:00:00\",\"2021-08-19T00:00:00\",\"2021-08-20T00:00:00\",\"2021-08-21T00:00:00\",\"2021-08-23T00:00:00\",\"2021-08-24T00:00:00\",\"2021-08-25T00:00:00\",\"2021-08-26T00:00:00\",\"2021-08-27T00:00:00\",\"2021-08-28T00:00:00\",\"2021-08-29T00:00:00\",\"2021-08-31T00:00:00\",\"2021-09-01T00:00:00\",\"2021-09-02T00:00:00\",\"2021-09-03T00:00:00\",\"2021-09-04T00:00:00\",\"2021-09-05T00:00:00\",\"2021-09-06T00:00:00\",\"2021-09-07T00:00:00\",\"2021-09-08T00:00:00\",\"2021-09-09T00:00:00\",\"2021-09-10T00:00:00\",\"2021-09-11T00:00:00\",\"2021-09-14T00:00:00\",\"2021-09-15T00:00:00\",\"2021-09-16T00:00:00\",\"2021-09-17T00:00:00\",\"2021-09-19T00:00:00\",\"2021-09-20T00:00:00\",\"2021-09-21T00:00:00\",\"2021-09-22T00:00:00\",\"2021-09-23T00:00:00\",\"2021-09-24T00:00:00\",\"2021-09-25T00:00:00\"],\"y\":[1,1,1,1,1,1,1,11,1,1,1,1,1,2,1,2,2,1,1,1,1,1,1,1,1,1,1,1,1,1,1,1,1,1,1,1,1,1,1,1,2,1,1,1,1,1,1,2,2,1,1,1,3,1,1,2,1,1,1,1,1,1,1,1,1,1,1,2,1,1,1,1,1,2,1,1,1,1,1,1,1,2,1,3,1,1,1,1,1,1,2,1,3,1,1,1,1,3,1,1,3,2,1,1,2,33,1,1,2,1,1,4,2,1,3,1,1,1,2,1,1,2,4,1,1,1,1,2,4,1,1,1,7,1,1,1,3,2,1,2,1,1,2,3,1,1,1,1,1,1,2,1,1,8,1,1,1,1,1,3,2,12,1,1,1,1,1,2,4,1,1,1,2,14,1,1,4,1,6,1,2,4,20,2,1,1,1,1,3,5,1,7,1,1,3,1,23,1,4,1,1,1,9,1,2,1,6,1,16,2,3,2,2,2,4,1,4,1,1,2,3,1,20,4,3,1,2,4,4,5,2,1,1,1,1,18,6,2,4,1,4,1,4,2,2,1,2,19,1,1,3,4,2,2,2,3,4,10,2,4,1,1,3,1,1,1,1,3,1,2,19,1,2,1,2,1,3,4,1,1,4,8,2,5,3,1,1,11,2,3,2,1,1,3,22,2,1,1,1,1,4,22,4,8,6,5,2,2,4,1,4,1,3,31,27,2,2,1,5,2,2,1,2,5,12,1,2,2,1,5,6,1,4,1,1,8,25,2,1,5,1,1,1,2,4,1,1,12,2,2,6,7,2,1,5,2,2,1,33,5,3,2,1,2,9,2,6,5,1,1,4,2,2,4,2,1,2,1,1,5,42,1,2,8,1,1,3,3,3,1,3,1,2,1,2,1,3,1,40,1,8,4,2,8,1,1,4,1,2,2,4,8,1,1,4,2,1,6,2,1,4,2,1,1,2,1,38,3,2,4,1,1,21,1,2,2,9,1,5,1,2,2,3,3,1,1,8,2,47,1,2,1,4,1,1,2,6,1,23,7,1,1,1,6,1,7,1,3,2,1,2,1,1,2,33,2,1,1,1,5,7,1,1,1,1,5,1,8,1,4,3,1,5,2,1,26,3,1,1,1,4,3,4,1,25,2,2,5,3,1,2,2,3,3,3,5,1,17,55,3,3,2,2,2,3,1,6,12,3,3,2,3,1,4,3,4,1,6,1,4,4,1,19,4,1,4,3,1,5,1,3,13,5,1,5,4,3,1,5,1,1,3,2,2,75,4,1,1,6,2,2,4,2,2,2,3,1,23,5,1,3,1,8,2,1,2,1,1,10,10,44,2,3,3,2,10,1,2,1,1,5,1,6,2,3,1,3,5,2,3,2,9,4,42,1,1,10,3,1,3,6,1,1,6,2,1,3,2,2,1,5,2,1,1,1,1,13,2,2,1,3,4,2,1,10,4,2,1,6,6,1,2,3,1,1,8,5,40,2,4,1,1,6,1,2,1,6,3,14,1,3,7,12,2,2,1,3,8,11,6,6,1,5,3,37,25,4,4,1,2,2,7,1,6,22,5,3,3,1,5,2,10,4,1,2,4,2,1,10,22,3,1,2,7,2,9,2,1,3,2,2,11,15,3,1,1,2,3,6,2,1,1,1,1,11,2,7,71,17,3,4,9,2,2,3,4,4,11,1,4,2,2,1,18,2,1,1,4,1,4,8,2,1,1,5,3,60,6,2,2,3,6,9,3,1,3,15,7,3,1,7,2,2,3,2,3,1,13,29,3,3,3,1,1,10,5,1,4,2,2,11,17,9,3,2,1,7,13,5,4,2,2,1,1,10,2,4,27,37,2,2,5,7,2,1,5,3,9,3,3,2,15,2,13,1,1,3,7,2,2,6,6,6,8,41,6,1,6,2,2,7,3,1,2,1,4,24,3,2,2,2,2,11,1,3,3,1,15,3,30,10,2,6,5,2,6,12,2,1,2,3,3,6,22,1,2,1,3,6,9,9,3,1,2,1,2,1,14,2,3,28,4,4,1,15,1,2,2,2,4,2,9,2,2,10,6,5,6,14,3,1,1,1,2,7,12,1,1,4,10,16,7,10,1,4,6,9,7,11,4,2,1,4,7,4,11,2,1,2,2,2,1,7,2,2,2,2,3,7,18,4,2,4,6,16,12,3,1,1,2,9,10,11,2,8,5,9,14,2,1,1,2,5,3,11,2,4,52,3,2,4,2,2,1,1,2,2,21,1,5,6,3,3,5,2,8,4,2,1,1,14,3,4,3,26,7,1,5,6,3,13,8,1,5,2,5,14,3,6,7,2,1,1,1,1,4,8,1,31,3,1,5,1,4,1,3,12,2,9,1,6,2,2,10,4,1,2,2,8,3,5,3,2,62,12,2,10,3,1,1,2,3,3,8,2,1,3,7,2,22,3,1,6,4,3,16,2,1,2,3,4,4,91,14,9,7,3,1,5,1,4,2,1,3,24,4,1,2,30,2,11,5,3,2,5,5,6,11,3,27,1,5,3,3,16,2,1,2,2,1,1,8,29,3,1,2,3,7,2,2,4,6,3,5,1,1,74,110,3,3,1,2,1,2,11,1,2,2,3,8,9,5,1,3,2,3,6,6,1,2,2,4,4,8,15,3,4,4,3,9,2,3,1,3,3,5,10,3,6,2,3,9,2,2,2,8,6,6,17,1,8,4,5,8,1,2,6,9,1,7,1,3,5,4,12,1,1,2,1,4,6,12,1,2,13,43,2,4,2,2,2,2,2,2,8,2,4,2,12,8,8,3,4,3,7,6,6,11,2,3,12,8,7,24,11,1,2,1,3,5,6,1,5,3,2,8,15,2,3,2,13,8,12,5,3,1,5,1,1,9,4,1,24,11,3,3,9,3,3,1,7,2,15,5,4,2,2,15,12,1,2,3,2,4,3,10,2,3,1,4,21,3,9,1,29,2,2,4,3,8,1,3,7,3,5,3,1,3,4,3,8,3,2,1,6,4,7,21,2,1,4,3,3,10,3,4,2,3,6,10,4,3,3,2,3,5,8,2,1,1,2,5,6,5,1,2,4,26,5,4,6,3,5,4,6,15,9,1,10,9,7,5,6,8,1,2,2,2,6,2,1,11,3,9,33,11,4,1,1,5,2,5,6,1,6,3,3,11,8,1,3,16,3,3,7,7,2,1,1,4,5,1,10,3,33,2,4,4,7,9,2,6,8,8,1,9,2,4,1,11,8,2,4,7,4,4,9,1,4,28,6,5,9,2,5,8,7,6,6,2,1,3,7,11,9,10,1,2,2,8,3,3,4,3,2,3,7,6,49,2,1,3,3,3,3,11,1,2,3,2,2,13,3,1,1,4,2,6,4,6,1,4,2,13,2,5,10,1,1,2,1,3,8,7,1,1,3,4,4,5,5,4,3,1,4,6,4,10,1,11,3,2,4,7,1,2,1,3,3,12,1,6,4,3,8,6,4,1,3,1,4,11,2,1,3,5,32,11,1,2,2,1,4,2,6,1,1,2,9,15,18,15,8,4,7,3,5,20,2,5,3,2,7,33,4,3,2,9,2,2,1,3,4,4,14,3,1,2,5,7,8,1,1,1,2,5,7,5,1,1,1,51,8,9,3,1,1,1,5,6,7,4,3,1,12,9,11,10,24,1,4,5,5,5,4,2,4,1,10,60,9,1,1,39,13,6,12,3,1,4,6,11,14,1,1,3,4,25,11,1,2,8,5,3,10,3,38,10,7,5,5,2,2,1,5,6,3,7,5,2,11,2,8,1,5,3,12,2,27,4,2,3,56,14,5,1,2,3,6,4,4,8,3,6,22,12,7,2,1,5,9,2,10,1],\"type\":\"scatter\"}],                        {\"title\":{\"text\":\"Netflix releases over time\",\"x\":0.5},\"xaxis\":{\"rangeslider\":{\"visible\":true},\"title\":{\"text\":\"Date when show was added to the platform\"}},\"yaxis\":{\"title\":{\"text\":\"Number of releases\"}},\"template\":{\"data\":{\"histogram2dcontour\":[{\"type\":\"histogram2dcontour\",\"colorbar\":{\"outlinewidth\":0,\"ticks\":\"\"},\"colorscale\":[[0.0,\"#0d0887\"],[0.1111111111111111,\"#46039f\"],[0.2222222222222222,\"#7201a8\"],[0.3333333333333333,\"#9c179e\"],[0.4444444444444444,\"#bd3786\"],[0.5555555555555556,\"#d8576b\"],[0.6666666666666666,\"#ed7953\"],[0.7777777777777778,\"#fb9f3a\"],[0.8888888888888888,\"#fdca26\"],[1.0,\"#f0f921\"]]}],\"choropleth\":[{\"type\":\"choropleth\",\"colorbar\":{\"outlinewidth\":0,\"ticks\":\"\"}}],\"histogram2d\":[{\"type\":\"histogram2d\",\"colorbar\":{\"outlinewidth\":0,\"ticks\":\"\"},\"colorscale\":[[0.0,\"#0d0887\"],[0.1111111111111111,\"#46039f\"],[0.2222222222222222,\"#7201a8\"],[0.3333333333333333,\"#9c179e\"],[0.4444444444444444,\"#bd3786\"],[0.5555555555555556,\"#d8576b\"],[0.6666666666666666,\"#ed7953\"],[0.7777777777777778,\"#fb9f3a\"],[0.8888888888888888,\"#fdca26\"],[1.0,\"#f0f921\"]]}],\"heatmap\":[{\"type\":\"heatmap\",\"colorbar\":{\"outlinewidth\":0,\"ticks\":\"\"},\"colorscale\":[[0.0,\"#0d0887\"],[0.1111111111111111,\"#46039f\"],[0.2222222222222222,\"#7201a8\"],[0.3333333333333333,\"#9c179e\"],[0.4444444444444444,\"#bd3786\"],[0.5555555555555556,\"#d8576b\"],[0.6666666666666666,\"#ed7953\"],[0.7777777777777778,\"#fb9f3a\"],[0.8888888888888888,\"#fdca26\"],[1.0,\"#f0f921\"]]}],\"heatmapgl\":[{\"type\":\"heatmapgl\",\"colorbar\":{\"outlinewidth\":0,\"ticks\":\"\"},\"colorscale\":[[0.0,\"#0d0887\"],[0.1111111111111111,\"#46039f\"],[0.2222222222222222,\"#7201a8\"],[0.3333333333333333,\"#9c179e\"],[0.4444444444444444,\"#bd3786\"],[0.5555555555555556,\"#d8576b\"],[0.6666666666666666,\"#ed7953\"],[0.7777777777777778,\"#fb9f3a\"],[0.8888888888888888,\"#fdca26\"],[1.0,\"#f0f921\"]]}],\"contourcarpet\":[{\"type\":\"contourcarpet\",\"colorbar\":{\"outlinewidth\":0,\"ticks\":\"\"}}],\"contour\":[{\"type\":\"contour\",\"colorbar\":{\"outlinewidth\":0,\"ticks\":\"\"},\"colorscale\":[[0.0,\"#0d0887\"],[0.1111111111111111,\"#46039f\"],[0.2222222222222222,\"#7201a8\"],[0.3333333333333333,\"#9c179e\"],[0.4444444444444444,\"#bd3786\"],[0.5555555555555556,\"#d8576b\"],[0.6666666666666666,\"#ed7953\"],[0.7777777777777778,\"#fb9f3a\"],[0.8888888888888888,\"#fdca26\"],[1.0,\"#f0f921\"]]}],\"surface\":[{\"type\":\"surface\",\"colorbar\":{\"outlinewidth\":0,\"ticks\":\"\"},\"colorscale\":[[0.0,\"#0d0887\"],[0.1111111111111111,\"#46039f\"],[0.2222222222222222,\"#7201a8\"],[0.3333333333333333,\"#9c179e\"],[0.4444444444444444,\"#bd3786\"],[0.5555555555555556,\"#d8576b\"],[0.6666666666666666,\"#ed7953\"],[0.7777777777777778,\"#fb9f3a\"],[0.8888888888888888,\"#fdca26\"],[1.0,\"#f0f921\"]]}],\"mesh3d\":[{\"type\":\"mesh3d\",\"colorbar\":{\"outlinewidth\":0,\"ticks\":\"\"}}],\"scatter\":[{\"fillpattern\":{\"fillmode\":\"overlay\",\"size\":10,\"solidity\":0.2},\"type\":\"scatter\"}],\"parcoords\":[{\"type\":\"parcoords\",\"line\":{\"colorbar\":{\"outlinewidth\":0,\"ticks\":\"\"}}}],\"scatterpolargl\":[{\"type\":\"scatterpolargl\",\"marker\":{\"colorbar\":{\"outlinewidth\":0,\"ticks\":\"\"}}}],\"bar\":[{\"error_x\":{\"color\":\"#2a3f5f\"},\"error_y\":{\"color\":\"#2a3f5f\"},\"marker\":{\"line\":{\"color\":\"#E5ECF6\",\"width\":0.5},\"pattern\":{\"fillmode\":\"overlay\",\"size\":10,\"solidity\":0.2}},\"type\":\"bar\"}],\"scattergeo\":[{\"type\":\"scattergeo\",\"marker\":{\"colorbar\":{\"outlinewidth\":0,\"ticks\":\"\"}}}],\"scatterpolar\":[{\"type\":\"scatterpolar\",\"marker\":{\"colorbar\":{\"outlinewidth\":0,\"ticks\":\"\"}}}],\"histogram\":[{\"marker\":{\"pattern\":{\"fillmode\":\"overlay\",\"size\":10,\"solidity\":0.2}},\"type\":\"histogram\"}],\"scattergl\":[{\"type\":\"scattergl\",\"marker\":{\"colorbar\":{\"outlinewidth\":0,\"ticks\":\"\"}}}],\"scatter3d\":[{\"type\":\"scatter3d\",\"line\":{\"colorbar\":{\"outlinewidth\":0,\"ticks\":\"\"}},\"marker\":{\"colorbar\":{\"outlinewidth\":0,\"ticks\":\"\"}}}],\"scattermapbox\":[{\"type\":\"scattermapbox\",\"marker\":{\"colorbar\":{\"outlinewidth\":0,\"ticks\":\"\"}}}],\"scatterternary\":[{\"type\":\"scatterternary\",\"marker\":{\"colorbar\":{\"outlinewidth\":0,\"ticks\":\"\"}}}],\"scattercarpet\":[{\"type\":\"scattercarpet\",\"marker\":{\"colorbar\":{\"outlinewidth\":0,\"ticks\":\"\"}}}],\"carpet\":[{\"aaxis\":{\"endlinecolor\":\"#2a3f5f\",\"gridcolor\":\"white\",\"linecolor\":\"white\",\"minorgridcolor\":\"white\",\"startlinecolor\":\"#2a3f5f\"},\"baxis\":{\"endlinecolor\":\"#2a3f5f\",\"gridcolor\":\"white\",\"linecolor\":\"white\",\"minorgridcolor\":\"white\",\"startlinecolor\":\"#2a3f5f\"},\"type\":\"carpet\"}],\"table\":[{\"cells\":{\"fill\":{\"color\":\"#EBF0F8\"},\"line\":{\"color\":\"white\"}},\"header\":{\"fill\":{\"color\":\"#C8D4E3\"},\"line\":{\"color\":\"white\"}},\"type\":\"table\"}],\"barpolar\":[{\"marker\":{\"line\":{\"color\":\"#E5ECF6\",\"width\":0.5},\"pattern\":{\"fillmode\":\"overlay\",\"size\":10,\"solidity\":0.2}},\"type\":\"barpolar\"}],\"pie\":[{\"automargin\":true,\"type\":\"pie\"}]},\"layout\":{\"autotypenumbers\":\"strict\",\"colorway\":[\"#636efa\",\"#EF553B\",\"#00cc96\",\"#ab63fa\",\"#FFA15A\",\"#19d3f3\",\"#FF6692\",\"#B6E880\",\"#FF97FF\",\"#FECB52\"],\"font\":{\"color\":\"#2a3f5f\"},\"hovermode\":\"closest\",\"hoverlabel\":{\"align\":\"left\"},\"paper_bgcolor\":\"white\",\"plot_bgcolor\":\"#E5ECF6\",\"polar\":{\"bgcolor\":\"#E5ECF6\",\"angularaxis\":{\"gridcolor\":\"white\",\"linecolor\":\"white\",\"ticks\":\"\"},\"radialaxis\":{\"gridcolor\":\"white\",\"linecolor\":\"white\",\"ticks\":\"\"}},\"ternary\":{\"bgcolor\":\"#E5ECF6\",\"aaxis\":{\"gridcolor\":\"white\",\"linecolor\":\"white\",\"ticks\":\"\"},\"baxis\":{\"gridcolor\":\"white\",\"linecolor\":\"white\",\"ticks\":\"\"},\"caxis\":{\"gridcolor\":\"white\",\"linecolor\":\"white\",\"ticks\":\"\"}},\"coloraxis\":{\"colorbar\":{\"outlinewidth\":0,\"ticks\":\"\"}},\"colorscale\":{\"sequential\":[[0.0,\"#0d0887\"],[0.1111111111111111,\"#46039f\"],[0.2222222222222222,\"#7201a8\"],[0.3333333333333333,\"#9c179e\"],[0.4444444444444444,\"#bd3786\"],[0.5555555555555556,\"#d8576b\"],[0.6666666666666666,\"#ed7953\"],[0.7777777777777778,\"#fb9f3a\"],[0.8888888888888888,\"#fdca26\"],[1.0,\"#f0f921\"]],\"sequentialminus\":[[0.0,\"#0d0887\"],[0.1111111111111111,\"#46039f\"],[0.2222222222222222,\"#7201a8\"],[0.3333333333333333,\"#9c179e\"],[0.4444444444444444,\"#bd3786\"],[0.5555555555555556,\"#d8576b\"],[0.6666666666666666,\"#ed7953\"],[0.7777777777777778,\"#fb9f3a\"],[0.8888888888888888,\"#fdca26\"],[1.0,\"#f0f921\"]],\"diverging\":[[0,\"#8e0152\"],[0.1,\"#c51b7d\"],[0.2,\"#de77ae\"],[0.3,\"#f1b6da\"],[0.4,\"#fde0ef\"],[0.5,\"#f7f7f7\"],[0.6,\"#e6f5d0\"],[0.7,\"#b8e186\"],[0.8,\"#7fbc41\"],[0.9,\"#4d9221\"],[1,\"#276419\"]]},\"xaxis\":{\"gridcolor\":\"white\",\"linecolor\":\"white\",\"ticks\":\"\",\"title\":{\"standoff\":15},\"zerolinecolor\":\"white\",\"automargin\":true,\"zerolinewidth\":2},\"yaxis\":{\"gridcolor\":\"white\",\"linecolor\":\"white\",\"ticks\":\"\",\"title\":{\"standoff\":15},\"zerolinecolor\":\"white\",\"automargin\":true,\"zerolinewidth\":2},\"scene\":{\"xaxis\":{\"backgroundcolor\":\"#E5ECF6\",\"gridcolor\":\"white\",\"linecolor\":\"white\",\"showbackground\":true,\"ticks\":\"\",\"zerolinecolor\":\"white\",\"gridwidth\":2},\"yaxis\":{\"backgroundcolor\":\"#E5ECF6\",\"gridcolor\":\"white\",\"linecolor\":\"white\",\"showbackground\":true,\"ticks\":\"\",\"zerolinecolor\":\"white\",\"gridwidth\":2},\"zaxis\":{\"backgroundcolor\":\"#E5ECF6\",\"gridcolor\":\"white\",\"linecolor\":\"white\",\"showbackground\":true,\"ticks\":\"\",\"zerolinecolor\":\"white\",\"gridwidth\":2}},\"shapedefaults\":{\"line\":{\"color\":\"#2a3f5f\"}},\"annotationdefaults\":{\"arrowcolor\":\"#2a3f5f\",\"arrowhead\":0,\"arrowwidth\":1},\"geo\":{\"bgcolor\":\"white\",\"landcolor\":\"#E5ECF6\",\"subunitcolor\":\"white\",\"showland\":true,\"showlakes\":true,\"lakecolor\":\"white\"},\"title\":{\"x\":0.05},\"mapbox\":{\"style\":\"light\"}}}},                        {\"responsive\": true}                    ).then(function(){\n",
       "                            \n",
       "var gd = document.getElementById('f154e9dc-144d-4014-a1a9-34f4cb20c286');\n",
       "var x = new MutationObserver(function (mutations, observer) {{\n",
       "        var display = window.getComputedStyle(gd).display;\n",
       "        if (!display || display === 'none') {{\n",
       "            console.log([gd, 'removed!']);\n",
       "            Plotly.purge(gd);\n",
       "            observer.disconnect();\n",
       "        }}\n",
       "}});\n",
       "\n",
       "// Listen for the removal of the full notebook cells\n",
       "var notebookContainer = gd.closest('#notebook-container');\n",
       "if (notebookContainer) {{\n",
       "    x.observe(notebookContainer, {childList: true});\n",
       "}}\n",
       "\n",
       "// Listen for the clearing of the current output cell\n",
       "var outputEl = gd.closest('.output');\n",
       "if (outputEl) {{\n",
       "    x.observe(outputEl, {childList: true});\n",
       "}}\n",
       "\n",
       "                        })                };                });            </script>        </div>"
      ]
     },
     "metadata": {},
     "output_type": "display_data"
    }
   ],
   "source": [
    "# Plot a line graph with the number of releases over time\n",
    "fig = go.Figure(\n",
    "    data = go.Scatter(\n",
    "        x = releases_over_time['date_added'], \n",
    "        y = releases_over_time['num_releases']\n",
    "       ),\n",
    "    layout = go.Layout(\n",
    "        title = go.layout.Title(text = \"Netflix releases over time\", x = 0.5),\n",
    "        xaxis = go.layout.XAxis(title = 'Date when show was added to the platform', rangeslider = go.layout.xaxis.Rangeslider(visible = True)),\n",
    "        yaxis = go.layout.YAxis(title = 'Number of releases')\n",
    "    )\n",
    ")\n",
    "\n",
    "fig.show(renderer=\"notebook_connected\")"
   ]
  },
  {
   "cell_type": "markdown",
   "metadata": {},
   "source": [
    "Observations:\n",
    "- It looks like most releases happen the first of each month. \n",
    "- We have data starting from 2008 and we can see that the number of shows added to the platform started to grow significantly from 2016 onwards, which corresponds to the time when Netflix expanded to 130 new countries to reach a total of 190 countries. (source: https://about.netflix.com/en). According to the history of Netflix, they started their streaming service in 2007.\n",
    "- We will look further into seasonality by looking at number of releases per year, month, day of month and day of week."
   ]
  },
  {
   "cell_type": "code",
   "execution_count": 36,
   "metadata": {},
   "outputs": [
    {
     "data": {
      "text/html": [
       "<div>\n",
       "<style scoped>\n",
       "    .dataframe tbody tr th:only-of-type {\n",
       "        vertical-align: middle;\n",
       "    }\n",
       "\n",
       "    .dataframe tbody tr th {\n",
       "        vertical-align: top;\n",
       "    }\n",
       "\n",
       "    .dataframe thead th {\n",
       "        text-align: right;\n",
       "    }\n",
       "</style>\n",
       "<table border=\"1\" class=\"dataframe\">\n",
       "  <thead>\n",
       "    <tr style=\"text-align: right;\">\n",
       "      <th></th>\n",
       "      <th>date_added</th>\n",
       "      <th>num_releases</th>\n",
       "      <th>year</th>\n",
       "      <th>month</th>\n",
       "      <th>day</th>\n",
       "      <th>day_of_week</th>\n",
       "    </tr>\n",
       "  </thead>\n",
       "  <tbody>\n",
       "    <tr>\n",
       "      <th>1420</th>\n",
       "      <td>2008-01-01</td>\n",
       "      <td>1</td>\n",
       "      <td>2008</td>\n",
       "      <td>January</td>\n",
       "      <td>1</td>\n",
       "      <td>Tuesday</td>\n",
       "    </tr>\n",
       "    <tr>\n",
       "      <th>1381</th>\n",
       "      <td>2008-02-04</td>\n",
       "      <td>1</td>\n",
       "      <td>2008</td>\n",
       "      <td>February</td>\n",
       "      <td>4</td>\n",
       "      <td>Monday</td>\n",
       "    </tr>\n",
       "    <tr>\n",
       "      <th>1331</th>\n",
       "      <td>2009-05-05</td>\n",
       "      <td>1</td>\n",
       "      <td>2009</td>\n",
       "      <td>May</td>\n",
       "      <td>5</td>\n",
       "      <td>Tuesday</td>\n",
       "    </tr>\n",
       "    <tr>\n",
       "      <th>1422</th>\n",
       "      <td>2009-11-18</td>\n",
       "      <td>1</td>\n",
       "      <td>2009</td>\n",
       "      <td>November</td>\n",
       "      <td>18</td>\n",
       "      <td>Wednesday</td>\n",
       "    </tr>\n",
       "    <tr>\n",
       "      <th>1330</th>\n",
       "      <td>2010-11-01</td>\n",
       "      <td>1</td>\n",
       "      <td>2010</td>\n",
       "      <td>November</td>\n",
       "      <td>1</td>\n",
       "      <td>Monday</td>\n",
       "    </tr>\n",
       "  </tbody>\n",
       "</table>\n",
       "</div>"
      ],
      "text/plain": [
       "     date_added  num_releases  year     month  day day_of_week\n",
       "1420 2008-01-01             1  2008   January    1     Tuesday\n",
       "1381 2008-02-04             1  2008  February    4      Monday\n",
       "1331 2009-05-05             1  2009       May    5     Tuesday\n",
       "1422 2009-11-18             1  2009  November   18   Wednesday\n",
       "1330 2010-11-01             1  2010  November    1      Monday"
      ]
     },
     "execution_count": 36,
     "metadata": {},
     "output_type": "execute_result"
    }
   ],
   "source": [
    "# Data processing\n",
    "releases_over_time['year'] = releases_over_time['date_added'].dt.year.astype('Int64') # converting to integer as the default is float due to na values\n",
    "releases_over_time['month'] = releases_over_time['date_added'].dt.month_name() # getting the month name\n",
    "releases_over_time['day']  = releases_over_time['date_added'].dt.day.astype('Int64') # converting to integer as the default is float due to na values\n",
    "releases_over_time['day_of_week'] = releases_over_time['date_added'].dt.day_name() # getting the day of week name\n",
    "releases_over_time.head()"
   ]
  },
  {
   "cell_type": "markdown",
   "metadata": {},
   "source": [
    "### 4.1. Seasonality per year"
   ]
  },
  {
   "cell_type": "code",
   "execution_count": 45,
   "metadata": {},
   "outputs": [
    {
     "data": {
      "application/vnd.plotly.v1+json": {
       "config": {
        "plotlyServerURL": "https://plot.ly"
       },
       "data": [
        {
         "hovertemplate": "year=%{text}<br>num_releases=%{y}<extra></extra>",
         "legendgroup": "",
         "line": {
          "color": "#636efa",
          "dash": "solid"
         },
         "marker": {
          "symbol": "circle"
         },
         "mode": "text+lines+markers",
         "name": "",
         "orientation": "v",
         "showlegend": false,
         "text": [
          2008,
          2009,
          2010,
          2011,
          2012,
          2013,
          2014,
          2015,
          2016,
          2017,
          2018,
          2019,
          2020,
          2021
         ],
         "textposition": "bottom right",
         "type": "scatter",
         "x": [
          2008,
          2009,
          2010,
          2011,
          2012,
          2013,
          2014,
          2015,
          2016,
          2017,
          2018,
          2019,
          2020,
          2021
         ],
         "xaxis": "x",
         "y": [
          2,
          2,
          1,
          13,
          3,
          11,
          24,
          82,
          429,
          1188,
          1649,
          2016,
          1879,
          1498
         ],
         "yaxis": "y"
        }
       ],
       "layout": {
        "autosize": false,
        "legend": {
         "tracegroupgap": 0
        },
        "template": {
         "data": {
          "bar": [
           {
            "error_x": {
             "color": "#2a3f5f"
            },
            "error_y": {
             "color": "#2a3f5f"
            },
            "marker": {
             "line": {
              "color": "#E5ECF6",
              "width": 0.5
             },
             "pattern": {
              "fillmode": "overlay",
              "size": 10,
              "solidity": 0.2
             }
            },
            "type": "bar"
           }
          ],
          "barpolar": [
           {
            "marker": {
             "line": {
              "color": "#E5ECF6",
              "width": 0.5
             },
             "pattern": {
              "fillmode": "overlay",
              "size": 10,
              "solidity": 0.2
             }
            },
            "type": "barpolar"
           }
          ],
          "carpet": [
           {
            "aaxis": {
             "endlinecolor": "#2a3f5f",
             "gridcolor": "white",
             "linecolor": "white",
             "minorgridcolor": "white",
             "startlinecolor": "#2a3f5f"
            },
            "baxis": {
             "endlinecolor": "#2a3f5f",
             "gridcolor": "white",
             "linecolor": "white",
             "minorgridcolor": "white",
             "startlinecolor": "#2a3f5f"
            },
            "type": "carpet"
           }
          ],
          "choropleth": [
           {
            "colorbar": {
             "outlinewidth": 0,
             "ticks": ""
            },
            "type": "choropleth"
           }
          ],
          "contour": [
           {
            "colorbar": {
             "outlinewidth": 0,
             "ticks": ""
            },
            "colorscale": [
             [
              0,
              "#0d0887"
             ],
             [
              0.1111111111111111,
              "#46039f"
             ],
             [
              0.2222222222222222,
              "#7201a8"
             ],
             [
              0.3333333333333333,
              "#9c179e"
             ],
             [
              0.4444444444444444,
              "#bd3786"
             ],
             [
              0.5555555555555556,
              "#d8576b"
             ],
             [
              0.6666666666666666,
              "#ed7953"
             ],
             [
              0.7777777777777778,
              "#fb9f3a"
             ],
             [
              0.8888888888888888,
              "#fdca26"
             ],
             [
              1,
              "#f0f921"
             ]
            ],
            "type": "contour"
           }
          ],
          "contourcarpet": [
           {
            "colorbar": {
             "outlinewidth": 0,
             "ticks": ""
            },
            "type": "contourcarpet"
           }
          ],
          "heatmap": [
           {
            "colorbar": {
             "outlinewidth": 0,
             "ticks": ""
            },
            "colorscale": [
             [
              0,
              "#0d0887"
             ],
             [
              0.1111111111111111,
              "#46039f"
             ],
             [
              0.2222222222222222,
              "#7201a8"
             ],
             [
              0.3333333333333333,
              "#9c179e"
             ],
             [
              0.4444444444444444,
              "#bd3786"
             ],
             [
              0.5555555555555556,
              "#d8576b"
             ],
             [
              0.6666666666666666,
              "#ed7953"
             ],
             [
              0.7777777777777778,
              "#fb9f3a"
             ],
             [
              0.8888888888888888,
              "#fdca26"
             ],
             [
              1,
              "#f0f921"
             ]
            ],
            "type": "heatmap"
           }
          ],
          "heatmapgl": [
           {
            "colorbar": {
             "outlinewidth": 0,
             "ticks": ""
            },
            "colorscale": [
             [
              0,
              "#0d0887"
             ],
             [
              0.1111111111111111,
              "#46039f"
             ],
             [
              0.2222222222222222,
              "#7201a8"
             ],
             [
              0.3333333333333333,
              "#9c179e"
             ],
             [
              0.4444444444444444,
              "#bd3786"
             ],
             [
              0.5555555555555556,
              "#d8576b"
             ],
             [
              0.6666666666666666,
              "#ed7953"
             ],
             [
              0.7777777777777778,
              "#fb9f3a"
             ],
             [
              0.8888888888888888,
              "#fdca26"
             ],
             [
              1,
              "#f0f921"
             ]
            ],
            "type": "heatmapgl"
           }
          ],
          "histogram": [
           {
            "marker": {
             "pattern": {
              "fillmode": "overlay",
              "size": 10,
              "solidity": 0.2
             }
            },
            "type": "histogram"
           }
          ],
          "histogram2d": [
           {
            "colorbar": {
             "outlinewidth": 0,
             "ticks": ""
            },
            "colorscale": [
             [
              0,
              "#0d0887"
             ],
             [
              0.1111111111111111,
              "#46039f"
             ],
             [
              0.2222222222222222,
              "#7201a8"
             ],
             [
              0.3333333333333333,
              "#9c179e"
             ],
             [
              0.4444444444444444,
              "#bd3786"
             ],
             [
              0.5555555555555556,
              "#d8576b"
             ],
             [
              0.6666666666666666,
              "#ed7953"
             ],
             [
              0.7777777777777778,
              "#fb9f3a"
             ],
             [
              0.8888888888888888,
              "#fdca26"
             ],
             [
              1,
              "#f0f921"
             ]
            ],
            "type": "histogram2d"
           }
          ],
          "histogram2dcontour": [
           {
            "colorbar": {
             "outlinewidth": 0,
             "ticks": ""
            },
            "colorscale": [
             [
              0,
              "#0d0887"
             ],
             [
              0.1111111111111111,
              "#46039f"
             ],
             [
              0.2222222222222222,
              "#7201a8"
             ],
             [
              0.3333333333333333,
              "#9c179e"
             ],
             [
              0.4444444444444444,
              "#bd3786"
             ],
             [
              0.5555555555555556,
              "#d8576b"
             ],
             [
              0.6666666666666666,
              "#ed7953"
             ],
             [
              0.7777777777777778,
              "#fb9f3a"
             ],
             [
              0.8888888888888888,
              "#fdca26"
             ],
             [
              1,
              "#f0f921"
             ]
            ],
            "type": "histogram2dcontour"
           }
          ],
          "mesh3d": [
           {
            "colorbar": {
             "outlinewidth": 0,
             "ticks": ""
            },
            "type": "mesh3d"
           }
          ],
          "parcoords": [
           {
            "line": {
             "colorbar": {
              "outlinewidth": 0,
              "ticks": ""
             }
            },
            "type": "parcoords"
           }
          ],
          "pie": [
           {
            "automargin": true,
            "type": "pie"
           }
          ],
          "scatter": [
           {
            "fillpattern": {
             "fillmode": "overlay",
             "size": 10,
             "solidity": 0.2
            },
            "type": "scatter"
           }
          ],
          "scatter3d": [
           {
            "line": {
             "colorbar": {
              "outlinewidth": 0,
              "ticks": ""
             }
            },
            "marker": {
             "colorbar": {
              "outlinewidth": 0,
              "ticks": ""
             }
            },
            "type": "scatter3d"
           }
          ],
          "scattercarpet": [
           {
            "marker": {
             "colorbar": {
              "outlinewidth": 0,
              "ticks": ""
             }
            },
            "type": "scattercarpet"
           }
          ],
          "scattergeo": [
           {
            "marker": {
             "colorbar": {
              "outlinewidth": 0,
              "ticks": ""
             }
            },
            "type": "scattergeo"
           }
          ],
          "scattergl": [
           {
            "marker": {
             "colorbar": {
              "outlinewidth": 0,
              "ticks": ""
             }
            },
            "type": "scattergl"
           }
          ],
          "scattermapbox": [
           {
            "marker": {
             "colorbar": {
              "outlinewidth": 0,
              "ticks": ""
             }
            },
            "type": "scattermapbox"
           }
          ],
          "scatterpolar": [
           {
            "marker": {
             "colorbar": {
              "outlinewidth": 0,
              "ticks": ""
             }
            },
            "type": "scatterpolar"
           }
          ],
          "scatterpolargl": [
           {
            "marker": {
             "colorbar": {
              "outlinewidth": 0,
              "ticks": ""
             }
            },
            "type": "scatterpolargl"
           }
          ],
          "scatterternary": [
           {
            "marker": {
             "colorbar": {
              "outlinewidth": 0,
              "ticks": ""
             }
            },
            "type": "scatterternary"
           }
          ],
          "surface": [
           {
            "colorbar": {
             "outlinewidth": 0,
             "ticks": ""
            },
            "colorscale": [
             [
              0,
              "#0d0887"
             ],
             [
              0.1111111111111111,
              "#46039f"
             ],
             [
              0.2222222222222222,
              "#7201a8"
             ],
             [
              0.3333333333333333,
              "#9c179e"
             ],
             [
              0.4444444444444444,
              "#bd3786"
             ],
             [
              0.5555555555555556,
              "#d8576b"
             ],
             [
              0.6666666666666666,
              "#ed7953"
             ],
             [
              0.7777777777777778,
              "#fb9f3a"
             ],
             [
              0.8888888888888888,
              "#fdca26"
             ],
             [
              1,
              "#f0f921"
             ]
            ],
            "type": "surface"
           }
          ],
          "table": [
           {
            "cells": {
             "fill": {
              "color": "#EBF0F8"
             },
             "line": {
              "color": "white"
             }
            },
            "header": {
             "fill": {
              "color": "#C8D4E3"
             },
             "line": {
              "color": "white"
             }
            },
            "type": "table"
           }
          ]
         },
         "layout": {
          "annotationdefaults": {
           "arrowcolor": "#2a3f5f",
           "arrowhead": 0,
           "arrowwidth": 1
          },
          "autotypenumbers": "strict",
          "coloraxis": {
           "colorbar": {
            "outlinewidth": 0,
            "ticks": ""
           }
          },
          "colorscale": {
           "diverging": [
            [
             0,
             "#8e0152"
            ],
            [
             0.1,
             "#c51b7d"
            ],
            [
             0.2,
             "#de77ae"
            ],
            [
             0.3,
             "#f1b6da"
            ],
            [
             0.4,
             "#fde0ef"
            ],
            [
             0.5,
             "#f7f7f7"
            ],
            [
             0.6,
             "#e6f5d0"
            ],
            [
             0.7,
             "#b8e186"
            ],
            [
             0.8,
             "#7fbc41"
            ],
            [
             0.9,
             "#4d9221"
            ],
            [
             1,
             "#276419"
            ]
           ],
           "sequential": [
            [
             0,
             "#0d0887"
            ],
            [
             0.1111111111111111,
             "#46039f"
            ],
            [
             0.2222222222222222,
             "#7201a8"
            ],
            [
             0.3333333333333333,
             "#9c179e"
            ],
            [
             0.4444444444444444,
             "#bd3786"
            ],
            [
             0.5555555555555556,
             "#d8576b"
            ],
            [
             0.6666666666666666,
             "#ed7953"
            ],
            [
             0.7777777777777778,
             "#fb9f3a"
            ],
            [
             0.8888888888888888,
             "#fdca26"
            ],
            [
             1,
             "#f0f921"
            ]
           ],
           "sequentialminus": [
            [
             0,
             "#0d0887"
            ],
            [
             0.1111111111111111,
             "#46039f"
            ],
            [
             0.2222222222222222,
             "#7201a8"
            ],
            [
             0.3333333333333333,
             "#9c179e"
            ],
            [
             0.4444444444444444,
             "#bd3786"
            ],
            [
             0.5555555555555556,
             "#d8576b"
            ],
            [
             0.6666666666666666,
             "#ed7953"
            ],
            [
             0.7777777777777778,
             "#fb9f3a"
            ],
            [
             0.8888888888888888,
             "#fdca26"
            ],
            [
             1,
             "#f0f921"
            ]
           ]
          },
          "colorway": [
           "#636efa",
           "#EF553B",
           "#00cc96",
           "#ab63fa",
           "#FFA15A",
           "#19d3f3",
           "#FF6692",
           "#B6E880",
           "#FF97FF",
           "#FECB52"
          ],
          "font": {
           "color": "#2a3f5f"
          },
          "geo": {
           "bgcolor": "white",
           "lakecolor": "white",
           "landcolor": "#E5ECF6",
           "showlakes": true,
           "showland": true,
           "subunitcolor": "white"
          },
          "hoverlabel": {
           "align": "left"
          },
          "hovermode": "closest",
          "mapbox": {
           "style": "light"
          },
          "paper_bgcolor": "white",
          "plot_bgcolor": "#E5ECF6",
          "polar": {
           "angularaxis": {
            "gridcolor": "white",
            "linecolor": "white",
            "ticks": ""
           },
           "bgcolor": "#E5ECF6",
           "radialaxis": {
            "gridcolor": "white",
            "linecolor": "white",
            "ticks": ""
           }
          },
          "scene": {
           "xaxis": {
            "backgroundcolor": "#E5ECF6",
            "gridcolor": "white",
            "gridwidth": 2,
            "linecolor": "white",
            "showbackground": true,
            "ticks": "",
            "zerolinecolor": "white"
           },
           "yaxis": {
            "backgroundcolor": "#E5ECF6",
            "gridcolor": "white",
            "gridwidth": 2,
            "linecolor": "white",
            "showbackground": true,
            "ticks": "",
            "zerolinecolor": "white"
           },
           "zaxis": {
            "backgroundcolor": "#E5ECF6",
            "gridcolor": "white",
            "gridwidth": 2,
            "linecolor": "white",
            "showbackground": true,
            "ticks": "",
            "zerolinecolor": "white"
           }
          },
          "shapedefaults": {
           "line": {
            "color": "#2a3f5f"
           }
          },
          "ternary": {
           "aaxis": {
            "gridcolor": "white",
            "linecolor": "white",
            "ticks": ""
           },
           "baxis": {
            "gridcolor": "white",
            "linecolor": "white",
            "ticks": ""
           },
           "bgcolor": "#E5ECF6",
           "caxis": {
            "gridcolor": "white",
            "linecolor": "white",
            "ticks": ""
           }
          },
          "title": {
           "x": 0.05
          },
          "xaxis": {
           "automargin": true,
           "gridcolor": "white",
           "linecolor": "white",
           "ticks": "",
           "title": {
            "standoff": 15
           },
           "zerolinecolor": "white",
           "zerolinewidth": 2
          },
          "yaxis": {
           "automargin": true,
           "gridcolor": "white",
           "linecolor": "white",
           "ticks": "",
           "title": {
            "standoff": 15
           },
           "zerolinecolor": "white",
           "zerolinewidth": 2
          }
         }
        },
        "title": {
         "text": "Total number of releases per year"
        },
        "xaxis": {
         "anchor": "y",
         "domain": [
          0,
          1
         ],
         "title": {
          "text": "Release Year"
         }
        },
        "yaxis": {
         "anchor": "x",
         "domain": [
          0,
          1
         ],
         "title": {
          "text": "Number of releases"
         }
        }
       }
      }
     },
     "metadata": {},
     "output_type": "display_data"
    }
   ],
   "source": [
    "# Seasonality per year\n",
    "releases_per_year = releases_over_time.groupby('year')['num_releases'].sum().reset_index()\n",
    "releases_per_year.columns = ['year', 'num_releases']\n",
    "releases_per_year\n",
    "fig = px.line(releases_per_year, x='year', y='num_releases', text='year', title='Total number of releases per year')\n",
    "fig.update_layout(xaxis_title='Release Year', yaxis_title='Number of releases', autosize=False)\n",
    "fig.update_traces(textposition=\"bottom right\")\n",
    "fig.show()"
   ]
  },
  {
   "cell_type": "markdown",
   "metadata": {},
   "source": [
    "### 4. 2. Seasonality per month"
   ]
  },
  {
   "cell_type": "code",
   "execution_count": 49,
   "metadata": {},
   "outputs": [
    {
     "data": {
      "application/vnd.plotly.v1+json": {
       "config": {
        "plotlyServerURL": "https://plot.ly"
       },
       "data": [
        {
         "alignmentgroup": "True",
         "hovertemplate": "month=%{x}<br>num_releases=%{y}<extra></extra>",
         "legendgroup": "",
         "marker": {
          "color": "#636efa",
          "pattern": {
           "shape": ""
          }
         },
         "name": "",
         "offsetgroup": "",
         "orientation": "v",
         "showlegend": false,
         "textposition": "auto",
         "type": "bar",
         "x": [
          "April",
          "August",
          "December",
          "February",
          "January",
          "July",
          "June",
          "March",
          "May",
          "November",
          "October",
          "September"
         ],
         "xaxis": "x",
         "y": [
          95,
          83,
          90,
          56,
          82,
          103,
          91,
          92,
          70,
          64,
          84,
          77
         ],
         "yaxis": "y"
        }
       ],
       "layout": {
        "autosize": false,
        "barmode": "relative",
        "legend": {
         "tracegroupgap": 0
        },
        "template": {
         "data": {
          "bar": [
           {
            "error_x": {
             "color": "#2a3f5f"
            },
            "error_y": {
             "color": "#2a3f5f"
            },
            "marker": {
             "line": {
              "color": "#E5ECF6",
              "width": 0.5
             },
             "pattern": {
              "fillmode": "overlay",
              "size": 10,
              "solidity": 0.2
             }
            },
            "type": "bar"
           }
          ],
          "barpolar": [
           {
            "marker": {
             "line": {
              "color": "#E5ECF6",
              "width": 0.5
             },
             "pattern": {
              "fillmode": "overlay",
              "size": 10,
              "solidity": 0.2
             }
            },
            "type": "barpolar"
           }
          ],
          "carpet": [
           {
            "aaxis": {
             "endlinecolor": "#2a3f5f",
             "gridcolor": "white",
             "linecolor": "white",
             "minorgridcolor": "white",
             "startlinecolor": "#2a3f5f"
            },
            "baxis": {
             "endlinecolor": "#2a3f5f",
             "gridcolor": "white",
             "linecolor": "white",
             "minorgridcolor": "white",
             "startlinecolor": "#2a3f5f"
            },
            "type": "carpet"
           }
          ],
          "choropleth": [
           {
            "colorbar": {
             "outlinewidth": 0,
             "ticks": ""
            },
            "type": "choropleth"
           }
          ],
          "contour": [
           {
            "colorbar": {
             "outlinewidth": 0,
             "ticks": ""
            },
            "colorscale": [
             [
              0,
              "#0d0887"
             ],
             [
              0.1111111111111111,
              "#46039f"
             ],
             [
              0.2222222222222222,
              "#7201a8"
             ],
             [
              0.3333333333333333,
              "#9c179e"
             ],
             [
              0.4444444444444444,
              "#bd3786"
             ],
             [
              0.5555555555555556,
              "#d8576b"
             ],
             [
              0.6666666666666666,
              "#ed7953"
             ],
             [
              0.7777777777777778,
              "#fb9f3a"
             ],
             [
              0.8888888888888888,
              "#fdca26"
             ],
             [
              1,
              "#f0f921"
             ]
            ],
            "type": "contour"
           }
          ],
          "contourcarpet": [
           {
            "colorbar": {
             "outlinewidth": 0,
             "ticks": ""
            },
            "type": "contourcarpet"
           }
          ],
          "heatmap": [
           {
            "colorbar": {
             "outlinewidth": 0,
             "ticks": ""
            },
            "colorscale": [
             [
              0,
              "#0d0887"
             ],
             [
              0.1111111111111111,
              "#46039f"
             ],
             [
              0.2222222222222222,
              "#7201a8"
             ],
             [
              0.3333333333333333,
              "#9c179e"
             ],
             [
              0.4444444444444444,
              "#bd3786"
             ],
             [
              0.5555555555555556,
              "#d8576b"
             ],
             [
              0.6666666666666666,
              "#ed7953"
             ],
             [
              0.7777777777777778,
              "#fb9f3a"
             ],
             [
              0.8888888888888888,
              "#fdca26"
             ],
             [
              1,
              "#f0f921"
             ]
            ],
            "type": "heatmap"
           }
          ],
          "heatmapgl": [
           {
            "colorbar": {
             "outlinewidth": 0,
             "ticks": ""
            },
            "colorscale": [
             [
              0,
              "#0d0887"
             ],
             [
              0.1111111111111111,
              "#46039f"
             ],
             [
              0.2222222222222222,
              "#7201a8"
             ],
             [
              0.3333333333333333,
              "#9c179e"
             ],
             [
              0.4444444444444444,
              "#bd3786"
             ],
             [
              0.5555555555555556,
              "#d8576b"
             ],
             [
              0.6666666666666666,
              "#ed7953"
             ],
             [
              0.7777777777777778,
              "#fb9f3a"
             ],
             [
              0.8888888888888888,
              "#fdca26"
             ],
             [
              1,
              "#f0f921"
             ]
            ],
            "type": "heatmapgl"
           }
          ],
          "histogram": [
           {
            "marker": {
             "pattern": {
              "fillmode": "overlay",
              "size": 10,
              "solidity": 0.2
             }
            },
            "type": "histogram"
           }
          ],
          "histogram2d": [
           {
            "colorbar": {
             "outlinewidth": 0,
             "ticks": ""
            },
            "colorscale": [
             [
              0,
              "#0d0887"
             ],
             [
              0.1111111111111111,
              "#46039f"
             ],
             [
              0.2222222222222222,
              "#7201a8"
             ],
             [
              0.3333333333333333,
              "#9c179e"
             ],
             [
              0.4444444444444444,
              "#bd3786"
             ],
             [
              0.5555555555555556,
              "#d8576b"
             ],
             [
              0.6666666666666666,
              "#ed7953"
             ],
             [
              0.7777777777777778,
              "#fb9f3a"
             ],
             [
              0.8888888888888888,
              "#fdca26"
             ],
             [
              1,
              "#f0f921"
             ]
            ],
            "type": "histogram2d"
           }
          ],
          "histogram2dcontour": [
           {
            "colorbar": {
             "outlinewidth": 0,
             "ticks": ""
            },
            "colorscale": [
             [
              0,
              "#0d0887"
             ],
             [
              0.1111111111111111,
              "#46039f"
             ],
             [
              0.2222222222222222,
              "#7201a8"
             ],
             [
              0.3333333333333333,
              "#9c179e"
             ],
             [
              0.4444444444444444,
              "#bd3786"
             ],
             [
              0.5555555555555556,
              "#d8576b"
             ],
             [
              0.6666666666666666,
              "#ed7953"
             ],
             [
              0.7777777777777778,
              "#fb9f3a"
             ],
             [
              0.8888888888888888,
              "#fdca26"
             ],
             [
              1,
              "#f0f921"
             ]
            ],
            "type": "histogram2dcontour"
           }
          ],
          "mesh3d": [
           {
            "colorbar": {
             "outlinewidth": 0,
             "ticks": ""
            },
            "type": "mesh3d"
           }
          ],
          "parcoords": [
           {
            "line": {
             "colorbar": {
              "outlinewidth": 0,
              "ticks": ""
             }
            },
            "type": "parcoords"
           }
          ],
          "pie": [
           {
            "automargin": true,
            "type": "pie"
           }
          ],
          "scatter": [
           {
            "fillpattern": {
             "fillmode": "overlay",
             "size": 10,
             "solidity": 0.2
            },
            "type": "scatter"
           }
          ],
          "scatter3d": [
           {
            "line": {
             "colorbar": {
              "outlinewidth": 0,
              "ticks": ""
             }
            },
            "marker": {
             "colorbar": {
              "outlinewidth": 0,
              "ticks": ""
             }
            },
            "type": "scatter3d"
           }
          ],
          "scattercarpet": [
           {
            "marker": {
             "colorbar": {
              "outlinewidth": 0,
              "ticks": ""
             }
            },
            "type": "scattercarpet"
           }
          ],
          "scattergeo": [
           {
            "marker": {
             "colorbar": {
              "outlinewidth": 0,
              "ticks": ""
             }
            },
            "type": "scattergeo"
           }
          ],
          "scattergl": [
           {
            "marker": {
             "colorbar": {
              "outlinewidth": 0,
              "ticks": ""
             }
            },
            "type": "scattergl"
           }
          ],
          "scattermapbox": [
           {
            "marker": {
             "colorbar": {
              "outlinewidth": 0,
              "ticks": ""
             }
            },
            "type": "scattermapbox"
           }
          ],
          "scatterpolar": [
           {
            "marker": {
             "colorbar": {
              "outlinewidth": 0,
              "ticks": ""
             }
            },
            "type": "scatterpolar"
           }
          ],
          "scatterpolargl": [
           {
            "marker": {
             "colorbar": {
              "outlinewidth": 0,
              "ticks": ""
             }
            },
            "type": "scatterpolargl"
           }
          ],
          "scatterternary": [
           {
            "marker": {
             "colorbar": {
              "outlinewidth": 0,
              "ticks": ""
             }
            },
            "type": "scatterternary"
           }
          ],
          "surface": [
           {
            "colorbar": {
             "outlinewidth": 0,
             "ticks": ""
            },
            "colorscale": [
             [
              0,
              "#0d0887"
             ],
             [
              0.1111111111111111,
              "#46039f"
             ],
             [
              0.2222222222222222,
              "#7201a8"
             ],
             [
              0.3333333333333333,
              "#9c179e"
             ],
             [
              0.4444444444444444,
              "#bd3786"
             ],
             [
              0.5555555555555556,
              "#d8576b"
             ],
             [
              0.6666666666666666,
              "#ed7953"
             ],
             [
              0.7777777777777778,
              "#fb9f3a"
             ],
             [
              0.8888888888888888,
              "#fdca26"
             ],
             [
              1,
              "#f0f921"
             ]
            ],
            "type": "surface"
           }
          ],
          "table": [
           {
            "cells": {
             "fill": {
              "color": "#EBF0F8"
             },
             "line": {
              "color": "white"
             }
            },
            "header": {
             "fill": {
              "color": "#C8D4E3"
             },
             "line": {
              "color": "white"
             }
            },
            "type": "table"
           }
          ]
         },
         "layout": {
          "annotationdefaults": {
           "arrowcolor": "#2a3f5f",
           "arrowhead": 0,
           "arrowwidth": 1
          },
          "autotypenumbers": "strict",
          "coloraxis": {
           "colorbar": {
            "outlinewidth": 0,
            "ticks": ""
           }
          },
          "colorscale": {
           "diverging": [
            [
             0,
             "#8e0152"
            ],
            [
             0.1,
             "#c51b7d"
            ],
            [
             0.2,
             "#de77ae"
            ],
            [
             0.3,
             "#f1b6da"
            ],
            [
             0.4,
             "#fde0ef"
            ],
            [
             0.5,
             "#f7f7f7"
            ],
            [
             0.6,
             "#e6f5d0"
            ],
            [
             0.7,
             "#b8e186"
            ],
            [
             0.8,
             "#7fbc41"
            ],
            [
             0.9,
             "#4d9221"
            ],
            [
             1,
             "#276419"
            ]
           ],
           "sequential": [
            [
             0,
             "#0d0887"
            ],
            [
             0.1111111111111111,
             "#46039f"
            ],
            [
             0.2222222222222222,
             "#7201a8"
            ],
            [
             0.3333333333333333,
             "#9c179e"
            ],
            [
             0.4444444444444444,
             "#bd3786"
            ],
            [
             0.5555555555555556,
             "#d8576b"
            ],
            [
             0.6666666666666666,
             "#ed7953"
            ],
            [
             0.7777777777777778,
             "#fb9f3a"
            ],
            [
             0.8888888888888888,
             "#fdca26"
            ],
            [
             1,
             "#f0f921"
            ]
           ],
           "sequentialminus": [
            [
             0,
             "#0d0887"
            ],
            [
             0.1111111111111111,
             "#46039f"
            ],
            [
             0.2222222222222222,
             "#7201a8"
            ],
            [
             0.3333333333333333,
             "#9c179e"
            ],
            [
             0.4444444444444444,
             "#bd3786"
            ],
            [
             0.5555555555555556,
             "#d8576b"
            ],
            [
             0.6666666666666666,
             "#ed7953"
            ],
            [
             0.7777777777777778,
             "#fb9f3a"
            ],
            [
             0.8888888888888888,
             "#fdca26"
            ],
            [
             1,
             "#f0f921"
            ]
           ]
          },
          "colorway": [
           "#636efa",
           "#EF553B",
           "#00cc96",
           "#ab63fa",
           "#FFA15A",
           "#19d3f3",
           "#FF6692",
           "#B6E880",
           "#FF97FF",
           "#FECB52"
          ],
          "font": {
           "color": "#2a3f5f"
          },
          "geo": {
           "bgcolor": "white",
           "lakecolor": "white",
           "landcolor": "#E5ECF6",
           "showlakes": true,
           "showland": true,
           "subunitcolor": "white"
          },
          "hoverlabel": {
           "align": "left"
          },
          "hovermode": "closest",
          "mapbox": {
           "style": "light"
          },
          "paper_bgcolor": "white",
          "plot_bgcolor": "#E5ECF6",
          "polar": {
           "angularaxis": {
            "gridcolor": "white",
            "linecolor": "white",
            "ticks": ""
           },
           "bgcolor": "#E5ECF6",
           "radialaxis": {
            "gridcolor": "white",
            "linecolor": "white",
            "ticks": ""
           }
          },
          "scene": {
           "xaxis": {
            "backgroundcolor": "#E5ECF6",
            "gridcolor": "white",
            "gridwidth": 2,
            "linecolor": "white",
            "showbackground": true,
            "ticks": "",
            "zerolinecolor": "white"
           },
           "yaxis": {
            "backgroundcolor": "#E5ECF6",
            "gridcolor": "white",
            "gridwidth": 2,
            "linecolor": "white",
            "showbackground": true,
            "ticks": "",
            "zerolinecolor": "white"
           },
           "zaxis": {
            "backgroundcolor": "#E5ECF6",
            "gridcolor": "white",
            "gridwidth": 2,
            "linecolor": "white",
            "showbackground": true,
            "ticks": "",
            "zerolinecolor": "white"
           }
          },
          "shapedefaults": {
           "line": {
            "color": "#2a3f5f"
           }
          },
          "ternary": {
           "aaxis": {
            "gridcolor": "white",
            "linecolor": "white",
            "ticks": ""
           },
           "baxis": {
            "gridcolor": "white",
            "linecolor": "white",
            "ticks": ""
           },
           "bgcolor": "#E5ECF6",
           "caxis": {
            "gridcolor": "white",
            "linecolor": "white",
            "ticks": ""
           }
          },
          "title": {
           "x": 0.05
          },
          "xaxis": {
           "automargin": true,
           "gridcolor": "white",
           "linecolor": "white",
           "ticks": "",
           "title": {
            "standoff": 15
           },
           "zerolinecolor": "white",
           "zerolinewidth": 2
          },
          "yaxis": {
           "automargin": true,
           "gridcolor": "white",
           "linecolor": "white",
           "ticks": "",
           "title": {
            "standoff": 15
           },
           "zerolinecolor": "white",
           "zerolinewidth": 2
          }
         }
        },
        "title": {
         "text": "Average number of releases per month"
        },
        "xaxis": {
         "anchor": "y",
         "categoryarray": [
          "January",
          "February",
          "March",
          "April",
          "May",
          "June",
          "July",
          "August",
          "September",
          "October",
          "November",
          "December"
         ],
         "categoryorder": "array",
         "domain": [
          0,
          1
         ],
         "title": {
          "text": "Release Month"
         }
        },
        "yaxis": {
         "anchor": "x",
         "domain": [
          0,
          1
         ],
         "title": {
          "text": "Avg. Number of releases"
         }
        }
       }
      }
     },
     "metadata": {},
     "output_type": "display_data"
    }
   ],
   "source": [
    "# Data processing\n",
    "releases_per_month_year = releases_over_time.groupby(['year', 'month'])['num_releases'].sum().reset_index()\n",
    "releases_per_month = releases_per_month_year.groupby('month')['num_releases'].mean().reset_index()\n",
    "releases_per_month['num_releases'] = releases_per_month['num_releases'].astype('int')\n",
    "\n",
    "# Visualization\n",
    "fig = px.bar(releases_per_month, x='month', y='num_releases', \n",
    "       category_orders={'month': calendar.month_name[1:]}, title='Average number of releases per month')\n",
    "fig.update_layout(xaxis_title='Release Month', yaxis_title='Avg. Number of releases', autosize=False)\n",
    "fig.show()"
   ]
  },
  {
   "cell_type": "markdown",
   "metadata": {},
   "source": [
    "### 4.3. Seasonality per day of month"
   ]
  },
  {
   "cell_type": "code",
   "execution_count": 48,
   "metadata": {},
   "outputs": [
    {
     "data": {
      "application/vnd.plotly.v1+json": {
       "config": {
        "plotlyServerURL": "https://plot.ly"
       },
       "data": [
        {
         "alignmentgroup": "True",
         "hovertemplate": "day=%{x}<br>num_releases=%{y}<extra></extra>",
         "legendgroup": "",
         "marker": {
          "color": "#636efa",
          "pattern": {
           "shape": ""
          }
         },
         "name": "",
         "offsetgroup": "",
         "orientation": "v",
         "showlegend": false,
         "textposition": "auto",
         "type": "bar",
         "x": [
          1,
          2,
          3,
          4,
          5,
          6,
          7,
          8,
          9,
          10,
          11,
          12,
          13,
          14,
          15,
          16,
          17,
          18,
          19,
          20,
          21,
          22,
          23,
          24,
          25,
          26,
          27,
          28,
          29,
          30,
          31
         ],
         "xaxis": "x",
         "y": [
          27,
          5,
          3,
          3,
          3,
          4,
          3,
          3,
          3,
          4,
          2,
          3,
          3,
          3,
          9,
          4,
          3,
          3,
          4,
          4,
          3,
          3,
          3,
          2,
          3,
          3,
          3,
          3,
          3,
          4,
          7
         ],
         "yaxis": "y"
        }
       ],
       "layout": {
        "autosize": false,
        "barmode": "relative",
        "legend": {
         "tracegroupgap": 0
        },
        "template": {
         "data": {
          "bar": [
           {
            "error_x": {
             "color": "#2a3f5f"
            },
            "error_y": {
             "color": "#2a3f5f"
            },
            "marker": {
             "line": {
              "color": "#E5ECF6",
              "width": 0.5
             },
             "pattern": {
              "fillmode": "overlay",
              "size": 10,
              "solidity": 0.2
             }
            },
            "type": "bar"
           }
          ],
          "barpolar": [
           {
            "marker": {
             "line": {
              "color": "#E5ECF6",
              "width": 0.5
             },
             "pattern": {
              "fillmode": "overlay",
              "size": 10,
              "solidity": 0.2
             }
            },
            "type": "barpolar"
           }
          ],
          "carpet": [
           {
            "aaxis": {
             "endlinecolor": "#2a3f5f",
             "gridcolor": "white",
             "linecolor": "white",
             "minorgridcolor": "white",
             "startlinecolor": "#2a3f5f"
            },
            "baxis": {
             "endlinecolor": "#2a3f5f",
             "gridcolor": "white",
             "linecolor": "white",
             "minorgridcolor": "white",
             "startlinecolor": "#2a3f5f"
            },
            "type": "carpet"
           }
          ],
          "choropleth": [
           {
            "colorbar": {
             "outlinewidth": 0,
             "ticks": ""
            },
            "type": "choropleth"
           }
          ],
          "contour": [
           {
            "colorbar": {
             "outlinewidth": 0,
             "ticks": ""
            },
            "colorscale": [
             [
              0,
              "#0d0887"
             ],
             [
              0.1111111111111111,
              "#46039f"
             ],
             [
              0.2222222222222222,
              "#7201a8"
             ],
             [
              0.3333333333333333,
              "#9c179e"
             ],
             [
              0.4444444444444444,
              "#bd3786"
             ],
             [
              0.5555555555555556,
              "#d8576b"
             ],
             [
              0.6666666666666666,
              "#ed7953"
             ],
             [
              0.7777777777777778,
              "#fb9f3a"
             ],
             [
              0.8888888888888888,
              "#fdca26"
             ],
             [
              1,
              "#f0f921"
             ]
            ],
            "type": "contour"
           }
          ],
          "contourcarpet": [
           {
            "colorbar": {
             "outlinewidth": 0,
             "ticks": ""
            },
            "type": "contourcarpet"
           }
          ],
          "heatmap": [
           {
            "colorbar": {
             "outlinewidth": 0,
             "ticks": ""
            },
            "colorscale": [
             [
              0,
              "#0d0887"
             ],
             [
              0.1111111111111111,
              "#46039f"
             ],
             [
              0.2222222222222222,
              "#7201a8"
             ],
             [
              0.3333333333333333,
              "#9c179e"
             ],
             [
              0.4444444444444444,
              "#bd3786"
             ],
             [
              0.5555555555555556,
              "#d8576b"
             ],
             [
              0.6666666666666666,
              "#ed7953"
             ],
             [
              0.7777777777777778,
              "#fb9f3a"
             ],
             [
              0.8888888888888888,
              "#fdca26"
             ],
             [
              1,
              "#f0f921"
             ]
            ],
            "type": "heatmap"
           }
          ],
          "heatmapgl": [
           {
            "colorbar": {
             "outlinewidth": 0,
             "ticks": ""
            },
            "colorscale": [
             [
              0,
              "#0d0887"
             ],
             [
              0.1111111111111111,
              "#46039f"
             ],
             [
              0.2222222222222222,
              "#7201a8"
             ],
             [
              0.3333333333333333,
              "#9c179e"
             ],
             [
              0.4444444444444444,
              "#bd3786"
             ],
             [
              0.5555555555555556,
              "#d8576b"
             ],
             [
              0.6666666666666666,
              "#ed7953"
             ],
             [
              0.7777777777777778,
              "#fb9f3a"
             ],
             [
              0.8888888888888888,
              "#fdca26"
             ],
             [
              1,
              "#f0f921"
             ]
            ],
            "type": "heatmapgl"
           }
          ],
          "histogram": [
           {
            "marker": {
             "pattern": {
              "fillmode": "overlay",
              "size": 10,
              "solidity": 0.2
             }
            },
            "type": "histogram"
           }
          ],
          "histogram2d": [
           {
            "colorbar": {
             "outlinewidth": 0,
             "ticks": ""
            },
            "colorscale": [
             [
              0,
              "#0d0887"
             ],
             [
              0.1111111111111111,
              "#46039f"
             ],
             [
              0.2222222222222222,
              "#7201a8"
             ],
             [
              0.3333333333333333,
              "#9c179e"
             ],
             [
              0.4444444444444444,
              "#bd3786"
             ],
             [
              0.5555555555555556,
              "#d8576b"
             ],
             [
              0.6666666666666666,
              "#ed7953"
             ],
             [
              0.7777777777777778,
              "#fb9f3a"
             ],
             [
              0.8888888888888888,
              "#fdca26"
             ],
             [
              1,
              "#f0f921"
             ]
            ],
            "type": "histogram2d"
           }
          ],
          "histogram2dcontour": [
           {
            "colorbar": {
             "outlinewidth": 0,
             "ticks": ""
            },
            "colorscale": [
             [
              0,
              "#0d0887"
             ],
             [
              0.1111111111111111,
              "#46039f"
             ],
             [
              0.2222222222222222,
              "#7201a8"
             ],
             [
              0.3333333333333333,
              "#9c179e"
             ],
             [
              0.4444444444444444,
              "#bd3786"
             ],
             [
              0.5555555555555556,
              "#d8576b"
             ],
             [
              0.6666666666666666,
              "#ed7953"
             ],
             [
              0.7777777777777778,
              "#fb9f3a"
             ],
             [
              0.8888888888888888,
              "#fdca26"
             ],
             [
              1,
              "#f0f921"
             ]
            ],
            "type": "histogram2dcontour"
           }
          ],
          "mesh3d": [
           {
            "colorbar": {
             "outlinewidth": 0,
             "ticks": ""
            },
            "type": "mesh3d"
           }
          ],
          "parcoords": [
           {
            "line": {
             "colorbar": {
              "outlinewidth": 0,
              "ticks": ""
             }
            },
            "type": "parcoords"
           }
          ],
          "pie": [
           {
            "automargin": true,
            "type": "pie"
           }
          ],
          "scatter": [
           {
            "fillpattern": {
             "fillmode": "overlay",
             "size": 10,
             "solidity": 0.2
            },
            "type": "scatter"
           }
          ],
          "scatter3d": [
           {
            "line": {
             "colorbar": {
              "outlinewidth": 0,
              "ticks": ""
             }
            },
            "marker": {
             "colorbar": {
              "outlinewidth": 0,
              "ticks": ""
             }
            },
            "type": "scatter3d"
           }
          ],
          "scattercarpet": [
           {
            "marker": {
             "colorbar": {
              "outlinewidth": 0,
              "ticks": ""
             }
            },
            "type": "scattercarpet"
           }
          ],
          "scattergeo": [
           {
            "marker": {
             "colorbar": {
              "outlinewidth": 0,
              "ticks": ""
             }
            },
            "type": "scattergeo"
           }
          ],
          "scattergl": [
           {
            "marker": {
             "colorbar": {
              "outlinewidth": 0,
              "ticks": ""
             }
            },
            "type": "scattergl"
           }
          ],
          "scattermapbox": [
           {
            "marker": {
             "colorbar": {
              "outlinewidth": 0,
              "ticks": ""
             }
            },
            "type": "scattermapbox"
           }
          ],
          "scatterpolar": [
           {
            "marker": {
             "colorbar": {
              "outlinewidth": 0,
              "ticks": ""
             }
            },
            "type": "scatterpolar"
           }
          ],
          "scatterpolargl": [
           {
            "marker": {
             "colorbar": {
              "outlinewidth": 0,
              "ticks": ""
             }
            },
            "type": "scatterpolargl"
           }
          ],
          "scatterternary": [
           {
            "marker": {
             "colorbar": {
              "outlinewidth": 0,
              "ticks": ""
             }
            },
            "type": "scatterternary"
           }
          ],
          "surface": [
           {
            "colorbar": {
             "outlinewidth": 0,
             "ticks": ""
            },
            "colorscale": [
             [
              0,
              "#0d0887"
             ],
             [
              0.1111111111111111,
              "#46039f"
             ],
             [
              0.2222222222222222,
              "#7201a8"
             ],
             [
              0.3333333333333333,
              "#9c179e"
             ],
             [
              0.4444444444444444,
              "#bd3786"
             ],
             [
              0.5555555555555556,
              "#d8576b"
             ],
             [
              0.6666666666666666,
              "#ed7953"
             ],
             [
              0.7777777777777778,
              "#fb9f3a"
             ],
             [
              0.8888888888888888,
              "#fdca26"
             ],
             [
              1,
              "#f0f921"
             ]
            ],
            "type": "surface"
           }
          ],
          "table": [
           {
            "cells": {
             "fill": {
              "color": "#EBF0F8"
             },
             "line": {
              "color": "white"
             }
            },
            "header": {
             "fill": {
              "color": "#C8D4E3"
             },
             "line": {
              "color": "white"
             }
            },
            "type": "table"
           }
          ]
         },
         "layout": {
          "annotationdefaults": {
           "arrowcolor": "#2a3f5f",
           "arrowhead": 0,
           "arrowwidth": 1
          },
          "autotypenumbers": "strict",
          "coloraxis": {
           "colorbar": {
            "outlinewidth": 0,
            "ticks": ""
           }
          },
          "colorscale": {
           "diverging": [
            [
             0,
             "#8e0152"
            ],
            [
             0.1,
             "#c51b7d"
            ],
            [
             0.2,
             "#de77ae"
            ],
            [
             0.3,
             "#f1b6da"
            ],
            [
             0.4,
             "#fde0ef"
            ],
            [
             0.5,
             "#f7f7f7"
            ],
            [
             0.6,
             "#e6f5d0"
            ],
            [
             0.7,
             "#b8e186"
            ],
            [
             0.8,
             "#7fbc41"
            ],
            [
             0.9,
             "#4d9221"
            ],
            [
             1,
             "#276419"
            ]
           ],
           "sequential": [
            [
             0,
             "#0d0887"
            ],
            [
             0.1111111111111111,
             "#46039f"
            ],
            [
             0.2222222222222222,
             "#7201a8"
            ],
            [
             0.3333333333333333,
             "#9c179e"
            ],
            [
             0.4444444444444444,
             "#bd3786"
            ],
            [
             0.5555555555555556,
             "#d8576b"
            ],
            [
             0.6666666666666666,
             "#ed7953"
            ],
            [
             0.7777777777777778,
             "#fb9f3a"
            ],
            [
             0.8888888888888888,
             "#fdca26"
            ],
            [
             1,
             "#f0f921"
            ]
           ],
           "sequentialminus": [
            [
             0,
             "#0d0887"
            ],
            [
             0.1111111111111111,
             "#46039f"
            ],
            [
             0.2222222222222222,
             "#7201a8"
            ],
            [
             0.3333333333333333,
             "#9c179e"
            ],
            [
             0.4444444444444444,
             "#bd3786"
            ],
            [
             0.5555555555555556,
             "#d8576b"
            ],
            [
             0.6666666666666666,
             "#ed7953"
            ],
            [
             0.7777777777777778,
             "#fb9f3a"
            ],
            [
             0.8888888888888888,
             "#fdca26"
            ],
            [
             1,
             "#f0f921"
            ]
           ]
          },
          "colorway": [
           "#636efa",
           "#EF553B",
           "#00cc96",
           "#ab63fa",
           "#FFA15A",
           "#19d3f3",
           "#FF6692",
           "#B6E880",
           "#FF97FF",
           "#FECB52"
          ],
          "font": {
           "color": "#2a3f5f"
          },
          "geo": {
           "bgcolor": "white",
           "lakecolor": "white",
           "landcolor": "#E5ECF6",
           "showlakes": true,
           "showland": true,
           "subunitcolor": "white"
          },
          "hoverlabel": {
           "align": "left"
          },
          "hovermode": "closest",
          "mapbox": {
           "style": "light"
          },
          "paper_bgcolor": "white",
          "plot_bgcolor": "#E5ECF6",
          "polar": {
           "angularaxis": {
            "gridcolor": "white",
            "linecolor": "white",
            "ticks": ""
           },
           "bgcolor": "#E5ECF6",
           "radialaxis": {
            "gridcolor": "white",
            "linecolor": "white",
            "ticks": ""
           }
          },
          "scene": {
           "xaxis": {
            "backgroundcolor": "#E5ECF6",
            "gridcolor": "white",
            "gridwidth": 2,
            "linecolor": "white",
            "showbackground": true,
            "ticks": "",
            "zerolinecolor": "white"
           },
           "yaxis": {
            "backgroundcolor": "#E5ECF6",
            "gridcolor": "white",
            "gridwidth": 2,
            "linecolor": "white",
            "showbackground": true,
            "ticks": "",
            "zerolinecolor": "white"
           },
           "zaxis": {
            "backgroundcolor": "#E5ECF6",
            "gridcolor": "white",
            "gridwidth": 2,
            "linecolor": "white",
            "showbackground": true,
            "ticks": "",
            "zerolinecolor": "white"
           }
          },
          "shapedefaults": {
           "line": {
            "color": "#2a3f5f"
           }
          },
          "ternary": {
           "aaxis": {
            "gridcolor": "white",
            "linecolor": "white",
            "ticks": ""
           },
           "baxis": {
            "gridcolor": "white",
            "linecolor": "white",
            "ticks": ""
           },
           "bgcolor": "#E5ECF6",
           "caxis": {
            "gridcolor": "white",
            "linecolor": "white",
            "ticks": ""
           }
          },
          "title": {
           "x": 0.05
          },
          "xaxis": {
           "automargin": true,
           "gridcolor": "white",
           "linecolor": "white",
           "ticks": "",
           "title": {
            "standoff": 15
           },
           "zerolinecolor": "white",
           "zerolinewidth": 2
          },
          "yaxis": {
           "automargin": true,
           "gridcolor": "white",
           "linecolor": "white",
           "ticks": "",
           "title": {
            "standoff": 15
           },
           "zerolinecolor": "white",
           "zerolinewidth": 2
          }
         }
        },
        "title": {
         "text": "Average number of releases per day of month"
        },
        "xaxis": {
         "anchor": "y",
         "domain": [
          0,
          1
         ],
         "title": {
          "text": "Release Day of Month"
         }
        },
        "yaxis": {
         "anchor": "x",
         "domain": [
          0,
          1
         ],
         "title": {
          "text": "Avg. number of releases"
         }
        }
       }
      }
     },
     "metadata": {},
     "output_type": "display_data"
    }
   ],
   "source": [
    "releases_per_day= releases_over_time.groupby(['day'])['num_releases'].mean().reset_index()\n",
    "releases_per_day['num_releases'] = releases_per_day['num_releases'].astype('int')\n",
    "fig = px.bar(releases_per_day, x='day', y='num_releases', title='Average number of releases per day of month')\n",
    "fig.update_layout(xaxis_title='Release Day of Month', yaxis_title='Avg. number of releases', autosize=False)\n",
    "fig.show()"
   ]
  },
  {
   "cell_type": "markdown",
   "metadata": {},
   "source": [
    "### 4.4. Seasonality per day of week"
   ]
  },
  {
   "cell_type": "code",
   "execution_count": 51,
   "metadata": {},
   "outputs": [
    {
     "data": {
      "application/vnd.plotly.v1+json": {
       "config": {
        "plotlyServerURL": "https://plot.ly"
       },
       "data": [
        {
         "alignmentgroup": "True",
         "hovertemplate": "day_of_week=%{x}<br>num_releases=%{y}<extra></extra>",
         "legendgroup": "",
         "marker": {
          "color": "#636efa",
          "pattern": {
           "shape": ""
          }
         },
         "name": "",
         "offsetgroup": "",
         "orientation": "v",
         "showlegend": false,
         "textposition": "auto",
         "type": "bar",
         "x": [
          "Friday",
          "Monday",
          "Saturday",
          "Sunday",
          "Thursday",
          "Tuesday",
          "Wednesday"
         ],
         "xaxis": "x",
         "y": [
          7,
          3,
          3,
          4,
          5,
          4,
          5
         ],
         "yaxis": "y"
        }
       ],
       "layout": {
        "autosize": false,
        "barmode": "relative",
        "legend": {
         "tracegroupgap": 0
        },
        "template": {
         "data": {
          "bar": [
           {
            "error_x": {
             "color": "#2a3f5f"
            },
            "error_y": {
             "color": "#2a3f5f"
            },
            "marker": {
             "line": {
              "color": "#E5ECF6",
              "width": 0.5
             },
             "pattern": {
              "fillmode": "overlay",
              "size": 10,
              "solidity": 0.2
             }
            },
            "type": "bar"
           }
          ],
          "barpolar": [
           {
            "marker": {
             "line": {
              "color": "#E5ECF6",
              "width": 0.5
             },
             "pattern": {
              "fillmode": "overlay",
              "size": 10,
              "solidity": 0.2
             }
            },
            "type": "barpolar"
           }
          ],
          "carpet": [
           {
            "aaxis": {
             "endlinecolor": "#2a3f5f",
             "gridcolor": "white",
             "linecolor": "white",
             "minorgridcolor": "white",
             "startlinecolor": "#2a3f5f"
            },
            "baxis": {
             "endlinecolor": "#2a3f5f",
             "gridcolor": "white",
             "linecolor": "white",
             "minorgridcolor": "white",
             "startlinecolor": "#2a3f5f"
            },
            "type": "carpet"
           }
          ],
          "choropleth": [
           {
            "colorbar": {
             "outlinewidth": 0,
             "ticks": ""
            },
            "type": "choropleth"
           }
          ],
          "contour": [
           {
            "colorbar": {
             "outlinewidth": 0,
             "ticks": ""
            },
            "colorscale": [
             [
              0,
              "#0d0887"
             ],
             [
              0.1111111111111111,
              "#46039f"
             ],
             [
              0.2222222222222222,
              "#7201a8"
             ],
             [
              0.3333333333333333,
              "#9c179e"
             ],
             [
              0.4444444444444444,
              "#bd3786"
             ],
             [
              0.5555555555555556,
              "#d8576b"
             ],
             [
              0.6666666666666666,
              "#ed7953"
             ],
             [
              0.7777777777777778,
              "#fb9f3a"
             ],
             [
              0.8888888888888888,
              "#fdca26"
             ],
             [
              1,
              "#f0f921"
             ]
            ],
            "type": "contour"
           }
          ],
          "contourcarpet": [
           {
            "colorbar": {
             "outlinewidth": 0,
             "ticks": ""
            },
            "type": "contourcarpet"
           }
          ],
          "heatmap": [
           {
            "colorbar": {
             "outlinewidth": 0,
             "ticks": ""
            },
            "colorscale": [
             [
              0,
              "#0d0887"
             ],
             [
              0.1111111111111111,
              "#46039f"
             ],
             [
              0.2222222222222222,
              "#7201a8"
             ],
             [
              0.3333333333333333,
              "#9c179e"
             ],
             [
              0.4444444444444444,
              "#bd3786"
             ],
             [
              0.5555555555555556,
              "#d8576b"
             ],
             [
              0.6666666666666666,
              "#ed7953"
             ],
             [
              0.7777777777777778,
              "#fb9f3a"
             ],
             [
              0.8888888888888888,
              "#fdca26"
             ],
             [
              1,
              "#f0f921"
             ]
            ],
            "type": "heatmap"
           }
          ],
          "heatmapgl": [
           {
            "colorbar": {
             "outlinewidth": 0,
             "ticks": ""
            },
            "colorscale": [
             [
              0,
              "#0d0887"
             ],
             [
              0.1111111111111111,
              "#46039f"
             ],
             [
              0.2222222222222222,
              "#7201a8"
             ],
             [
              0.3333333333333333,
              "#9c179e"
             ],
             [
              0.4444444444444444,
              "#bd3786"
             ],
             [
              0.5555555555555556,
              "#d8576b"
             ],
             [
              0.6666666666666666,
              "#ed7953"
             ],
             [
              0.7777777777777778,
              "#fb9f3a"
             ],
             [
              0.8888888888888888,
              "#fdca26"
             ],
             [
              1,
              "#f0f921"
             ]
            ],
            "type": "heatmapgl"
           }
          ],
          "histogram": [
           {
            "marker": {
             "pattern": {
              "fillmode": "overlay",
              "size": 10,
              "solidity": 0.2
             }
            },
            "type": "histogram"
           }
          ],
          "histogram2d": [
           {
            "colorbar": {
             "outlinewidth": 0,
             "ticks": ""
            },
            "colorscale": [
             [
              0,
              "#0d0887"
             ],
             [
              0.1111111111111111,
              "#46039f"
             ],
             [
              0.2222222222222222,
              "#7201a8"
             ],
             [
              0.3333333333333333,
              "#9c179e"
             ],
             [
              0.4444444444444444,
              "#bd3786"
             ],
             [
              0.5555555555555556,
              "#d8576b"
             ],
             [
              0.6666666666666666,
              "#ed7953"
             ],
             [
              0.7777777777777778,
              "#fb9f3a"
             ],
             [
              0.8888888888888888,
              "#fdca26"
             ],
             [
              1,
              "#f0f921"
             ]
            ],
            "type": "histogram2d"
           }
          ],
          "histogram2dcontour": [
           {
            "colorbar": {
             "outlinewidth": 0,
             "ticks": ""
            },
            "colorscale": [
             [
              0,
              "#0d0887"
             ],
             [
              0.1111111111111111,
              "#46039f"
             ],
             [
              0.2222222222222222,
              "#7201a8"
             ],
             [
              0.3333333333333333,
              "#9c179e"
             ],
             [
              0.4444444444444444,
              "#bd3786"
             ],
             [
              0.5555555555555556,
              "#d8576b"
             ],
             [
              0.6666666666666666,
              "#ed7953"
             ],
             [
              0.7777777777777778,
              "#fb9f3a"
             ],
             [
              0.8888888888888888,
              "#fdca26"
             ],
             [
              1,
              "#f0f921"
             ]
            ],
            "type": "histogram2dcontour"
           }
          ],
          "mesh3d": [
           {
            "colorbar": {
             "outlinewidth": 0,
             "ticks": ""
            },
            "type": "mesh3d"
           }
          ],
          "parcoords": [
           {
            "line": {
             "colorbar": {
              "outlinewidth": 0,
              "ticks": ""
             }
            },
            "type": "parcoords"
           }
          ],
          "pie": [
           {
            "automargin": true,
            "type": "pie"
           }
          ],
          "scatter": [
           {
            "fillpattern": {
             "fillmode": "overlay",
             "size": 10,
             "solidity": 0.2
            },
            "type": "scatter"
           }
          ],
          "scatter3d": [
           {
            "line": {
             "colorbar": {
              "outlinewidth": 0,
              "ticks": ""
             }
            },
            "marker": {
             "colorbar": {
              "outlinewidth": 0,
              "ticks": ""
             }
            },
            "type": "scatter3d"
           }
          ],
          "scattercarpet": [
           {
            "marker": {
             "colorbar": {
              "outlinewidth": 0,
              "ticks": ""
             }
            },
            "type": "scattercarpet"
           }
          ],
          "scattergeo": [
           {
            "marker": {
             "colorbar": {
              "outlinewidth": 0,
              "ticks": ""
             }
            },
            "type": "scattergeo"
           }
          ],
          "scattergl": [
           {
            "marker": {
             "colorbar": {
              "outlinewidth": 0,
              "ticks": ""
             }
            },
            "type": "scattergl"
           }
          ],
          "scattermapbox": [
           {
            "marker": {
             "colorbar": {
              "outlinewidth": 0,
              "ticks": ""
             }
            },
            "type": "scattermapbox"
           }
          ],
          "scatterpolar": [
           {
            "marker": {
             "colorbar": {
              "outlinewidth": 0,
              "ticks": ""
             }
            },
            "type": "scatterpolar"
           }
          ],
          "scatterpolargl": [
           {
            "marker": {
             "colorbar": {
              "outlinewidth": 0,
              "ticks": ""
             }
            },
            "type": "scatterpolargl"
           }
          ],
          "scatterternary": [
           {
            "marker": {
             "colorbar": {
              "outlinewidth": 0,
              "ticks": ""
             }
            },
            "type": "scatterternary"
           }
          ],
          "surface": [
           {
            "colorbar": {
             "outlinewidth": 0,
             "ticks": ""
            },
            "colorscale": [
             [
              0,
              "#0d0887"
             ],
             [
              0.1111111111111111,
              "#46039f"
             ],
             [
              0.2222222222222222,
              "#7201a8"
             ],
             [
              0.3333333333333333,
              "#9c179e"
             ],
             [
              0.4444444444444444,
              "#bd3786"
             ],
             [
              0.5555555555555556,
              "#d8576b"
             ],
             [
              0.6666666666666666,
              "#ed7953"
             ],
             [
              0.7777777777777778,
              "#fb9f3a"
             ],
             [
              0.8888888888888888,
              "#fdca26"
             ],
             [
              1,
              "#f0f921"
             ]
            ],
            "type": "surface"
           }
          ],
          "table": [
           {
            "cells": {
             "fill": {
              "color": "#EBF0F8"
             },
             "line": {
              "color": "white"
             }
            },
            "header": {
             "fill": {
              "color": "#C8D4E3"
             },
             "line": {
              "color": "white"
             }
            },
            "type": "table"
           }
          ]
         },
         "layout": {
          "annotationdefaults": {
           "arrowcolor": "#2a3f5f",
           "arrowhead": 0,
           "arrowwidth": 1
          },
          "autotypenumbers": "strict",
          "coloraxis": {
           "colorbar": {
            "outlinewidth": 0,
            "ticks": ""
           }
          },
          "colorscale": {
           "diverging": [
            [
             0,
             "#8e0152"
            ],
            [
             0.1,
             "#c51b7d"
            ],
            [
             0.2,
             "#de77ae"
            ],
            [
             0.3,
             "#f1b6da"
            ],
            [
             0.4,
             "#fde0ef"
            ],
            [
             0.5,
             "#f7f7f7"
            ],
            [
             0.6,
             "#e6f5d0"
            ],
            [
             0.7,
             "#b8e186"
            ],
            [
             0.8,
             "#7fbc41"
            ],
            [
             0.9,
             "#4d9221"
            ],
            [
             1,
             "#276419"
            ]
           ],
           "sequential": [
            [
             0,
             "#0d0887"
            ],
            [
             0.1111111111111111,
             "#46039f"
            ],
            [
             0.2222222222222222,
             "#7201a8"
            ],
            [
             0.3333333333333333,
             "#9c179e"
            ],
            [
             0.4444444444444444,
             "#bd3786"
            ],
            [
             0.5555555555555556,
             "#d8576b"
            ],
            [
             0.6666666666666666,
             "#ed7953"
            ],
            [
             0.7777777777777778,
             "#fb9f3a"
            ],
            [
             0.8888888888888888,
             "#fdca26"
            ],
            [
             1,
             "#f0f921"
            ]
           ],
           "sequentialminus": [
            [
             0,
             "#0d0887"
            ],
            [
             0.1111111111111111,
             "#46039f"
            ],
            [
             0.2222222222222222,
             "#7201a8"
            ],
            [
             0.3333333333333333,
             "#9c179e"
            ],
            [
             0.4444444444444444,
             "#bd3786"
            ],
            [
             0.5555555555555556,
             "#d8576b"
            ],
            [
             0.6666666666666666,
             "#ed7953"
            ],
            [
             0.7777777777777778,
             "#fb9f3a"
            ],
            [
             0.8888888888888888,
             "#fdca26"
            ],
            [
             1,
             "#f0f921"
            ]
           ]
          },
          "colorway": [
           "#636efa",
           "#EF553B",
           "#00cc96",
           "#ab63fa",
           "#FFA15A",
           "#19d3f3",
           "#FF6692",
           "#B6E880",
           "#FF97FF",
           "#FECB52"
          ],
          "font": {
           "color": "#2a3f5f"
          },
          "geo": {
           "bgcolor": "white",
           "lakecolor": "white",
           "landcolor": "#E5ECF6",
           "showlakes": true,
           "showland": true,
           "subunitcolor": "white"
          },
          "hoverlabel": {
           "align": "left"
          },
          "hovermode": "closest",
          "mapbox": {
           "style": "light"
          },
          "paper_bgcolor": "white",
          "plot_bgcolor": "#E5ECF6",
          "polar": {
           "angularaxis": {
            "gridcolor": "white",
            "linecolor": "white",
            "ticks": ""
           },
           "bgcolor": "#E5ECF6",
           "radialaxis": {
            "gridcolor": "white",
            "linecolor": "white",
            "ticks": ""
           }
          },
          "scene": {
           "xaxis": {
            "backgroundcolor": "#E5ECF6",
            "gridcolor": "white",
            "gridwidth": 2,
            "linecolor": "white",
            "showbackground": true,
            "ticks": "",
            "zerolinecolor": "white"
           },
           "yaxis": {
            "backgroundcolor": "#E5ECF6",
            "gridcolor": "white",
            "gridwidth": 2,
            "linecolor": "white",
            "showbackground": true,
            "ticks": "",
            "zerolinecolor": "white"
           },
           "zaxis": {
            "backgroundcolor": "#E5ECF6",
            "gridcolor": "white",
            "gridwidth": 2,
            "linecolor": "white",
            "showbackground": true,
            "ticks": "",
            "zerolinecolor": "white"
           }
          },
          "shapedefaults": {
           "line": {
            "color": "#2a3f5f"
           }
          },
          "ternary": {
           "aaxis": {
            "gridcolor": "white",
            "linecolor": "white",
            "ticks": ""
           },
           "baxis": {
            "gridcolor": "white",
            "linecolor": "white",
            "ticks": ""
           },
           "bgcolor": "#E5ECF6",
           "caxis": {
            "gridcolor": "white",
            "linecolor": "white",
            "ticks": ""
           }
          },
          "title": {
           "x": 0.05
          },
          "xaxis": {
           "automargin": true,
           "gridcolor": "white",
           "linecolor": "white",
           "ticks": "",
           "title": {
            "standoff": 15
           },
           "zerolinecolor": "white",
           "zerolinewidth": 2
          },
          "yaxis": {
           "automargin": true,
           "gridcolor": "white",
           "linecolor": "white",
           "ticks": "",
           "title": {
            "standoff": 15
           },
           "zerolinecolor": "white",
           "zerolinewidth": 2
          }
         }
        },
        "title": {
         "text": "Average number of releases per day of week"
        },
        "xaxis": {
         "anchor": "y",
         "categoryarray": [
          "Monday",
          "Tuesday",
          "Wednesday",
          "Thursday",
          "Friday",
          "Saturday",
          "Sunday"
         ],
         "categoryorder": "array",
         "domain": [
          0,
          1
         ],
         "title": {
          "text": "Release Day of Week"
         }
        },
        "yaxis": {
         "anchor": "x",
         "domain": [
          0,
          1
         ],
         "title": {
          "text": "Avg. Number of releases"
         }
        }
       }
      }
     },
     "metadata": {},
     "output_type": "display_data"
    }
   ],
   "source": [
    "releases_per_day_of_week = releases_over_time.groupby(['day_of_week'])['num_releases'].mean().reset_index()\n",
    "releases_per_day_of_week['num_releases'] = releases_per_day_of_week['num_releases'].astype('int')\n",
    "fig = px.bar(releases_per_day_of_week, x='day_of_week', y='num_releases', title='Average number of releases per day of week',\n",
    "       category_orders= {'day_of_week': calendar.day_name[0:]})\n",
    "fig.update_layout(xaxis_title='Release Day of Week', yaxis_title='Avg. Number of releases', autosize=False)\n",
    "fig.show()"
   ]
  },
  {
   "cell_type": "markdown",
   "metadata": {},
   "source": [
    "We can say from above graphs:\n",
    "- Number of releases has increased over the years until 2020 when it started to decline, mostly due to covid crisis.\n",
    "- There is no clear pattern in the number of releases per month. We can just say that the month with the most releases on average is July, and the one with the least releases on average is February.\n",
    "- Most releases happen on the first of the month. Then, there are two other smaller peaks on the 15th of the month and at the end of the month. By releasing content of the same day each month, it makes it easier for subscribers to remember when new content will be available on the plateform. Also, it's probably part of a scheduling strategy from Netflix where they decide what new content should be published each month.\n",
    "- Most releases are done on Fridays. This could be a strategy from Netflix to get people to watch new content during the week-end."
   ]
  }
 ],
 "metadata": {
  "kernelspec": {
   "display_name": "Python 3",
   "language": "python",
   "name": "python3"
  },
  "language_info": {
   "codemirror_mode": {
    "name": "ipython",
    "version": 3
   },
   "file_extension": ".py",
   "mimetype": "text/x-python",
   "name": "python",
   "nbconvert_exporter": "python",
   "pygments_lexer": "ipython3",
   "version": "3.11.4"
  }
 },
 "nbformat": 4,
 "nbformat_minor": 2
}
